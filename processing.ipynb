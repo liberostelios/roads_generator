{
 "cells": [
  {
   "cell_type": "markdown",
   "metadata": {},
   "source": [
    "# Import basic libraries\n",
    "\n",
    "Let's import some basic stuff"
   ]
  },
  {
   "cell_type": "markdown",
   "metadata": {},
   "source": [
    "## TODO\n",
    "- Add the nodes in the CityJSON file, keeping the relationships between nodes and edges (linestrings). The nodes have semantics and atttributes.\n",
    "- Find a small area and compute widths.\n",
    "- Create LoD0.1 with single lines and attributes for two-way and same for LoD0.2."
   ]
  },
  {
   "cell_type": "markdown",
   "metadata": {},
   "source": [
    "# Ideas for modelling\n",
    "\n",
    "1. Every city object contains `MultiPoints` (nodes of LoD0.1), `MultiLineStrings` (edges of LoD0.1) and `MultiSurfaces `(for LoD1+).\n",
    "2. Every city object contains `MultiLineStrings` (geometry of edges of LoD0.1) and `MultiSurfaces` (for LoD1+). The network topology (nodes and edges) is defined in its own `\"+network\"` portion of the city model.\n",
    "3. Every city object has its own `MultiSurfaces` (for LoD1+). Then the actual network (nodes, edges and their geometry) is stored in `\"+network\"`.\n",
    "4. Every node is its own city object. Every edge is its own city object. Every surface is its own city object. Then `CityObjectGroups` are used to relate them."
   ]
  },
  {
   "cell_type": "markdown",
   "metadata": {},
   "source": [
    "### Fix for `fiona`\n",
    "\n",
    "*`fiona` has an issue with GDAL 3.0. Better set your `GDAL_DATA` path to fiona's installation (contains GDAL 2.4.4) prior to running this script.*"
   ]
  },
  {
   "cell_type": "code",
   "execution_count": 1,
   "metadata": {},
   "outputs": [],
   "source": [
    "import geopandas\n",
    "import pandas as pd\n",
    "import osmnx as ox\n",
    "import networkx as nx\n",
    "import shapely"
   ]
  },
  {
   "cell_type": "markdown",
   "metadata": {},
   "source": [
    "# Load the OSM data\n",
    "\n",
    "This will load the osm file to a network"
   ]
  },
  {
   "cell_type": "code",
   "execution_count": 2,
   "metadata": {},
   "outputs": [],
   "source": [
    "# We don't want edges to be loaded twice\n",
    "ox.config(all_oneway=True)\n",
    "\n",
    "network_graph = ox.graph_from_file('../data/Breda/Breda extract.osm', simplify=False)\n",
    "# We simplify the graph afterwards, so that osmids are not \"smashed\" together\n",
    "network_graph = ox.simplify_graph(network_graph, strict=False)"
   ]
  },
  {
   "cell_type": "markdown",
   "metadata": {},
   "source": [
    "We create `UUID` for every edge:"
   ]
  },
  {
   "cell_type": "code",
   "execution_count": 3,
   "metadata": {},
   "outputs": [],
   "source": [
    "import uuid\n",
    "import hashlib\n",
    "import json\n",
    "from cityhash import CityHash32\n",
    "\n",
    "hashes = []\n",
    "for u,v,a in network_graph.edges(data=True):\n",
    "    temp = {\n",
    "        \"osmid\": a['osmid'],\n",
    "        \"length\": a['length']\n",
    "    }\n",
    "    a['uuid'] = CityHash32(uuid.uuid4().hex)\n",
    "    hashes.append(a['uuid'])\n",
    "\n",
    "assert len(hashes) == len(set(hashes))"
   ]
  },
  {
   "cell_type": "markdown",
   "metadata": {},
   "source": [
    "Then we export the edges to a GeoDataFrame:"
   ]
  },
  {
   "cell_type": "code",
   "execution_count": 345,
   "metadata": {},
   "outputs": [
    {
     "data": {
      "text/plain": [
       "9856"
      ]
     },
     "execution_count": 345,
     "metadata": {},
     "output_type": "execute_result"
    }
   ],
   "source": [
    "nodes, edges = ox.graph_to_gdfs(network_graph)\n",
    "\n",
    "edges = edges.to_crs(\"EPSG:28992\")\n",
    "\n",
    "len(edges)"
   ]
  },
  {
   "cell_type": "code",
   "execution_count": 348,
   "metadata": {},
   "outputs": [],
   "source": [
    "nodes.to_file('output/nodes.geojson', driver='GeoJSON')"
   ]
  },
  {
   "cell_type": "markdown",
   "metadata": {},
   "source": [
    "## Filter drive and service roads only\n",
    "\n",
    "Filter roads to only motorways:"
   ]
  },
  {
   "cell_type": "code",
   "execution_count": 6,
   "metadata": {},
   "outputs": [
    {
     "data": {
      "text/plain": [
       "685"
      ]
     },
     "execution_count": 6,
     "metadata": {},
     "output_type": "execute_result"
    }
   ],
   "source": [
    "highway_types = [\n",
    "    \"primary\",\n",
    "    \"secondary\",\n",
    "    \"motorway\",\n",
    "    \"trunk\",\n",
    "    \"tertiary\",\n",
    "    \"unclassified\",\n",
    "    \"residential\",\n",
    "\n",
    "    \"motorway_link\",\n",
    "    \"trunk_link\",\n",
    "    \"primary_link\",\n",
    "    \"secondary_link\",\n",
    "    \"tertiary_link\",\n",
    "\n",
    "    \"living_street\",\n",
    "    \"service\",\n",
    "    \"pedestrian\",\n",
    "    \"track\",\n",
    "    \"bus_guideway\",\n",
    "    \"escape\",\n",
    "    \"raceway\",\n",
    "    \"road\"\n",
    "]\n",
    "\n",
    "road_edges = edges[(edges['highway'].isin(highway_types)) & (edges['area'] != 'yes')]\n",
    "\n",
    "road_edges.to_file('output/road_edges.geojson', driver='GeoJSON')\n",
    "len(road_edges)"
   ]
  },
  {
   "cell_type": "code",
   "execution_count": 7,
   "metadata": {},
   "outputs": [
    {
     "data": {
      "text/html": [
       "<div>\n",
       "<style scoped>\n",
       "    .dataframe tbody tr th:only-of-type {\n",
       "        vertical-align: middle;\n",
       "    }\n",
       "\n",
       "    .dataframe tbody tr th {\n",
       "        vertical-align: top;\n",
       "    }\n",
       "\n",
       "    .dataframe thead th {\n",
       "        text-align: right;\n",
       "    }\n",
       "</style>\n",
       "<table border=\"1\" class=\"dataframe\">\n",
       "  <thead>\n",
       "    <tr style=\"text-align: right;\">\n",
       "      <th></th>\n",
       "      <th>u</th>\n",
       "      <th>v</th>\n",
       "      <th>key</th>\n",
       "      <th>osmid</th>\n",
       "      <th>name</th>\n",
       "      <th>area</th>\n",
       "      <th>highway</th>\n",
       "      <th>length</th>\n",
       "      <th>uuid</th>\n",
       "      <th>geometry</th>\n",
       "      <th>oneway</th>\n",
       "      <th>maxspeed</th>\n",
       "      <th>landuse</th>\n",
       "      <th>access</th>\n",
       "      <th>bridge</th>\n",
       "      <th>tunnel</th>\n",
       "      <th>service</th>\n",
       "      <th>lanes</th>\n",
       "      <th>ref</th>\n",
       "      <th>width</th>\n",
       "    </tr>\n",
       "  </thead>\n",
       "  <tbody>\n",
       "    <tr>\n",
       "      <th>52</th>\n",
       "      <td>6450151604</td>\n",
       "      <td>43136448</td>\n",
       "      <td>0</td>\n",
       "      <td>7224397</td>\n",
       "      <td>Keizerstraat</td>\n",
       "      <td>NaN</td>\n",
       "      <td>tertiary</td>\n",
       "      <td>10.281</td>\n",
       "      <td>3206435346</td>\n",
       "      <td>LINESTRING (112852.058 399899.616, 112851.205 ...</td>\n",
       "      <td>yes</td>\n",
       "      <td>50</td>\n",
       "      <td>NaN</td>\n",
       "      <td>NaN</td>\n",
       "      <td>NaN</td>\n",
       "      <td>NaN</td>\n",
       "      <td>NaN</td>\n",
       "      <td>NaN</td>\n",
       "      <td>NaN</td>\n",
       "      <td>NaN</td>\n",
       "    </tr>\n",
       "    <tr>\n",
       "      <th>94</th>\n",
       "      <td>43155685</td>\n",
       "      <td>4454022829</td>\n",
       "      <td>0</td>\n",
       "      <td>7225340</td>\n",
       "      <td>NaN</td>\n",
       "      <td>NaN</td>\n",
       "      <td>service</td>\n",
       "      <td>8.436</td>\n",
       "      <td>4209164125</td>\n",
       "      <td>LINESTRING (112517.886 400392.439, 112520.296 ...</td>\n",
       "      <td>NaN</td>\n",
       "      <td>NaN</td>\n",
       "      <td>NaN</td>\n",
       "      <td>no</td>\n",
       "      <td>yes</td>\n",
       "      <td>NaN</td>\n",
       "      <td>NaN</td>\n",
       "      <td>NaN</td>\n",
       "      <td>NaN</td>\n",
       "      <td>NaN</td>\n",
       "    </tr>\n",
       "    <tr>\n",
       "      <th>99</th>\n",
       "      <td>1642954984</td>\n",
       "      <td>2197761851</td>\n",
       "      <td>0</td>\n",
       "      <td>7224390</td>\n",
       "      <td>Kloosterplein</td>\n",
       "      <td>NaN</td>\n",
       "      <td>tertiary</td>\n",
       "      <td>5.654</td>\n",
       "      <td>3383959076</td>\n",
       "      <td>LINESTRING (112993.855 400056.230, 112999.227 ...</td>\n",
       "      <td>yes</td>\n",
       "      <td>50</td>\n",
       "      <td>NaN</td>\n",
       "      <td>NaN</td>\n",
       "      <td>NaN</td>\n",
       "      <td>NaN</td>\n",
       "      <td>NaN</td>\n",
       "      <td>NaN</td>\n",
       "      <td>NaN</td>\n",
       "      <td>NaN</td>\n",
       "    </tr>\n",
       "    <tr>\n",
       "      <th>101</th>\n",
       "      <td>1642954984</td>\n",
       "      <td>43142237</td>\n",
       "      <td>0</td>\n",
       "      <td>7224394</td>\n",
       "      <td>Vlaszak</td>\n",
       "      <td>NaN</td>\n",
       "      <td>tertiary</td>\n",
       "      <td>8.249</td>\n",
       "      <td>1100907897</td>\n",
       "      <td>LINESTRING (112993.855 400056.230, 112994.962 ...</td>\n",
       "      <td>yes</td>\n",
       "      <td>50</td>\n",
       "      <td>NaN</td>\n",
       "      <td>NaN</td>\n",
       "      <td>NaN</td>\n",
       "      <td>NaN</td>\n",
       "      <td>NaN</td>\n",
       "      <td>NaN</td>\n",
       "      <td>NaN</td>\n",
       "      <td>NaN</td>\n",
       "    </tr>\n",
       "    <tr>\n",
       "      <th>125</th>\n",
       "      <td>1401651638</td>\n",
       "      <td>2731824407</td>\n",
       "      <td>0</td>\n",
       "      <td>126447044</td>\n",
       "      <td>Sint Janstraat</td>\n",
       "      <td>NaN</td>\n",
       "      <td>pedestrian</td>\n",
       "      <td>7.449</td>\n",
       "      <td>4047054856</td>\n",
       "      <td>LINESTRING (112787.440 400066.830, 112783.461 ...</td>\n",
       "      <td>NaN</td>\n",
       "      <td>NaN</td>\n",
       "      <td>NaN</td>\n",
       "      <td>NaN</td>\n",
       "      <td>NaN</td>\n",
       "      <td>yes</td>\n",
       "      <td>NaN</td>\n",
       "      <td>NaN</td>\n",
       "      <td>NaN</td>\n",
       "      <td>NaN</td>\n",
       "    </tr>\n",
       "  </tbody>\n",
       "</table>\n",
       "</div>"
      ],
      "text/plain": [
       "              u           v  key      osmid            name area     highway  \\\n",
       "52   6450151604    43136448    0    7224397    Keizerstraat  NaN    tertiary   \n",
       "94     43155685  4454022829    0    7225340             NaN  NaN     service   \n",
       "99   1642954984  2197761851    0    7224390   Kloosterplein  NaN    tertiary   \n",
       "101  1642954984    43142237    0    7224394         Vlaszak  NaN    tertiary   \n",
       "125  1401651638  2731824407    0  126447044  Sint Janstraat  NaN  pedestrian   \n",
       "\n",
       "     length        uuid                                           geometry  \\\n",
       "52   10.281  3206435346  LINESTRING (112852.058 399899.616, 112851.205 ...   \n",
       "94    8.436  4209164125  LINESTRING (112517.886 400392.439, 112520.296 ...   \n",
       "99    5.654  3383959076  LINESTRING (112993.855 400056.230, 112999.227 ...   \n",
       "101   8.249  1100907897  LINESTRING (112993.855 400056.230, 112994.962 ...   \n",
       "125   7.449  4047054856  LINESTRING (112787.440 400066.830, 112783.461 ...   \n",
       "\n",
       "    oneway maxspeed landuse access bridge tunnel service lanes  ref width  \n",
       "52     yes       50     NaN    NaN    NaN    NaN     NaN   NaN  NaN   NaN  \n",
       "94     NaN      NaN     NaN     no    yes    NaN     NaN   NaN  NaN   NaN  \n",
       "99     yes       50     NaN    NaN    NaN    NaN     NaN   NaN  NaN   NaN  \n",
       "101    yes       50     NaN    NaN    NaN    NaN     NaN   NaN  NaN   NaN  \n",
       "125    NaN      NaN     NaN    NaN    NaN    yes     NaN   NaN  NaN   NaN  "
      ]
     },
     "execution_count": 7,
     "metadata": {},
     "output_type": "execute_result"
    }
   ],
   "source": [
    "road_edges.head()"
   ]
  },
  {
   "cell_type": "markdown",
   "metadata": {},
   "source": [
    "# Load the BGT data"
   ]
  },
  {
   "cell_type": "code",
   "execution_count": 8,
   "metadata": {
    "scrolled": false
   },
   "outputs": [
    {
     "data": {
      "text/plain": [
       "38859"
      ]
     },
     "execution_count": 8,
     "metadata": {},
     "output_type": "execute_result"
    }
   ],
   "source": [
    "bgt_roads = geopandas.read_file('../data/Breda/bgt_roads.geojson')\n",
    "\n",
    "len(bgt_roads)"
   ]
  },
  {
   "cell_type": "markdown",
   "metadata": {},
   "source": [
    "## Compute primary-secondary road polygons\n",
    "\n",
    "We need to assign secondary road polygons (parking spaces, sidewalks) to the primary roads\n",
    "\n",
    "### Filter primary roads\n",
    "\n",
    "Primary types are those that vehicles are supposed to move:"
   ]
  },
  {
   "cell_type": "code",
   "execution_count": 9,
   "metadata": {},
   "outputs": [
    {
     "data": {
      "text/plain": [
       "6899"
      ]
     },
     "execution_count": 9,
     "metadata": {},
     "output_type": "execute_result"
    }
   ],
   "source": [
    "bgt_road_types = [\n",
    "    'rijbaan lokale weg',\n",
    "    'rijbaan regionale weg',\n",
    "    # 'overweg' # Maybe?\n",
    "]\n",
    "\n",
    "bgt_roads =  bgt_roads[bgt_roads['eindRegistratie'].isnull()]\n",
    "\n",
    "bgt_roads['parent_gml_id'] = bgt_roads['gml_id']\n",
    "\n",
    "bgt_main_roads = bgt_roads[bgt_roads['function'].isin(bgt_road_types)]\n",
    "\n",
    "len(bgt_main_roads)"
   ]
  },
  {
   "cell_type": "markdown",
   "metadata": {},
   "source": [
    "### Identify parent for every secondary road\n",
    "\n",
    "Find the secondary roads that touch the main ones:"
   ]
  },
  {
   "cell_type": "code",
   "execution_count": 10,
   "metadata": {},
   "outputs": [
    {
     "data": {
      "text/plain": [
       "19551"
      ]
     },
     "execution_count": 10,
     "metadata": {},
     "output_type": "execute_result"
    }
   ],
   "source": [
    "bgt_secondary_roads = bgt_roads[~bgt_roads['function'].isin(bgt_road_types)]\n",
    "\n",
    "len(bgt_secondary_roads)"
   ]
  },
  {
   "cell_type": "markdown",
   "metadata": {},
   "source": [
    "Let's overlay the secondary roads with the main roads. The result should be (mostly) linestrings accross their common boundaries:"
   ]
  },
  {
   "cell_type": "code",
   "execution_count": 12,
   "metadata": {},
   "outputs": [
    {
     "data": {
      "text/plain": [
       "29544"
      ]
     },
     "execution_count": 12,
     "metadata": {},
     "output_type": "execute_result"
    }
   ],
   "source": [
    "bgt_common_boundaries = geopandas.overlay(bgt_secondary_roads, bgt_main_roads, how='intersection', keep_geom_type=False)\n",
    "\n",
    "len(bgt_common_boundaries)"
   ]
  },
  {
   "cell_type": "markdown",
   "metadata": {},
   "source": [
    "We need to compute the longest common boundary per `gml_id` to pick the respective parent `gml_id`:"
   ]
  },
  {
   "cell_type": "code",
   "execution_count": 13,
   "metadata": {},
   "outputs": [],
   "source": [
    "bgt_common_boundaries['length'] = bgt_common_boundaries['geometry'].length\n",
    "\n",
    "max_rows = bgt_common_boundaries[['gml_id_1', 'function_1', 'gml_id_2', 'geometry', 'length']].groupby('gml_id_1')['length'].idxmax()"
   ]
  },
  {
   "cell_type": "markdown",
   "metadata": {},
   "source": [
    "Now, let's join this with the original secondary rows table to bring back their original geometries:"
   ]
  },
  {
   "cell_type": "code",
   "execution_count": 14,
   "metadata": {},
   "outputs": [
    {
     "data": {
      "text/plain": [
       "14235"
      ]
     },
     "execution_count": 14,
     "metadata": {},
     "output_type": "execute_result"
    }
   ],
   "source": [
    "temp_roads = bgt_common_boundaries.loc[max_rows]\n",
    "temp_roads = temp_roads[['gml_id_1', 'function_1', 'gml_id_2', 'geometry']]\n",
    "temp_roads = temp_roads.rename(columns={'gml_id_1': 'gml_id', 'function_1': 'function', 'gml_id_2': 'parent_gml_id'})\n",
    "temp_roads = temp_roads.set_index('gml_id')\n",
    "\n",
    "bgt_roads_parented = temp_roads.merge(bgt_secondary_roads.set_index('gml_id'), on='gml_id', suffixes=('', '_right'))\n",
    "bgt_roads_parented = bgt_roads_parented[['function', 'parent_gml_id', 'geometry_right']].rename(columns={'geometry_right': 'geometry'})\n",
    "bgt_roads_parented = bgt_roads_parented.reset_index()\n",
    "\n",
    "bgt_roads_parented = geopandas.GeoDataFrame(bgt_roads_parented, crs='EPSG:28992')\n",
    "\n",
    "len(bgt_roads_parented)"
   ]
  },
  {
   "cell_type": "markdown",
   "metadata": {},
   "source": [
    "### Merge primary and secondary roads\n",
    "\n",
    "Concatenate everything:"
   ]
  },
  {
   "cell_type": "code",
   "execution_count": 15,
   "metadata": {},
   "outputs": [
    {
     "data": {
      "text/plain": [
       "21134"
      ]
     },
     "execution_count": 15,
     "metadata": {},
     "output_type": "execute_result"
    }
   ],
   "source": [
    "bgt_all_roads = pd.concat([bgt_roads_parented, bgt_main_roads[['gml_id', 'function', 'parent_gml_id', 'geometry']]])\n",
    "\n",
    "bgt_all_roads.to_file('output/bgt_all_roads.geojson', driver='GeoJSON')\n",
    "\n",
    "len(bgt_all_roads)"
   ]
  },
  {
   "cell_type": "markdown",
   "metadata": {},
   "source": [
    "# Intersect roads network with polygon\n",
    "First, we intersect the road lines with the BGT polygons (to create nodes at the polygon boundaries):"
   ]
  },
  {
   "cell_type": "code",
   "execution_count": 16,
   "metadata": {},
   "outputs": [],
   "source": [
    "roads = geopandas.overlay(road_edges, bgt_all_roads, how='intersection')"
   ]
  },
  {
   "cell_type": "markdown",
   "metadata": {},
   "source": [
    "Export the intersected roads to `GeoJSON`:"
   ]
  },
  {
   "cell_type": "code",
   "execution_count": 17,
   "metadata": {
    "scrolled": false
   },
   "outputs": [
    {
     "data": {
      "text/html": [
       "<div>\n",
       "<style scoped>\n",
       "    .dataframe tbody tr th:only-of-type {\n",
       "        vertical-align: middle;\n",
       "    }\n",
       "\n",
       "    .dataframe tbody tr th {\n",
       "        vertical-align: top;\n",
       "    }\n",
       "\n",
       "    .dataframe thead th {\n",
       "        text-align: right;\n",
       "    }\n",
       "</style>\n",
       "<table border=\"1\" class=\"dataframe\">\n",
       "  <thead>\n",
       "    <tr style=\"text-align: right;\">\n",
       "      <th></th>\n",
       "      <th>u</th>\n",
       "      <th>v</th>\n",
       "      <th>key</th>\n",
       "      <th>osmid</th>\n",
       "      <th>name</th>\n",
       "      <th>area</th>\n",
       "      <th>highway</th>\n",
       "      <th>length</th>\n",
       "      <th>uuid</th>\n",
       "      <th>oneway</th>\n",
       "      <th>...</th>\n",
       "      <th>bridge</th>\n",
       "      <th>tunnel</th>\n",
       "      <th>service</th>\n",
       "      <th>lanes</th>\n",
       "      <th>ref</th>\n",
       "      <th>width</th>\n",
       "      <th>gml_id</th>\n",
       "      <th>function</th>\n",
       "      <th>parent_gml_id</th>\n",
       "      <th>geometry</th>\n",
       "    </tr>\n",
       "  </thead>\n",
       "  <tbody>\n",
       "    <tr>\n",
       "      <th>0</th>\n",
       "      <td>6450151604</td>\n",
       "      <td>43136448</td>\n",
       "      <td>0</td>\n",
       "      <td>7224397</td>\n",
       "      <td>Keizerstraat</td>\n",
       "      <td>NaN</td>\n",
       "      <td>tertiary</td>\n",
       "      <td>10.281</td>\n",
       "      <td>3206435346</td>\n",
       "      <td>yes</td>\n",
       "      <td>...</td>\n",
       "      <td>NaN</td>\n",
       "      <td>NaN</td>\n",
       "      <td>NaN</td>\n",
       "      <td>NaN</td>\n",
       "      <td>NaN</td>\n",
       "      <td>NaN</td>\n",
       "      <td>b7242fa64-c535-4445-be1c-7bfbe7f9564f</td>\n",
       "      <td>fietspad</td>\n",
       "      <td>bebfd7ae6-7fd0-4d2a-b300-ba3b13525b4d</td>\n",
       "      <td>LINESTRING (112850.872 399908.820, 112850.743 ...</td>\n",
       "    </tr>\n",
       "    <tr>\n",
       "      <th>1</th>\n",
       "      <td>43136448</td>\n",
       "      <td>43136804</td>\n",
       "      <td>0</td>\n",
       "      <td>7224397</td>\n",
       "      <td>Keizerstraat</td>\n",
       "      <td>NaN</td>\n",
       "      <td>tertiary</td>\n",
       "      <td>13.041</td>\n",
       "      <td>2558797229</td>\n",
       "      <td>yes</td>\n",
       "      <td>...</td>\n",
       "      <td>NaN</td>\n",
       "      <td>NaN</td>\n",
       "      <td>NaN</td>\n",
       "      <td>NaN</td>\n",
       "      <td>NaN</td>\n",
       "      <td>NaN</td>\n",
       "      <td>b7242fa64-c535-4445-be1c-7bfbe7f9564f</td>\n",
       "      <td>fietspad</td>\n",
       "      <td>bebfd7ae6-7fd0-4d2a-b300-ba3b13525b4d</td>\n",
       "      <td>LINESTRING (112850.743 399909.818, 112850.605 ...</td>\n",
       "    </tr>\n",
       "    <tr>\n",
       "      <th>2</th>\n",
       "      <td>6450151604</td>\n",
       "      <td>43136448</td>\n",
       "      <td>0</td>\n",
       "      <td>7224397</td>\n",
       "      <td>Keizerstraat</td>\n",
       "      <td>NaN</td>\n",
       "      <td>tertiary</td>\n",
       "      <td>10.281</td>\n",
       "      <td>3206435346</td>\n",
       "      <td>yes</td>\n",
       "      <td>...</td>\n",
       "      <td>NaN</td>\n",
       "      <td>NaN</td>\n",
       "      <td>NaN</td>\n",
       "      <td>NaN</td>\n",
       "      <td>NaN</td>\n",
       "      <td>NaN</td>\n",
       "      <td>b1f4910c2-00c3-4fce-856a-847a5e337f16</td>\n",
       "      <td>rijbaan lokale weg</td>\n",
       "      <td>b1f4910c2-00c3-4fce-856a-847a5e337f16</td>\n",
       "      <td>LINESTRING (112852.058 399899.616, 112851.205 ...</td>\n",
       "    </tr>\n",
       "    <tr>\n",
       "      <th>3</th>\n",
       "      <td>43132022</td>\n",
       "      <td>6450151604</td>\n",
       "      <td>0</td>\n",
       "      <td>7224415</td>\n",
       "      <td>Keizerstraat</td>\n",
       "      <td>NaN</td>\n",
       "      <td>tertiary</td>\n",
       "      <td>82.845</td>\n",
       "      <td>518123154</td>\n",
       "      <td>yes</td>\n",
       "      <td>...</td>\n",
       "      <td>NaN</td>\n",
       "      <td>NaN</td>\n",
       "      <td>NaN</td>\n",
       "      <td>NaN</td>\n",
       "      <td>NaN</td>\n",
       "      <td>NaN</td>\n",
       "      <td>b1f4910c2-00c3-4fce-856a-847a5e337f16</td>\n",
       "      <td>rijbaan lokale weg</td>\n",
       "      <td>b1f4910c2-00c3-4fce-856a-847a5e337f16</td>\n",
       "      <td>LINESTRING (112857.519 399822.959, 112858.531 ...</td>\n",
       "    </tr>\n",
       "    <tr>\n",
       "      <th>4</th>\n",
       "      <td>43155685</td>\n",
       "      <td>4454022829</td>\n",
       "      <td>0</td>\n",
       "      <td>7225340</td>\n",
       "      <td>NaN</td>\n",
       "      <td>NaN</td>\n",
       "      <td>service</td>\n",
       "      <td>8.436</td>\n",
       "      <td>4209164125</td>\n",
       "      <td>NaN</td>\n",
       "      <td>...</td>\n",
       "      <td>yes</td>\n",
       "      <td>NaN</td>\n",
       "      <td>NaN</td>\n",
       "      <td>NaN</td>\n",
       "      <td>NaN</td>\n",
       "      <td>NaN</td>\n",
       "      <td>b7bfd8ed3-cf75-40ac-9af4-7b06596a7879</td>\n",
       "      <td>rijbaan lokale weg</td>\n",
       "      <td>b7bfd8ed3-cf75-40ac-9af4-7b06596a7879</td>\n",
       "      <td>LINESTRING (112517.886 400392.439, 112520.230 ...</td>\n",
       "    </tr>\n",
       "  </tbody>\n",
       "</table>\n",
       "<p>5 rows × 23 columns</p>\n",
       "</div>"
      ],
      "text/plain": [
       "            u           v  key    osmid          name area   highway  length  \\\n",
       "0  6450151604    43136448    0  7224397  Keizerstraat  NaN  tertiary  10.281   \n",
       "1    43136448    43136804    0  7224397  Keizerstraat  NaN  tertiary  13.041   \n",
       "2  6450151604    43136448    0  7224397  Keizerstraat  NaN  tertiary  10.281   \n",
       "3    43132022  6450151604    0  7224415  Keizerstraat  NaN  tertiary  82.845   \n",
       "4    43155685  4454022829    0  7225340           NaN  NaN   service   8.436   \n",
       "\n",
       "         uuid oneway  ... bridge tunnel service lanes  ref width  \\\n",
       "0  3206435346    yes  ...    NaN    NaN     NaN   NaN  NaN   NaN   \n",
       "1  2558797229    yes  ...    NaN    NaN     NaN   NaN  NaN   NaN   \n",
       "2  3206435346    yes  ...    NaN    NaN     NaN   NaN  NaN   NaN   \n",
       "3   518123154    yes  ...    NaN    NaN     NaN   NaN  NaN   NaN   \n",
       "4  4209164125    NaN  ...    yes    NaN     NaN   NaN  NaN   NaN   \n",
       "\n",
       "                                  gml_id            function  \\\n",
       "0  b7242fa64-c535-4445-be1c-7bfbe7f9564f            fietspad   \n",
       "1  b7242fa64-c535-4445-be1c-7bfbe7f9564f            fietspad   \n",
       "2  b1f4910c2-00c3-4fce-856a-847a5e337f16  rijbaan lokale weg   \n",
       "3  b1f4910c2-00c3-4fce-856a-847a5e337f16  rijbaan lokale weg   \n",
       "4  b7bfd8ed3-cf75-40ac-9af4-7b06596a7879  rijbaan lokale weg   \n",
       "\n",
       "                           parent_gml_id  \\\n",
       "0  bebfd7ae6-7fd0-4d2a-b300-ba3b13525b4d   \n",
       "1  bebfd7ae6-7fd0-4d2a-b300-ba3b13525b4d   \n",
       "2  b1f4910c2-00c3-4fce-856a-847a5e337f16   \n",
       "3  b1f4910c2-00c3-4fce-856a-847a5e337f16   \n",
       "4  b7bfd8ed3-cf75-40ac-9af4-7b06596a7879   \n",
       "\n",
       "                                            geometry  \n",
       "0  LINESTRING (112850.872 399908.820, 112850.743 ...  \n",
       "1  LINESTRING (112850.743 399909.818, 112850.605 ...  \n",
       "2  LINESTRING (112852.058 399899.616, 112851.205 ...  \n",
       "3  LINESTRING (112857.519 399822.959, 112858.531 ...  \n",
       "4  LINESTRING (112517.886 400392.439, 112520.230 ...  \n",
       "\n",
       "[5 rows x 23 columns]"
      ]
     },
     "execution_count": 17,
     "metadata": {},
     "output_type": "execute_result"
    }
   ],
   "source": [
    "roads.to_file('output/roads.json', driver='GeoJSON')\n",
    "\n",
    "roads.head()"
   ]
  },
  {
   "cell_type": "markdown",
   "metadata": {},
   "source": [
    "# Export to CityJSON\n",
    "\n",
    "Let's export everything to CityJSON.\n",
    "\n",
    "First, we'll define how the established intersected lines will be translated to `Road` objects:"
   ]
  },
  {
   "cell_type": "code",
   "execution_count": 18,
   "metadata": {},
   "outputs": [],
   "source": [
    "def process_ring(line, vertices):\n",
    "    \"\"\"Returns the boundaries array of a single linear rings.\n",
    "    \n",
    "    Arguments:\n",
    "    line -- The LineString to be processed (represents the ring)\n",
    "    vertices -- the global vertices list of the CityJSON\n",
    "    \"\"\"\n",
    "    points = [[x, y, 0] for x, y in list(line.coords)]\n",
    "    indices = [i + len(vertices) for i in range(len(points))]\n",
    "    for p in points:\n",
    "        vertices.append(p)\n",
    "\n",
    "    return indices\n",
    "\n",
    "def process_linestring(geom, vertices):\n",
    "    \"\"\"Returns the boundaries array of a linear element.\n",
    "    \n",
    "    This can process LineString or MultiLineString geometries.\n",
    "    \n",
    "    Arguments:\n",
    "    geom -- the (linear) geometry to be processed\n",
    "    vertices -- the global vertices list of the CityJSON\n",
    "    \"\"\"\n",
    "    if geom.type == \"LineString\":\n",
    "        indices = [process_ring(geom, vertices)]\n",
    "    else:\n",
    "        indices = []\n",
    "        \n",
    "        for l in geom.geoms:\n",
    "            indices.append(process_ring(l, vertices))\n",
    "        \n",
    "    return indices\n",
    "\n",
    "def create_geometry(geom, lod, vertices):\n",
    "    \"\"\"Returns a CityJSON geometry from a single shapely geometry.\n",
    "    \n",
    "    This will also append the 'vertices' list with new vertices.\n",
    "    \n",
    "    Arguments:\n",
    "    geom -- the shapely geometry to be processed\n",
    "    lod -- the lod of the resulting CityJSON geometry\n",
    "    vertices -- the global vertices list of the CityJSON\n",
    "    \"\"\"\n",
    "    indices = []\n",
    "    \n",
    "    if geom.type == \"LineString\" or geom.type == \"MultiLineString\":\n",
    "        geom_type = \"MultiLineString\"\n",
    "        \n",
    "        indices = process_linestring(geom, vertices)\n",
    "    elif geom.type == \"Polygon\":\n",
    "        geom_type = \"MultiSurface\"\n",
    "        \n",
    "        indices = [process_linestring(geom.boundary, vertices)]\n",
    "    else:\n",
    "        raise TypeError(geom.type)\n",
    "    \n",
    "    return {\n",
    "        \"type\": geom_type,\n",
    "        \"lod\": lod,\n",
    "        \"boundaries\": indices\n",
    "    }\n",
    "\n",
    "def create_geom_with_semantics(map_func, features, lod, vertices, geom_column='geometry'):\n",
    "    \"\"\"Returns a CityJSON geometry with semantic elements from multiple features.\n",
    "    \n",
    "    Semantic elements are semantic lines (for LineString) or surfaces (for\n",
    "    MultiSurface).\n",
    "    \n",
    "    Arguments:\n",
    "    map_func -- function that maps an input feature to an output semantic element\n",
    "    features -- list of features to be processed\n",
    "    lod -- the lod of the resulting CityJSON geometry\n",
    "    vertices -- the global vertices list of the CityJSON\n",
    "    \"\"\"\n",
    "    boundaries = []\n",
    "    semantics = {\n",
    "        \"surfaces\": [],\n",
    "        \"values\": []\n",
    "    }\n",
    "    \n",
    "    # Get the resulting geometry type from the first feature\n",
    "    geom = features[0][geom_column]\n",
    "    if geom.type == \"LineString\" or geom.type == \"MultiLineString\":\n",
    "        geom_type = \"MultiLineString\"\n",
    "    elif geom.type == \"Polygon\":\n",
    "        geom_type = \"MultiSurface\"\n",
    "    else:\n",
    "        raise TypeError(geom.type)\n",
    "    \n",
    "    # Process all features\n",
    "    i = 0\n",
    "    for f in features:\n",
    "        surface = map_func(f)\n",
    "        \n",
    "        if geom_type == \"MultiLineString\":\n",
    "            indices = process_linestring(f[geom_column], vertices)\n",
    "            for l in indices:\n",
    "                boundaries.append(l)\n",
    "                semantics[\"surfaces\"].append(surface)\n",
    "                semantics[\"values\"].append(i)\n",
    "                i = i + 1\n",
    "        else:\n",
    "            indices = process_linestring(f[geom_column].boundary, vertices)\n",
    "        \n",
    "            boundaries.append(indices)\n",
    "            semantics[\"surfaces\"].append(surface)\n",
    "            semantics[\"values\"].append(i)\n",
    "            i = i + 1\n",
    "    \n",
    "    return {\n",
    "        \"type\": geom_type,\n",
    "        \"lod\": lod,\n",
    "        \"boundaries\": boundaries,\n",
    "        \"semantics\": semantics\n",
    "    }\n",
    "\n",
    "def osm_semantics_map(feature):\n",
    "    obj = {\n",
    "        \"type\": feature['highway'],\n",
    "        \"osm_id\": feature['osmid'],\n",
    "        \"oneway\": feature['oneway'] if isinstance(feature['oneway'], str) else \"no\"\n",
    "    }\n",
    "    \n",
    "    if isinstance(feature['name'], str):\n",
    "        obj[\"name\"] = feature['name']\n",
    "    \n",
    "    if isinstance(feature['maxspeed'], str):\n",
    "        obj[\"maxspeed\"] = feature['maxspeed']\n",
    "    \n",
    "    return obj\n",
    "\n",
    "def bgt_semantics_map(feature):\n",
    "    return {\n",
    "        \"type\": feature['function'],\n",
    "        \"gml_id\": feature['gml_id']\n",
    "    }\n",
    "\n",
    "def create_cityobject(feature, vertices):\n",
    "    \"\"\"Create a CityJSON city object from a single OSM linear features.\"\"\"\n",
    "    return {\n",
    "        \"type\": \"Road\",\n",
    "        \"attributes\": {\n",
    "            \"osm_id\": feature['osmid'],\n",
    "            \"highway\": feature['highway'],\n",
    "        },\n",
    "        \"geometry\": [\n",
    "            create_geometry(feature['geometry'], \"0.1\", vertices)\n",
    "        ]\n",
    "    }"
   ]
  },
  {
   "cell_type": "markdown",
   "metadata": {},
   "source": [
    "Now, let's run this against all intersected road segments:"
   ]
  },
  {
   "cell_type": "code",
   "execution_count": 19,
   "metadata": {
    "scrolled": true
   },
   "outputs": [],
   "source": [
    "vertices = []\n",
    "objects = {}\n",
    "\n",
    "road_groups = roads.groupby('parent_gml_id')\n",
    "\n",
    "for gml_id, group in road_groups:\n",
    "    features = [f for i, f in group.iterrows()]\n",
    "    objects[gml_id] = {\n",
    "        \"type\": \"Road\",\n",
    "        \"geometry\": [\n",
    "            create_geom_with_semantics(osm_semantics_map,\n",
    "                                       features,\n",
    "                                       '0.1',\n",
    "                                       vertices)\n",
    "        ]\n",
    "    }\n",
    "\n",
    "bgt_roads_groups = bgt_all_roads.groupby('parent_gml_id')\n",
    "\n",
    "for main_gml_id, group in bgt_roads_groups:\n",
    "    if main_gml_id in objects:\n",
    "        features = [f for i, f in group.iterrows()]\n",
    "        objects[main_gml_id]['geometry'].append(\n",
    "            create_geom_with_semantics(bgt_semantics_map,\n",
    "                                       features,\n",
    "                                       '2',\n",
    "                                       vertices)\n",
    "        )"
   ]
  },
  {
   "cell_type": "markdown",
   "metadata": {},
   "source": [
    "Finally, let's export everything as CityJSON:"
   ]
  },
  {
   "cell_type": "code",
   "execution_count": 20,
   "metadata": {},
   "outputs": [],
   "source": [
    "import json\n",
    "import io\n",
    "\n",
    "output = {\n",
    "  \"type\": \"CityJSON\",\n",
    "  \"version\": \"1.0\",\n",
    "  \"CityObjects\": objects,\n",
    "  \"vertices\": vertices\n",
    "}\n",
    "\n",
    "with open('output/breda.json', 'w') as file:\n",
    "    json.dump(output, file)"
   ]
  },
  {
   "cell_type": "markdown",
   "metadata": {},
   "source": [
    "## Fix missing network and polygons\n",
    "We should create individual road objects for the polygons (and respective network segments) that do not have a `parent_gml_id`."
   ]
  },
  {
   "cell_type": "markdown",
   "metadata": {},
   "source": [
    "# Calculate carriageways and lanes\n",
    "- Compute the carriageways only from OSM attributes.\n",
    "- Compute road width:\n",
    "     - We exclude intersections.\n",
    "- How we create the carriageways for twoway streets and more specifically for intersections.\n",
    "\n",
    "NOTE: Case of a two-way road where we figure out that the road width doesn't fit two lanes (special case were two ways share the same carriageway)."
   ]
  },
  {
   "cell_type": "code",
   "execution_count": 21,
   "metadata": {},
   "outputs": [],
   "source": [
    "from shapely.ops import unary_union\n",
    "from shapely.geometry import Point, LineString, MultiLineString\n",
    "\n",
    "def get_vertex(line, first=True):\n",
    "    \"\"\"Returns the first or last vertex\"\"\"\n",
    "    if line.type == \"LineString\":\n",
    "#         print(len(line.boundary))\n",
    "        return line.boundary[0 if first else len(line.boundary) - 1]\n",
    "    elif line.type == \"MultiLineString\" and len(line.geoms) == 1:\n",
    "        return line.geoms[0].boundary[0 if first else len(line.boundary) - 1]\n",
    "    else:\n",
    "        raise TypeError(\"This is MultiLineString with many parts!\")"
   ]
  },
  {
   "cell_type": "markdown",
   "metadata": {},
   "source": [
    "## Calculate width"
   ]
  },
  {
   "cell_type": "markdown",
   "metadata": {},
   "source": [
    "### Using PostGIS\n",
    "\n",
    "This is to calculate the widths in PostGIS using [this](https://github.com/willemhoffmans/bgt_wegbreedte/).\n",
    "\n",
    "Let's import stuff and create the connection with the database:"
   ]
  },
  {
   "cell_type": "code",
   "execution_count": 22,
   "metadata": {},
   "outputs": [],
   "source": [
    "# SO https://gis.stackexchange.com/a/239231\n",
    "\n",
    "# Imports\n",
    "from geoalchemy2 import Geometry, WKTElement\n",
    "from sqlalchemy import *\n",
    "import pandas as pd\n",
    "import geopandas as gpd\n",
    "\n",
    "pg_user = \"roads\"\n",
    "pg_pass = \"roads\"\n",
    "pg_host = \"localhost\"\n",
    "pg_port = 5432\n",
    "pg_database = \"road_widths\"\n",
    "\n",
    "# Creating SQLAlchemy's engine to use\n",
    "engine = create_engine('postgresql://{}:{}@{}:{}/{}'.format(pg_user, pg_pass, pg_host, pg_port, pg_database))"
   ]
  },
  {
   "cell_type": "markdown",
   "metadata": {},
   "source": [
    "Now we export the BGT roads to the database with the appropriate names:"
   ]
  },
  {
   "cell_type": "code",
   "execution_count": 23,
   "metadata": {},
   "outputs": [],
   "source": [
    "export_bgt = bgt_roads.copy()\n",
    "export_bgt['geometrie_vlak'] = export_bgt['geometry'].apply(lambda x: WKTElement(x.wkt, srid=28992))\n",
    "\n",
    "export_bgt.drop('geometry', 1, inplace=True)\n",
    "\n",
    "export_bgt = export_bgt.rename(columns={'function':'bgt_functie'})\n",
    "\n",
    "# Use 'dtype' to specify column's type\n",
    "# For the geom column, we will use GeoAlchemy's type 'Geometry'\n",
    "export_bgt.to_sql(\"wegdeel\", engine, schema='bgt', if_exists='replace', index=False, \n",
    "                         dtype={'geometrie_vlak': Geometry('POLYGON', srid=28992)})"
   ]
  },
  {
   "cell_type": "markdown",
   "metadata": {},
   "source": [
    "Let's create the required functions in the database:"
   ]
  },
  {
   "cell_type": "code",
   "execution_count": 24,
   "metadata": {},
   "outputs": [],
   "source": [
    "import psycopg2\n",
    "\n",
    "conn = psycopg2.connect(dbname=pg_database, user=pg_user, password=pg_pass)\n",
    "\n",
    "file = open(\"wegbreedtes_script.sql\", \"r\")\n",
    "conn.set_isolation_level(psycopg2.extensions.ISOLATION_LEVEL_AUTOCOMMIT)\n",
    "cursor = conn.cursor()\n",
    "cursor.execute(file.read())"
   ]
  },
  {
   "cell_type": "markdown",
   "metadata": {},
   "source": [
    "Export the roads:"
   ]
  },
  {
   "cell_type": "code",
   "execution_count": 25,
   "metadata": {},
   "outputs": [],
   "source": [
    "from shapely.geometry import MultiLineString\n",
    "\n",
    "export_roads = road_edges.copy()\n",
    "export_roads['geom'] = export_roads['geometry'].apply(lambda x: WKTElement(MultiLineString([x]).wkt, srid=28992))\n",
    "\n",
    "export_roads.drop('geometry', 1, inplace=True)\n",
    "\n",
    "# Use 'dtype' to specify column's type\n",
    "# For the geom column, we will use GeoAlchemy's type 'Geometry'\n",
    "export_roads.to_sql(\"road_edges\", engine, if_exists='replace', index=False, \n",
    "                         dtype={'geom': Geometry('MULTILINESTRING', srid=28992)})"
   ]
  },
  {
   "cell_type": "markdown",
   "metadata": {},
   "source": [
    "Now, run the function to compute the widths:"
   ]
  },
  {
   "cell_type": "code",
   "execution_count": 26,
   "metadata": {},
   "outputs": [
    {
     "name": "stdout",
     "output_type": "stream",
     "text": [
      "('OK!',)\n"
     ]
    }
   ],
   "source": [
    "conn = psycopg2.connect(dbname=pg_database, user=pg_user, password=pg_pass)\n",
    "conn.set_isolation_level(psycopg2.extensions.ISOLATION_LEVEL_AUTOCOMMIT)\n",
    "\n",
    "cursor = conn.cursor()\n",
    "\n",
    "cursor.execute(\"SELECT wh_wegbreedte_bgt_generiek ('road_edges', 'uuid', false, 0);\")\n",
    "for c in cursor:\n",
    "    print(c)"
   ]
  },
  {
   "cell_type": "markdown",
   "metadata": {},
   "source": [
    "Load the resulting table with widths:"
   ]
  },
  {
   "cell_type": "code",
   "execution_count": 27,
   "metadata": {},
   "outputs": [
    {
     "data": {
      "text/html": [
       "<div>\n",
       "<style scoped>\n",
       "    .dataframe tbody tr th:only-of-type {\n",
       "        vertical-align: middle;\n",
       "    }\n",
       "\n",
       "    .dataframe tbody tr th {\n",
       "        vertical-align: top;\n",
       "    }\n",
       "\n",
       "    .dataframe thead th {\n",
       "        text-align: right;\n",
       "    }\n",
       "</style>\n",
       "<table border=\"1\" class=\"dataframe\">\n",
       "  <thead>\n",
       "    <tr style=\"text-align: right;\">\n",
       "      <th></th>\n",
       "      <th>gid</th>\n",
       "      <th>typeweg</th>\n",
       "      <th>wegvakid</th>\n",
       "      <th>geometry</th>\n",
       "      <th>gem_breedte</th>\n",
       "      <th>dev_breedte</th>\n",
       "      <th>min_breedte</th>\n",
       "      <th>max_breedte</th>\n",
       "      <th>oper_breedte</th>\n",
       "      <th>afst_s</th>\n",
       "      <th>aantal</th>\n",
       "      <th>aantal_op</th>\n",
       "    </tr>\n",
       "  </thead>\n",
       "  <tbody>\n",
       "    <tr>\n",
       "      <th>0</th>\n",
       "      <td>546</td>\n",
       "      <td>rijbaan lokale weg</td>\n",
       "      <td>3914420667</td>\n",
       "      <td>MULTILINESTRING ((113084.624 400210.646, 11307...</td>\n",
       "      <td>5.60</td>\n",
       "      <td>4.56</td>\n",
       "      <td>4.06</td>\n",
       "      <td>17.77</td>\n",
       "      <td>4.08</td>\n",
       "      <td>0.00</td>\n",
       "      <td>9</td>\n",
       "      <td>8</td>\n",
       "    </tr>\n",
       "    <tr>\n",
       "      <th>1</th>\n",
       "      <td>1</td>\n",
       "      <td>rijbaan lokale weg</td>\n",
       "      <td>28077830</td>\n",
       "      <td>MULTILINESTRING ((113184.980 400110.795, 11317...</td>\n",
       "      <td>17.08</td>\n",
       "      <td>2.29</td>\n",
       "      <td>13.45</td>\n",
       "      <td>19.82</td>\n",
       "      <td>17.67</td>\n",
       "      <td>0.00</td>\n",
       "      <td>9</td>\n",
       "      <td>6</td>\n",
       "    </tr>\n",
       "    <tr>\n",
       "      <th>2</th>\n",
       "      <td>2</td>\n",
       "      <td>rijbaan lokale weg</td>\n",
       "      <td>42931395</td>\n",
       "      <td>MULTILINESTRING ((112130.344 399744.057, 11213...</td>\n",
       "      <td>3.66</td>\n",
       "      <td>0.09</td>\n",
       "      <td>3.49</td>\n",
       "      <td>3.76</td>\n",
       "      <td>3.67</td>\n",
       "      <td>0.00</td>\n",
       "      <td>9</td>\n",
       "      <td>7</td>\n",
       "    </tr>\n",
       "    <tr>\n",
       "      <th>3</th>\n",
       "      <td>3</td>\n",
       "      <td>rijbaan lokale weg</td>\n",
       "      <td>56554831</td>\n",
       "      <td>MULTILINESTRING ((113006.409 399752.438, 11299...</td>\n",
       "      <td>4.96</td>\n",
       "      <td>0.07</td>\n",
       "      <td>4.81</td>\n",
       "      <td>5.07</td>\n",
       "      <td>4.97</td>\n",
       "      <td>0.00</td>\n",
       "      <td>9</td>\n",
       "      <td>7</td>\n",
       "    </tr>\n",
       "    <tr>\n",
       "      <th>4</th>\n",
       "      <td>4</td>\n",
       "      <td>rijbaan lokale weg</td>\n",
       "      <td>58306695</td>\n",
       "      <td>MULTILINESTRING ((112163.992 400028.880, 11214...</td>\n",
       "      <td>3.68</td>\n",
       "      <td>0.33</td>\n",
       "      <td>3.51</td>\n",
       "      <td>4.54</td>\n",
       "      <td>3.57</td>\n",
       "      <td>1.13</td>\n",
       "      <td>9</td>\n",
       "      <td>8</td>\n",
       "    </tr>\n",
       "  </tbody>\n",
       "</table>\n",
       "</div>"
      ],
      "text/plain": [
       "   gid             typeweg    wegvakid  \\\n",
       "0  546  rijbaan lokale weg  3914420667   \n",
       "1    1  rijbaan lokale weg    28077830   \n",
       "2    2  rijbaan lokale weg    42931395   \n",
       "3    3  rijbaan lokale weg    56554831   \n",
       "4    4  rijbaan lokale weg    58306695   \n",
       "\n",
       "                                            geometry  gem_breedte  \\\n",
       "0  MULTILINESTRING ((113084.624 400210.646, 11307...         5.60   \n",
       "1  MULTILINESTRING ((113184.980 400110.795, 11317...        17.08   \n",
       "2  MULTILINESTRING ((112130.344 399744.057, 11213...         3.66   \n",
       "3  MULTILINESTRING ((113006.409 399752.438, 11299...         4.96   \n",
       "4  MULTILINESTRING ((112163.992 400028.880, 11214...         3.68   \n",
       "\n",
       "   dev_breedte  min_breedte  max_breedte  oper_breedte  afst_s  aantal  \\\n",
       "0         4.56         4.06        17.77          4.08    0.00       9   \n",
       "1         2.29        13.45        19.82         17.67    0.00       9   \n",
       "2         0.09         3.49         3.76          3.67    0.00       9   \n",
       "3         0.07         4.81         5.07          4.97    0.00       9   \n",
       "4         0.33         3.51         4.54          3.57    1.13       9   \n",
       "\n",
       "   aantal_op  \n",
       "0          8  \n",
       "1          6  \n",
       "2          7  \n",
       "3          7  \n",
       "4          8  "
      ]
     },
     "execution_count": 27,
     "metadata": {},
     "output_type": "execute_result"
    }
   ],
   "source": [
    "roads_with_width = geopandas.GeoDataFrame.from_postgis(\"SELECT * FROM breedte_analyse_nieuw.gemiddeldebreedte\", conn, geom_col='geom' )\n",
    "\n",
    "roads_with_width = roads_with_width.rename(columns={\"geom\": \"geometry\"})\n",
    "\n",
    "roads_with_width.head()"
   ]
  },
  {
   "cell_type": "markdown",
   "metadata": {},
   "source": [
    "# Create carriageways\n",
    "\n",
    "We calculated the widths via PostGIS using [this](https://github.com/willemhoffmans/bgt_wegbreedte/) (embarassingly, the previous scripts didn't work).\n",
    "\n",
    "Let's load the data with the width:"
   ]
  },
  {
   "cell_type": "code",
   "execution_count": 28,
   "metadata": {},
   "outputs": [
    {
     "data": {
      "text/html": [
       "<div>\n",
       "<style scoped>\n",
       "    .dataframe tbody tr th:only-of-type {\n",
       "        vertical-align: middle;\n",
       "    }\n",
       "\n",
       "    .dataframe tbody tr th {\n",
       "        vertical-align: top;\n",
       "    }\n",
       "\n",
       "    .dataframe thead th {\n",
       "        text-align: right;\n",
       "    }\n",
       "</style>\n",
       "<table border=\"1\" class=\"dataframe\">\n",
       "  <thead>\n",
       "    <tr style=\"text-align: right;\">\n",
       "      <th></th>\n",
       "      <th>gid</th>\n",
       "      <th>typeweg</th>\n",
       "      <th>uuid</th>\n",
       "      <th>geometry</th>\n",
       "      <th>gem_breedte</th>\n",
       "      <th>dev_breedte</th>\n",
       "      <th>min_breedte</th>\n",
       "      <th>max_breedte</th>\n",
       "      <th>oper_breedte</th>\n",
       "      <th>afst_s</th>\n",
       "      <th>...</th>\n",
       "      <th>oneway</th>\n",
       "      <th>maxspeed</th>\n",
       "      <th>landuse</th>\n",
       "      <th>access</th>\n",
       "      <th>bridge</th>\n",
       "      <th>tunnel</th>\n",
       "      <th>service</th>\n",
       "      <th>lanes</th>\n",
       "      <th>ref</th>\n",
       "      <th>width</th>\n",
       "    </tr>\n",
       "  </thead>\n",
       "  <tbody>\n",
       "    <tr>\n",
       "      <th>0</th>\n",
       "      <td>546</td>\n",
       "      <td>rijbaan lokale weg</td>\n",
       "      <td>3914420667</td>\n",
       "      <td>MULTILINESTRING ((113084.624 400210.646, 11307...</td>\n",
       "      <td>5.60</td>\n",
       "      <td>4.56</td>\n",
       "      <td>4.06</td>\n",
       "      <td>17.77</td>\n",
       "      <td>4.08</td>\n",
       "      <td>0.00</td>\n",
       "      <td>...</td>\n",
       "      <td>NaN</td>\n",
       "      <td>NaN</td>\n",
       "      <td>NaN</td>\n",
       "      <td>NaN</td>\n",
       "      <td>NaN</td>\n",
       "      <td>NaN</td>\n",
       "      <td>NaN</td>\n",
       "      <td>NaN</td>\n",
       "      <td>NaN</td>\n",
       "      <td>NaN</td>\n",
       "    </tr>\n",
       "    <tr>\n",
       "      <th>1</th>\n",
       "      <td>1</td>\n",
       "      <td>rijbaan lokale weg</td>\n",
       "      <td>28077830</td>\n",
       "      <td>MULTILINESTRING ((113184.980 400110.795, 11317...</td>\n",
       "      <td>17.08</td>\n",
       "      <td>2.29</td>\n",
       "      <td>13.45</td>\n",
       "      <td>19.82</td>\n",
       "      <td>17.67</td>\n",
       "      <td>0.00</td>\n",
       "      <td>...</td>\n",
       "      <td>NaN</td>\n",
       "      <td>NaN</td>\n",
       "      <td>NaN</td>\n",
       "      <td>NaN</td>\n",
       "      <td>NaN</td>\n",
       "      <td>NaN</td>\n",
       "      <td>NaN</td>\n",
       "      <td>NaN</td>\n",
       "      <td>NaN</td>\n",
       "      <td>NaN</td>\n",
       "    </tr>\n",
       "    <tr>\n",
       "      <th>2</th>\n",
       "      <td>2</td>\n",
       "      <td>rijbaan lokale weg</td>\n",
       "      <td>42931395</td>\n",
       "      <td>MULTILINESTRING ((112130.344 399744.057, 11213...</td>\n",
       "      <td>3.66</td>\n",
       "      <td>0.09</td>\n",
       "      <td>3.49</td>\n",
       "      <td>3.76</td>\n",
       "      <td>3.67</td>\n",
       "      <td>0.00</td>\n",
       "      <td>...</td>\n",
       "      <td>yes</td>\n",
       "      <td>NaN</td>\n",
       "      <td>NaN</td>\n",
       "      <td>NaN</td>\n",
       "      <td>NaN</td>\n",
       "      <td>NaN</td>\n",
       "      <td>NaN</td>\n",
       "      <td>NaN</td>\n",
       "      <td>NaN</td>\n",
       "      <td>NaN</td>\n",
       "    </tr>\n",
       "    <tr>\n",
       "      <th>3</th>\n",
       "      <td>3</td>\n",
       "      <td>rijbaan lokale weg</td>\n",
       "      <td>56554831</td>\n",
       "      <td>MULTILINESTRING ((113006.409 399752.438, 11299...</td>\n",
       "      <td>4.96</td>\n",
       "      <td>0.07</td>\n",
       "      <td>4.81</td>\n",
       "      <td>5.07</td>\n",
       "      <td>4.97</td>\n",
       "      <td>0.00</td>\n",
       "      <td>...</td>\n",
       "      <td>NaN</td>\n",
       "      <td>NaN</td>\n",
       "      <td>NaN</td>\n",
       "      <td>NaN</td>\n",
       "      <td>NaN</td>\n",
       "      <td>NaN</td>\n",
       "      <td>NaN</td>\n",
       "      <td>NaN</td>\n",
       "      <td>NaN</td>\n",
       "      <td>NaN</td>\n",
       "    </tr>\n",
       "    <tr>\n",
       "      <th>4</th>\n",
       "      <td>4</td>\n",
       "      <td>rijbaan lokale weg</td>\n",
       "      <td>58306695</td>\n",
       "      <td>MULTILINESTRING ((112163.992 400028.880, 11214...</td>\n",
       "      <td>3.68</td>\n",
       "      <td>0.33</td>\n",
       "      <td>3.51</td>\n",
       "      <td>4.54</td>\n",
       "      <td>3.57</td>\n",
       "      <td>1.13</td>\n",
       "      <td>...</td>\n",
       "      <td>NaN</td>\n",
       "      <td>NaN</td>\n",
       "      <td>NaN</td>\n",
       "      <td>NaN</td>\n",
       "      <td>NaN</td>\n",
       "      <td>NaN</td>\n",
       "      <td>NaN</td>\n",
       "      <td>NaN</td>\n",
       "      <td>NaN</td>\n",
       "      <td>NaN</td>\n",
       "    </tr>\n",
       "  </tbody>\n",
       "</table>\n",
       "<p>5 rows × 31 columns</p>\n",
       "</div>"
      ],
      "text/plain": [
       "   gid             typeweg        uuid  \\\n",
       "0  546  rijbaan lokale weg  3914420667   \n",
       "1    1  rijbaan lokale weg    28077830   \n",
       "2    2  rijbaan lokale weg    42931395   \n",
       "3    3  rijbaan lokale weg    56554831   \n",
       "4    4  rijbaan lokale weg    58306695   \n",
       "\n",
       "                                            geometry  gem_breedte  \\\n",
       "0  MULTILINESTRING ((113084.624 400210.646, 11307...         5.60   \n",
       "1  MULTILINESTRING ((113184.980 400110.795, 11317...        17.08   \n",
       "2  MULTILINESTRING ((112130.344 399744.057, 11213...         3.66   \n",
       "3  MULTILINESTRING ((113006.409 399752.438, 11299...         4.96   \n",
       "4  MULTILINESTRING ((112163.992 400028.880, 11214...         3.68   \n",
       "\n",
       "   dev_breedte  min_breedte  max_breedte  oper_breedte  afst_s  ...  oneway  \\\n",
       "0         4.56         4.06        17.77          4.08    0.00  ...     NaN   \n",
       "1         2.29        13.45        19.82         17.67    0.00  ...     NaN   \n",
       "2         0.09         3.49         3.76          3.67    0.00  ...     yes   \n",
       "3         0.07         4.81         5.07          4.97    0.00  ...     NaN   \n",
       "4         0.33         3.51         4.54          3.57    1.13  ...     NaN   \n",
       "\n",
       "   maxspeed  landuse  access  bridge  tunnel service lanes  ref  width  \n",
       "0       NaN      NaN     NaN     NaN     NaN     NaN   NaN  NaN    NaN  \n",
       "1       NaN      NaN     NaN     NaN     NaN     NaN   NaN  NaN    NaN  \n",
       "2       NaN      NaN     NaN     NaN     NaN     NaN   NaN  NaN    NaN  \n",
       "3       NaN      NaN     NaN     NaN     NaN     NaN   NaN  NaN    NaN  \n",
       "4       NaN      NaN     NaN     NaN     NaN     NaN   NaN  NaN    NaN  \n",
       "\n",
       "[5 rows x 31 columns]"
      ]
     },
     "execution_count": 28,
     "metadata": {},
     "output_type": "execute_result"
    }
   ],
   "source": [
    "roads_width_final_final = roads_with_width.rename(columns={\"wegvakid\": \"uuid\"}).merge(road_edges.set_index(\"uuid\"), on=\"uuid\", suffixes=('', '_right'))\n",
    "\n",
    "roads_width_final_final.head()"
   ]
  },
  {
   "cell_type": "markdown",
   "metadata": {},
   "source": [
    "Let's create the basic carriageways when `is_one_carriageway` is `false` (specific width and a two way street):"
   ]
  },
  {
   "cell_type": "code",
   "execution_count": 310,
   "metadata": {},
   "outputs": [],
   "source": [
    "width_col = 'oper_breedte'\n",
    "\n",
    "def find_neighbouring_edges(f, nodeid):\n",
    "    \"\"\"Returns the road UUIDs of the neighbours of a feature at a given node\"\"\"\n",
    "    \n",
    "    uuids = [a['uuid'] for u, v, a in network_graph.in_edges(nodeid, data=True)] + [a['uuid'] for u, v, a in network_graph.out_edges(nodeid, data=True)]\n",
    "    \n",
    "    uuids.remove(f['uuid'])\n",
    "    \n",
    "    return roads_width_final_final[roads_width_final_final['uuid'].isin(uuids)]\n",
    "\n",
    "def is_one_carriageway(f, tolerance):\n",
    "    return (f[width_col] < (6 - tolerance)) or (f[width_col] > (15 + tolerance))\n",
    "\n",
    "def carriageway_placement(f):\n",
    "    \"\"\"Returns the width of the carriage ways\"\"\"\n",
    "    if f['oneway'] == 'yes':\n",
    "        return 0\n",
    "    \n",
    "    u_neighbours = find_neighbouring_edges(f, f['u'])\n",
    "    v_neighbours = find_neighbouring_edges(f, f['v'])\n",
    "    \n",
    "    if len(u_neighbours) == 1 and len(v_neighbours) == 1:\n",
    "        if not is_one_carriageway(u_neighbours.iloc[0], 0) and not is_one_carriageway(v_neighbours.iloc[0], 0):\n",
    "            return f[width_col] / 4\n",
    "    \n",
    "    if f['length'] < 30:\n",
    "        if len(u_neighbours) > 1 and len(v_neighbours) == 1:\n",
    "            n = v_neighbours.iloc[0]\n",
    "            if is_one_carriageway(n, 0):\n",
    "                return 0\n",
    "            else:\n",
    "                return n[width_col] / 4\n",
    "        if len(u_neighbours) == 1 and len(v_neighbours) > 1:\n",
    "            n = u_neighbours.iloc[0]\n",
    "            if is_one_carriageway(n, 0):\n",
    "                return 0\n",
    "            else:\n",
    "                return n[width_col] / 4\n",
    "    \n",
    "    # This is only the general case\n",
    "    if is_one_carriageway(f, 0):\n",
    "        return 0\n",
    "    else:\n",
    "        return f[width_col] / 4\n",
    "\n",
    "def create_carriageway(f):\n",
    "    geom = f['geometry']\n",
    "    \n",
    "    width = carriageway_placement(f)\n",
    "    if width == 0:\n",
    "        return geom\n",
    "    \n",
    "    # TODO: We check if it's an extreme and then we check if it's a dead-end\n",
    "    #       in which case we just exclude or we return the original geometry\n",
    "    \n",
    "    return geom.geoms[0].parallel_offset(width, 'left').union(geom.geoms[0].parallel_offset(width, 'right'))\n",
    "\n",
    "# geopandas.GeoSeries(roads_width_final_final.apply(create_carriageway, axis=1)).plot()"
   ]
  },
  {
   "cell_type": "code",
   "execution_count": 30,
   "metadata": {},
   "outputs": [],
   "source": [
    "roads_width_final_final['carriage_ways'] = roads_width_final_final.apply(create_carriageway, axis=1)\n",
    "\n",
    "geopandas.GeoDataFrame(roads_width_final_final[['u', 'v', 'carriage_ways']], geometry='carriage_ways', crs='EPSG:28992').to_file('output/ok.geojson', driver='GeoJSON')"
   ]
  },
  {
   "cell_type": "markdown",
   "metadata": {},
   "source": [
    "## Join carriageways\n",
    "\n",
    "Now, we join the individual network segments with each other:\n",
    "1. if both are single carriageway there is nothing to do\n",
    "2. if both are dual carriageways then we compute the midpoint of the end and start node and we join them there\n",
    "3. if one is single and another is dual then we join the dual to the end node of the single one (making a triangle).\n",
    "\n",
    "We also identify continuation between carriageways in intersections and join them."
   ]
  },
  {
   "cell_type": "code",
   "execution_count": 257,
   "metadata": {},
   "outputs": [],
   "source": [
    "from shapely.ops import substring, linemerge\n",
    "from shapely.geometry import LineString, MultiLineString\n",
    "import numpy as np\n",
    "\n",
    "def is_first_vertex(f, u_nodeid):\n",
    "    return f['u'] == u_nodeid\n",
    "\n",
    "def cut_line(geom, dist, reverse=False):\n",
    "    if reverse:\n",
    "        return substring(geom, 0, geom.length - dist)\n",
    "    else:\n",
    "        return substring(geom, dist, geom.length)\n",
    "\n",
    "def reverse_line(line):\n",
    "    return LineString(reversed(line.coords))\n",
    "\n",
    "def midpoint(pa, pb):\n",
    "    return Point((pa.x + pb.x) / 2, (pa.y + pb.y) / 2)\n",
    "\n",
    "def azimuth(point1, point2):\n",
    "    '''azimuth between 2 shapely points (interval 0 - 360)'''\n",
    "    angle = np.arctan2(point2.x - point1.x, point2.y - point1.y)\n",
    "    return np.degrees(angle) if angle >= 0 else np.degrees(angle) + 360\n",
    "\n",
    "def count_carriageways(f):\n",
    "    if f['carriage_ways'].type == \"LineString\":\n",
    "        return 1\n",
    "    else:\n",
    "        return len(f['carriage_ways'].geoms)\n",
    "\n",
    "def as_line(geom):\n",
    "    \"\"\"Return a LineString from geom regardless if it's a MultiLineString\"\"\"\n",
    "\n",
    "    if geom.type == \"LineString\":\n",
    "        return geom\n",
    "    else:\n",
    "        return geom.geoms[0]\n",
    "\n",
    "def merge_dual_to_single(geom, p, firstVertex):\n",
    "    left_cw = geom.geoms[0] # Get left carriage way\n",
    "    right_cw = geom.geoms[1] # Get right carriage way\n",
    "    \n",
    "    if left_cw.length < 1 or right_cw.length < 1:\n",
    "        left_p = get_vertex(left_cw, not firstVertex) # Last point of left line\n",
    "        right_p = get_vertex(right_cw, firstVertex) # First point of right line\n",
    "\n",
    "        left_line = LineString([p, left_p])\n",
    "        right_line = LineString([right_p, p])\n",
    "    else:\n",
    "        left_line = cut_line(left_cw, 1, not firstVertex)\n",
    "        right_line = cut_line(right_cw, 1, firstVertex)\n",
    "\n",
    "        left_p = get_vertex(left_line, firstVertex)\n",
    "        right_p = get_vertex(right_line, not firstVertex)\n",
    "\n",
    "        # Create the left and right side of the \"triangle\"\n",
    "        left_side = LineString((p, left_p))\n",
    "        right_side = LineString((p, right_p))\n",
    "\n",
    "        # Merge the parts together\n",
    "        left_line = linemerge(left_side.union(left_line))\n",
    "        right_line = linemerge(right_side.union(right_line))\n",
    "\n",
    "        if not get_vertex(left_line, firstVertex).equals(p):\n",
    "            left_line = reverse_line(left_line)\n",
    "        if not get_vertex(right_line, not firstVertex).equals(p):\n",
    "            right_line = reverse_line(right_line)\n",
    "\n",
    "    return MultiLineString([left_line, right_line])\n",
    "\n",
    "def join_dual_ways(geom, other_geom, isU, firstVertex):\n",
    "    other_left_p = get_vertex(other_geom.geoms[0], isU)\n",
    "    other_right_p = get_vertex(other_geom.geoms[1], not isU)\n",
    "\n",
    "    if isU == firstVertex:\n",
    "        temp_p = other_left_p\n",
    "        other_left_p = other_right_p\n",
    "        other_right_p = temp_p\n",
    "\n",
    "    left_cw = geom.geoms[0] # Get left carriage way\n",
    "    right_cw = geom.geoms[1] # Get right carriage way\n",
    "\n",
    "    left_p = get_vertex(left_cw, firstVertex) # First point of left line\n",
    "    right_p = get_vertex(right_cw, not firstVertex) # Last point of right line\n",
    "\n",
    "    new_left_p = midpoint(left_p, other_left_p)\n",
    "    new_right_p = midpoint(right_p, other_right_p)\n",
    "\n",
    "    if firstVertex:\n",
    "        left_line = LineString([new_left_p] + left_cw.coords[1:])\n",
    "        right_line = LineString(right_cw.coords[:-1] + [new_right_p])\n",
    "    else:\n",
    "        left_line = LineString(left_cw.coords[:-1] + [new_left_p])\n",
    "        right_line = LineString([new_right_p] + right_cw.coords[1:])\n",
    "\n",
    "    return MultiLineString([left_line, right_line])\n",
    "\n",
    "def get_line_azimuth(line, reverse):\n",
    "    if reverse:\n",
    "        return azimuth(Point(line.coords[-1]), Point(line.coords[-2]))\n",
    "    \n",
    "    return azimuth(Point(line.coords[0]), Point(line.coords[1]))\n",
    "\n",
    "def join_side(geom, nodeid, f, neighbours, firstVertex=True):\n",
    "    \"\"\"Returns a geometry that has joined with the adjacent geometry of one side.\n",
    "    \n",
    "    geom --- The geometry to alter.\n",
    "    nodeid --- The node id around which the join will occur.\n",
    "    f --- The input feature.\n",
    "    firstVertex --- True if the first vertex of the geometry will be altered, or False if it's the last one.\n",
    "    \"\"\"\n",
    "    if len(neighbours) == 0:\n",
    "        return geom\n",
    "    \n",
    "    if all(count_carriageways(neighbours.iloc[i]) == 1 for i in range(len(neighbours))):\n",
    "        # Pick first feature, because they are all single carriageways and they meet at the same point\n",
    "        other_feature = neighbours.iloc[0]\n",
    "        \n",
    "        p = get_vertex(other_feature['geometry'], other_feature['u'] == nodeid)\n",
    "\n",
    "        return merge_dual_to_single(geom, p, firstVertex)\n",
    "    \n",
    "    # First, let's find for any \"continuation\" of this carriageway\n",
    "    other_feature = []\n",
    "    if len(neighbours) == 1:\n",
    "        other_feature = neighbours.iloc[0]\n",
    "    else:\n",
    "        axis_geom = as_line(f['geometry'])\n",
    "        a = get_line_azimuth(axis_geom, not firstVertex)\n",
    "        \n",
    "        # If only one dual carriageway is adjacent, then pick that one\n",
    "        dual_count = 0\n",
    "        for i in range(len(neighbours)):\n",
    "            n = neighbours.iloc[i]\n",
    "            if count_carriageways(n) > 1:\n",
    "                dual_count = dual_count + 1\n",
    "                other_feature = n\n",
    "        \n",
    "        # If more than one dual carriageways is adjacent, pick the neighbour with the closest to 180° angle\n",
    "        if dual_count > 1:\n",
    "            other_feature = []\n",
    "            for i in range(len(neighbours)):\n",
    "                n = neighbours.iloc[i]\n",
    "                n_a = get_line_azimuth(as_line(n['geometry']), n['u'] != nodeid)\n",
    "                if abs(n_a - a) < 200 and abs(n_a - a) > 160:\n",
    "                    other_feature = n\n",
    "    \n",
    "    if len(other_feature):\n",
    "        if count_carriageways(other_feature) == 1:\n",
    "            p = get_vertex(other_feature['geometry'], other_feature['u'] == nodeid)\n",
    "            return merge_dual_to_single(geom, p, firstVertex)\n",
    "        else:\n",
    "            return join_dual_ways(geom, other_feature['carriage_ways'], other_feature['u'] == nodeid, firstVertex)\n",
    "    \n",
    "    return geom\n",
    "\n",
    "def join_carriageways(f):\n",
    "    \"\"\"Returns the carriageways processed so that they are joined with their neighbours\"\"\"\n",
    "    if count_carriageways(f) == 1:\n",
    "        return f['carriage_ways']\n",
    "    # TODO: We need to treat single carriageways in intersections as well\n",
    "    \n",
    "    # Identify degenerate case where this is a short segment (<1m) and\n",
    "    # is adjacent to single cariageways, so we collapse it.\n",
    "    u_neighbours = find_neighbouring_edges(f, f['u'])\n",
    "    v_neighbours = find_neighbouring_edges(f, f['v'])\n",
    "    if f['length'] < 1:\n",
    "        if len(u_neighbours) == 0 or len(v_neighbours) == 0:\n",
    "            return f['geometry']\n",
    "        \n",
    "        if len(u_neighbours) == 1 and len(v_neighbours) == 1 and count_carriageways(u_neighbours.iloc[0]) == 1 and count_carriageways(v_neighbours.iloc[0]) == 1:\n",
    "            return f['geometry']\n",
    "    \n",
    "    geom = join_side(f['carriage_ways'], f['u'], f, u_neighbours, True)\n",
    "    return join_side(geom, f['v'], f, v_neighbours, False)"
   ]
  },
  {
   "cell_type": "markdown",
   "metadata": {},
   "source": [
    "Let's fix some things:\n",
    "\n",
    "1. If a single carriageway is adjacent to two dual carriageways and their width difference is small, we should count it as a dual carriageway as well.\n",
    "2. If a small segment with a bizarre width ends up in an intersection, we should expect that the width calculation sucks. Then, we better look at the other side of the line (the non-intersecting node) to take the width of that neighbouring edge."
   ]
  },
  {
   "cell_type": "code",
   "execution_count": 250,
   "metadata": {},
   "outputs": [
    {
     "data": {
      "image/svg+xml": [
       "<svg xmlns=\"http://www.w3.org/2000/svg\" xmlns:xlink=\"http://www.w3.org/1999/xlink\" width=\"100.0\" height=\"100.0\" viewBox=\"112208.229228108 400320.7376727581 2.0 2.0\" preserveAspectRatio=\"xMinYMin meet\"><g transform=\"matrix(1,0,0,-1,0,800643.4753455162)\"><circle cx=\"112209.229228108\" cy=\"400321.7376727581\" r=\"0.06\" stroke=\"#555555\" stroke-width=\"0.02\" fill=\"#66cc99\" opacity=\"0.6\" /></g></svg>"
      ],
      "text/plain": [
       "<shapely.geometry.point.Point at 0x11e7b8710>"
      ]
     },
     "execution_count": 250,
     "metadata": {},
     "output_type": "execute_result"
    }
   ],
   "source": [
    "geom = roads_width_final_final[roads_width_final_final['uuid'] == 3159553203].iloc[0]['geometry']\n",
    "# get_line_azimuth(geom, False)\n",
    "Point(geom.geoms[0].coords[1])"
   ]
  },
  {
   "cell_type": "code",
   "execution_count": 236,
   "metadata": {},
   "outputs": [
    {
     "data": {
      "text/plain": [
       "'LINESTRING (112194.2022573663 400345.1735217793, 112209.229228108 400321.7376727581, 112267.3938365006 400357.6818521479, 112284.8780253896 400376.4476691125, 112298.8125880813 400385.2303897964, 112301.1318890028 400388.2369779074, 112298.8239008799 400393.9417593918, 112291.0005110578 400406.3130226401)'"
      ]
     },
     "execution_count": 236,
     "metadata": {},
     "output_type": "execute_result"
    }
   ],
   "source": [
    "f = roads_width_final_final[roads_width_final_final['uuid'] == 3159553203].iloc[0]\n",
    "f['geometry'].geoms[0].wkt\n",
    "# find_neighbouring_edges(f, f['v'])"
   ]
  },
  {
   "cell_type": "code",
   "execution_count": 258,
   "metadata": {},
   "outputs": [
    {
     "data": {
      "image/svg+xml": [
       "<svg xmlns=\"http://www.w3.org/2000/svg\" xmlns:xlink=\"http://www.w3.org/1999/xlink\" width=\"100.0\" height=\"100.0\" viewBox=\"112404.64162688248 399899.4251378483 16.655987538397312 16.995962508954108\" preserveAspectRatio=\"xMinYMin meet\"><g transform=\"matrix(1,0,0,-1,0,799815.8462382056)\"><g><polyline fill=\"none\" stroke=\"#66cc99\" stroke-width=\"0.33991925017908214\" points=\"112407.78867554598,399915.79162026435 112420.66813432795,399902.40530444944\" opacity=\"0.8\" /><polyline fill=\"none\" stroke=\"#66cc99\" stroke-width=\"0.33991925017908214\" points=\"112418.61053243905,399900.0546179412 112405.27110697542,399913.8137570867\" opacity=\"0.8\" /></g></g></svg>"
      ],
      "text/plain": [
       "<shapely.geometry.multilinestring.MultiLineString at 0x11e395590>"
      ]
     },
     "execution_count": 258,
     "metadata": {},
     "output_type": "execute_result"
    }
   ],
   "source": [
    "# 991516825 - dual carriageway neighbouring with single and dual carriagway\n",
    "# 1911114146 - dual carriageway neighbouring with wider road\n",
    "# 82 - <1m dual carriageway with adjacent single carriageways\n",
    "# 2033962726 - It's not working, although it's obvious: this is like this and this is like that.\n",
    "# 247 - dual carriageway ending in intersections with only single carriageways\n",
    "# 3057264152 - Slightly over 10°?\n",
    "next(iter(roads_width_final_final[roads_width_final_final['uuid'] == 3057264152].apply(join_carriageways, axis=1)))"
   ]
  },
  {
   "cell_type": "code",
   "execution_count": 259,
   "metadata": {},
   "outputs": [],
   "source": [
    "roads_width_final_final['fixed_carriageways'] = roads_width_final_final.apply(join_carriageways, axis=1)\n",
    "\n",
    "geopandas.GeoDataFrame(roads_width_final_final[['uuid', 'u', 'v', 'osmid', 'name', 'oneway', 'fixed_carriageways']], geometry='fixed_carriageways', crs='EPSG:28992').to_file('output/fixed_carriageways.geojson', driver='GeoJSON')"
   ]
  },
  {
   "cell_type": "markdown",
   "metadata": {},
   "source": [
    "## Split carriageways to features\n",
    "\n",
    "Carriageways should be now converted to individual features:"
   ]
  },
  {
   "cell_type": "code",
   "execution_count": 309,
   "metadata": {},
   "outputs": [],
   "source": [
    "from shapely.geometry import LineString\n",
    "import uuid\n",
    "from cityhash import CityHash32\n",
    "\n",
    "def create_uuid(f):\n",
    "    return CityHash32(uuid.uuid4().hex)\n",
    "\n",
    "def reverse_if_dual(f):\n",
    "    if f['dual']:\n",
    "        return LineString(f['geom'].coords[::-1])\n",
    "    \n",
    "    return f['geom']\n",
    "\n",
    "carriageways = roads_width_final_final.copy().rename(columns={\n",
    "                                                             'geometry': 'axis_geom',\n",
    "                                                             'fixed_carriageways': 'geom',\n",
    "                                                             'uuid': 'road_uuid'\n",
    "                                                             })\n",
    "\n",
    "carriageways.drop('carriage_ways', 1, inplace=True)\n",
    "carriageways.drop('gid', 1, inplace=True)\n",
    "\n",
    "carriageways = geopandas.GeoDataFrame(carriageways, geometry=\"geom\", crs=\"EPSG:28992\")\n",
    "\n",
    "# Compute \"dual\" carriageway attribute\n",
    "carriageways['dual'] = carriageways.apply(lambda f: len(f['geom'].geoms) > 1, axis=1)\n",
    "\n",
    "# Explode the MultiLineStrings to LineStrings (so duals will become two features)\n",
    "carriageways = carriageways.explode()\n",
    "\n",
    "# Reverse geometries of ex-dual-carriageways\n",
    "carriageways['geom'] = carriageways.apply(reverse_if_dual, axis=1)\n",
    "\n",
    "# Create UUIDs\n",
    "carriageways['uuid'] = carriageways.apply(create_uuid, axis=1)\n",
    "\n",
    "# Make sure no collisions exist between UUIDs\n",
    "assert len(pd.unique(carriageways['uuid'])) == len(carriageways['uuid'])\n",
    "\n",
    "carriageways.drop(['axis_geom', 'geometry_right'], 1).to_file('output/carriageways.geojson', driver='GeoJSON')"
   ]
  },
  {
   "cell_type": "markdown",
   "metadata": {},
   "source": [
    "## Fix intersections\n",
    "\n",
    "Given the continuous carriageways, we need to deal with intersections now."
   ]
  },
  {
   "cell_type": "code",
   "execution_count": 418,
   "metadata": {},
   "outputs": [
    {
     "data": {
      "text/plain": [
       "5.561217567469135"
      ]
     },
     "execution_count": 418,
     "metadata": {},
     "output_type": "execute_result"
    }
   ],
   "source": [
    "from shapely.ops import substring\n",
    "\n",
    "def get_feature(df, col_name, value):\n",
    "    return df[df[col_name] == value].iloc[0]\n",
    "\n",
    "def find_neighbouring_features(G, nodeid, df, uuid_col='uuid', exclude=[]):\n",
    "    \"\"\"Returns the road UUIDs of the neighbours of a feature at a given node\n",
    "    \n",
    "    G --- The network to lookup\n",
    "    nodeid --- The id of the node for which to look for neighbours\n",
    "    df --- The dataframe to find features\n",
    "    uuid_col --- The name of the column that contains the edge's uuid\n",
    "    exclude --- A list of uuids to exclude from the returning list\n",
    "    \"\"\"\n",
    "    \n",
    "    uuids = [a['uuid'] for u, v, a in G.in_edges(nodeid, data=True)] + [a['uuid'] for u, v, a in G.out_edges(nodeid, data=True)]\n",
    "    \n",
    "    if isinstance(exclude, list):\n",
    "        for i in exclude:\n",
    "            if i in uuids:\n",
    "                uuids.remove(i)\n",
    "    else:\n",
    "        if exclude in uuids:\n",
    "            uuids.remove(exclude)\n",
    "    \n",
    "    return df[df['road_uuid'].isin(uuids)]\n",
    "\n",
    "def split_line_point(line, point, reverse=False):\n",
    "    \"\"\"Returns a line until that point\"\"\"\n",
    "    \n",
    "    raise NotImplemented(\"That's trivial!\")\n",
    "\n",
    "def create_intersection(f, nodeid):\n",
    "    neighbours = find_neighbouring_features(network_graph,\n",
    "                                            nodeid,\n",
    "                                            df=carriageways,\n",
    "                                            uuid_col='road_uuid',\n",
    "                                            exclude=f['road_uuid'])\n",
    "    \n",
    "    # Find the crossing point\n",
    "    all_lines = shapely.ops.unary_union(neighbours.reset_index()['geom'])\n",
    "    cross_p = all_lines.intersection(f['geom'])\n",
    "    \n",
    "    # If we compute the right/left attributes of a dual carriageway,\n",
    "    # then we know if we should trim from the start of the end of\n",
    "    # the LineString\n",
    "    \n",
    "    dist = f['geom'].project(cross_p)\n",
    "    substring(f['geom'], 0, dist).length\n",
    "    \n",
    "    # Case where there are two dual carriageways crossing\n",
    "    if all(len(g) == 2 for l, g in lines.groupby('road_uuid')):\n",
    "        a = 100 # We'll do something here later\n",
    "    \n",
    "# 1988585516\n",
    "# 3246805927\n",
    "f = get_feature(carriageways, 'uuid', 1988585516)\n",
    "create_intersection(f, f['u'])"
   ]
  },
  {
   "cell_type": "markdown",
   "metadata": {},
   "source": [
    "## Several notes and TODOS\n",
    "\n",
    "1. **(DONE)** Smooth out the carriageways between them:\n",
    "    - Normal case (two double-carriageways meet), we compute the mid point of the endpoints and join the lines.\n",
    "    - When a double-carriageway meets a single one, we join with a triangle.\n",
    "2. Find outliers that are too wide and are a dead-end.\n",
    "3. Compute the new nodes of the network."
   ]
  },
  {
   "cell_type": "markdown",
   "metadata": {},
   "source": [
    "# Introduce flyovers\n",
    "\n",
    "- What about the width calculation of flyovers? Is there an attribute in BGT about it? Can we compute the width by \"isolating\" the network and flyover polygon?"
   ]
  },
  {
   "cell_type": "markdown",
   "metadata": {},
   "source": [
    "# Validation and evaluation\n",
    "\n",
    "- Make sure we don't have those pedestrian area that are actually roads, but they are inconveniently classified in BGT as `voetpad`.\n",
    "- We need to rectify our conditions for outliers regarding our decision of carriageway number from width.\n",
    "- **INVESTIGATION REQUIRED**: If <1m segment is dual carriageway and neighbouring to both a single and a dual carriageway then we should make sure the methodology works.\n",
    "- Ensure completeless of network (run a simple routing problem)\n",
    "- Compute decorations like traffic lights\n",
    "- Potentionally compute more interesting algorithms, e.g. what the best route about de-icing given the width of street (exploiting the semantic surfaces here)."
   ]
  }
 ],
 "metadata": {
  "kernelspec": {
   "display_name": "Python 3",
   "language": "python",
   "name": "python3"
  },
  "language_info": {
   "codemirror_mode": {
    "name": "ipython",
    "version": 3
   },
   "file_extension": ".py",
   "mimetype": "text/x-python",
   "name": "python",
   "nbconvert_exporter": "python",
   "pygments_lexer": "ipython3",
   "version": "3.7.7"
  }
 },
 "nbformat": 4,
 "nbformat_minor": 2
}
