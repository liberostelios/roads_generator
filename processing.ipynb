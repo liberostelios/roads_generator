{
 "cells": [
  {
   "cell_type": "markdown",
   "metadata": {},
   "source": [
    "# Import basic libraries\n",
    "\n",
    "Let's import some basic stuff"
   ]
  },
  {
   "cell_type": "markdown",
   "metadata": {},
   "source": [
    "### Fix for `fiona`\n",
    "\n",
    "*`fiona` has an issue with GDAL 3.0. Better set your `GDAL_DATA` path to fiona's installation (contains GDAL 2.4.4) prior to running this script.*"
   ]
  },
  {
   "cell_type": "code",
   "execution_count": null,
   "metadata": {},
   "outputs": [],
   "source": [
    "import geopandas\n",
    "import pandas as pd\n",
    "import osmnx as ox"
   ]
  },
  {
   "cell_type": "markdown",
   "metadata": {},
   "source": [
    "# Load the OSM data\n",
    "\n",
    "This will load the osm file to a network"
   ]
  },
  {
   "cell_type": "code",
   "execution_count": null,
   "metadata": {},
   "outputs": [],
   "source": [
    "network_graph = ox.graph_from_file('../data/Breda/Breda extract.osm', simplify=False)\n",
    "edges = ox.graph_to_gdfs(network_graph, nodes=False, node_geometry=False)\n",
    "\n",
    "edges = edges.to_crs(\"EPSG:28992\")"
   ]
  },
  {
   "cell_type": "code",
   "execution_count": null,
   "metadata": {},
   "outputs": [],
   "source": [
    "len(edges)"
   ]
  },
  {
   "cell_type": "markdown",
   "metadata": {},
   "source": [
    "Filter roads to only motorways:"
   ]
  },
  {
   "cell_type": "code",
   "execution_count": null,
   "metadata": {},
   "outputs": [],
   "source": [
    "highway_types = [\n",
    "    \"primary\",\n",
    "    \"secondary\",\n",
    "    \"motorway\",\n",
    "    \"trunk\",\n",
    "    \"tertiary\",\n",
    "    \"unclassified\",\n",
    "    \"residential\",\n",
    "\n",
    "    \"motorway_link\",\n",
    "    \"trunk_link\",\n",
    "    \"primary_link\",\n",
    "    \"secondary_link\",\n",
    "    \"tertiary_link\",\n",
    "\n",
    "    \"living_street\",\n",
    "    \"service\",\n",
    "    \"pedestrian\",\n",
    "    \"track\",\n",
    "    \"bus_guideway\",\n",
    "    \"escape\",\n",
    "    \"raceway\",\n",
    "    \"road\"\n",
    "]\n",
    "\n",
    "road_edges = edges[(edges['highway'].isin(highway_types)) & (edges['area'] != 'yes')]\n",
    "\n",
    "road_edges.to_file('output/road_edges.geojson', driver='GeoJSON')\n",
    "len(road_edges)"
   ]
  },
  {
   "cell_type": "markdown",
   "metadata": {},
   "source": [
    "# Load the BGT data"
   ]
  },
  {
   "cell_type": "code",
   "execution_count": null,
   "metadata": {
    "scrolled": false
   },
   "outputs": [],
   "source": [
    "bgt_roads = geopandas.read_file('../data/Breda/bgt_roads.geojson')\n",
    "\n",
    "len(bgt_roads)"
   ]
  },
  {
   "cell_type": "markdown",
   "metadata": {},
   "source": [
    "## Compute primary-secondary road polygons\n",
    "\n",
    "We need to assign secondary road polygons (parking spaces, sidewalks) to the primary roads\n",
    "\n",
    "### Filter primary roads\n",
    "\n",
    "Primary types are those that vehicles are supposed to move:"
   ]
  },
  {
   "cell_type": "code",
   "execution_count": null,
   "metadata": {},
   "outputs": [],
   "source": [
    "bgt_road_types = [\n",
    "    'rijbaan lokale weg',\n",
    "    'rijbaan regionale weg',\n",
    "    # 'overweg' # Maybe?\n",
    "]\n",
    "\n",
    "bgt_roads['parent_gml_id'] = bgt_roads['gml_id']\n",
    "\n",
    "bgt_main_roads = bgt_roads[bgt_roads['function'].isin(bgt_road_types)]\n",
    "\n",
    "len(bgt_main_roads)"
   ]
  },
  {
   "cell_type": "markdown",
   "metadata": {},
   "source": [
    "### Apply spatial join\n",
    "\n",
    "*BROKEN: Now a primary road will get another primary road as parent!*\n",
    "\n",
    "Find the secondary roads that touch the main ones:"
   ]
  },
  {
   "cell_type": "code",
   "execution_count": null,
   "metadata": {},
   "outputs": [],
   "source": [
    "bgt_secondary_roads = bgt_roads[~bgt_roads['function'].isin(bgt_road_types)]\n",
    "\n",
    "len(bgt_secondary_roads)"
   ]
  },
  {
   "cell_type": "code",
   "execution_count": null,
   "metadata": {},
   "outputs": [],
   "source": [
    "joined = geopandas.sjoin(bgt_secondary_roads, bgt_main_roads, how='left', op='intersects')\n",
    "\n",
    "joined = joined[['gml_id_left', 'function_left', 'gml_id_right', 'geometry']]\n",
    "joined.columns = ['gml_id', 'function', 'parent_gml_id', 'geometry']\n",
    "\n",
    "bgt_roads_parented = geopandas.GeoDataFrame(joined.groupby('gml_id').aggregate('first').reset_index(), crs='EPSG:28992')\n",
    "\n",
    "len(bgt_roads_parented)"
   ]
  },
  {
   "cell_type": "code",
   "execution_count": null,
   "metadata": {},
   "outputs": [],
   "source": [
    "bgt_roads_parented.columns"
   ]
  },
  {
   "cell_type": "markdown",
   "metadata": {},
   "source": [
    "Concatenate everything:"
   ]
  },
  {
   "cell_type": "code",
   "execution_count": null,
   "metadata": {},
   "outputs": [],
   "source": [
    "bgt_all_roads = pd.concat([bgt_roads_parented, bgt_main_roads[['gml_id', 'function', 'parent_gml_id', 'geometry']]])\n",
    "\n",
    "len(bgt_all_roads)\n",
    "\n",
    "bgt_all_roads.to_file('output/bgt_all_roads', driver='GeoJSON')"
   ]
  },
  {
   "cell_type": "markdown",
   "metadata": {},
   "source": [
    "# Intersect roads network with polygon\n",
    "First, we intersect the road lines with the BGT polygons (to create nodes at the polygon boundaries):"
   ]
  },
  {
   "cell_type": "code",
   "execution_count": null,
   "metadata": {},
   "outputs": [],
   "source": [
    "roads = geopandas.overlay(road_edges, bgt_all_roads, how='intersection')"
   ]
  },
  {
   "cell_type": "markdown",
   "metadata": {},
   "source": [
    "Then, dissolve the roads by `parent_gml_id` (just to group lines per BGT primary road polygon):"
   ]
  },
  {
   "cell_type": "code",
   "execution_count": null,
   "metadata": {},
   "outputs": [],
   "source": [
    "roads_dissolved = roads.dissolve(by='parent_gml_id')"
   ]
  },
  {
   "cell_type": "markdown",
   "metadata": {},
   "source": [
    "Export the intersected roads to `GeoJSON`:"
   ]
  },
  {
   "cell_type": "code",
   "execution_count": null,
   "metadata": {
    "scrolled": true
   },
   "outputs": [],
   "source": [
    "roads.to_file('output/roads.json', driver='GeoJSON')\n",
    "roads_dissolved.to_file('output/roads_dissolved.geojson', driver='GeoJSON')"
   ]
  },
  {
   "cell_type": "markdown",
   "metadata": {},
   "source": [
    "# Export to CityJSON\n",
    "\n",
    "Let's export everything to CityJSON.\n",
    "\n",
    "First, we'll define how the established intersected lines will be translated to `Road` objects:"
   ]
  },
  {
   "cell_type": "code",
   "execution_count": null,
   "metadata": {},
   "outputs": [],
   "source": [
    "def process_line(line, vertices):\n",
    "    points = [[x, y, 0] for x, y in list(line.coords)]\n",
    "    indices = [i + len(vertices) for i in range(len(points))]\n",
    "    for p in points:\n",
    "        vertices.append(p)\n",
    "\n",
    "    return indices\n",
    "\n",
    "def process_geometry(geom, vertices):\n",
    "    if geom.type == \"LineString\":\n",
    "        indices = [process_line(geom, vertices)]\n",
    "    else:\n",
    "        indices = []\n",
    "        \n",
    "        for l in geom.geoms:\n",
    "            indices.append(process_line(l, vertices))\n",
    "        \n",
    "    return indices\n",
    "\n",
    "def create_geometry(geom, lod, vertices):\n",
    "    indices = []\n",
    "    \n",
    "    if geom.type == \"LineString\":\n",
    "        geom_type = \"MultiLineString\"\n",
    "        \n",
    "        # Sort of hacky: if it's a LineString you expect a single-level array.\n",
    "        indices = process_geometry(geom, vertices)\n",
    "    elif geom.type == \"MultiLineString\":\n",
    "        geom_type = \"MultiLineString\"\n",
    "        \n",
    "        indices = process_geometry(geom, vertices)\n",
    "    elif geom.type == \"Polygon\":\n",
    "        geom_type = \"MultiSurface\"\n",
    "        \n",
    "        indices = [process_geometry(geom.boundary, vertices)]\n",
    "    \n",
    "    return {\n",
    "        \"type\": geom_type,\n",
    "        \"lod\": lod,\n",
    "        \"boundaries\": indices\n",
    "    }\n",
    "\n",
    "def create_cityobject(feature, vertices):\n",
    "    return {\n",
    "        \"type\": \"Road\",\n",
    "        \"attributes\": {\n",
    "            \"osm_id\": feature['osmid'],\n",
    "            \"highway\": feature['highway'],\n",
    "        },\n",
    "        \"geometry\": [\n",
    "            create_geometry(feature['geometry'], \"0.1\", vertices)\n",
    "        ]\n",
    "    }"
   ]
  },
  {
   "cell_type": "markdown",
   "metadata": {},
   "source": [
    "Now, let's run this against all intersected road segments:"
   ]
  },
  {
   "cell_type": "code",
   "execution_count": null,
   "metadata": {
    "scrolled": true
   },
   "outputs": [],
   "source": [
    "vertices = []\n",
    "\n",
    "objects = {i: create_cityobject(f, vertices) for i, f in roads_dissolved.iterrows()}\n",
    "\n",
    "for i, f in bgt_all_roads.iterrows():\n",
    "    if f['gml_id'] in objects:\n",
    "        objects[f['gml_id']]['geometry'].append(create_geometry(f['geometry'], \"2\", vertices))"
   ]
  },
  {
   "cell_type": "markdown",
   "metadata": {},
   "source": [
    "Finally, let's export everything as CityJSON:"
   ]
  },
  {
   "cell_type": "code",
   "execution_count": null,
   "metadata": {},
   "outputs": [],
   "source": [
    "import json\n",
    "import io\n",
    "\n",
    "output = {\n",
    "  \"type\": \"CityJSON\",\n",
    "  \"version\": \"1.0\",\n",
    "  \"CityObjects\": objects,\n",
    "  \"vertices\": vertices\n",
    "}\n",
    "\n",
    "with open('output/breda.json', 'w') as file:\n",
    "    json.dump(output, file)"
   ]
  }
 ],
 "metadata": {
  "kernelspec": {
   "display_name": "Python 3",
   "language": "python",
   "name": "python3"
  },
  "language_info": {
   "codemirror_mode": {
    "name": "ipython",
    "version": 3
   },
   "file_extension": ".py",
   "mimetype": "text/x-python",
   "name": "python",
   "nbconvert_exporter": "python",
   "pygments_lexer": "ipython3",
   "version": "3.7.7"
  }
 },
 "nbformat": 4,
 "nbformat_minor": 2
}
