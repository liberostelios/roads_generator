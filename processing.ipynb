{
 "cells": [
  {
   "cell_type": "markdown",
   "metadata": {},
   "source": [
    "# Import basic libraries\n",
    "\n",
    "Let's import some basic stuff"
   ]
  },
  {
   "cell_type": "markdown",
   "metadata": {},
   "source": [
    "## TODO\n",
    "- Add the nodes in the CityJSON file, keeping the relationships between nodes and edges (linestrings). The nodes have semantics and atttributes.\n",
    "- Find a small area and compute widths.\n",
    "- Create LoD0.1 with single lines and attributes for two-way and same for LoD0.2."
   ]
  },
  {
   "cell_type": "markdown",
   "metadata": {},
   "source": [
    "# Ideas for modelling\n",
    "\n",
    "1. Every city object contains `MultiPoints` (nodes of LoD0.1), `MultiLineStrings` (edges of LoD0.1) and `MultiSurfaces `(for LoD1+).\n",
    "2. Every city object contains `MultiLineStrings` (geometry of edges of LoD0.1) and `MultiSurfaces` (for LoD1+). The network topology (nodes and edges) is defined in its own `\"+network\"` portion of the city model.\n",
    "3. Every city object has its own `MultiSurfaces` (for LoD1+). Then the actual network (nodes, edges and their geometry) is stored in `\"+network\"`.\n",
    "4. Every node is its own city object. Every edge is its own city object. Every surface is its own city object. Then `CityObjectGroups` are used to relate them."
   ]
  },
  {
   "cell_type": "markdown",
   "metadata": {},
   "source": [
    "### Fix for `fiona`\n",
    "\n",
    "*`fiona` has an issue with GDAL 3.0. Better set your `GDAL_DATA` path to fiona's installation (contains GDAL 2.4.4) prior to running this script.*"
   ]
  },
  {
   "cell_type": "code",
   "execution_count": 1,
   "metadata": {},
   "outputs": [
    {
     "name": "stderr",
     "output_type": "stream",
     "text": [
      "/Users/liberostelios/Dropbox/TU Delft/PhD Thesis/22 - Roads dataset/src/venv/lib/python3.8/site-packages/tqdm/std.py:697: FutureWarning: The Panel class is removed from pandas. Accessing it from the top-level namespace will also be removed in the next version\n",
      "  from pandas import Panel\n"
     ]
    }
   ],
   "source": [
    "import geopandas\n",
    "import pandas as pd\n",
    "import osmnx as ox\n",
    "import networkx as nx\n",
    "import shapely\n",
    "import os\n",
    "\n",
    "# This is to have progress bars with (geo)pandas\n",
    "from tqdm.notebook import trange, tqdm\n",
    "\n",
    "tqdm.pandas()"
   ]
  },
  {
   "cell_type": "markdown",
   "metadata": {},
   "source": [
    "# Define variables\n",
    "\n",
    "Here is where you can setup the environment to work with your data."
   ]
  },
  {
   "cell_type": "markdown",
   "metadata": {},
   "source": [
    "### Data variables"
   ]
  },
  {
   "cell_type": "code",
   "execution_count": 2,
   "metadata": {},
   "outputs": [],
   "source": [
    "location_name = \"Poznan\"\n",
    "roads_file = '../data/Poznan/input/PoznanMPtoP.gpkg'\n",
    "epsg = 2177\n",
    "bgt = False\n",
    "output_folder = '../data/Poznan/Poznan'\n",
    "\n",
    "epsg_str = \"EPSG:{}\".format(epsg)\n",
    "if not os.path.exists(output_folder):\n",
    "    os.mkdir(output_folder)\n",
    "\n",
    "# Toronto - 26917\n",
    "# Montreal - 32188\n",
    "# Shawinigan - 32618\n",
    "# NL - 28992\n",
    "# Poznan - 2177\n",
    "# Helsinki - 3879"
   ]
  },
  {
   "cell_type": "markdown",
   "metadata": {},
   "source": [
    "### Database setup"
   ]
  },
  {
   "cell_type": "code",
   "execution_count": 3,
   "metadata": {},
   "outputs": [],
   "source": [
    "pg_user = \"roads\"\n",
    "pg_pass = \"\"\n",
    "pg_host = \"localhost\"\n",
    "pg_port = 5432\n",
    "pg_database = \"road_widths\""
   ]
  },
  {
   "cell_type": "markdown",
   "metadata": {},
   "source": [
    "# Download the OSM data\n",
    "\n",
    "This will load the osm file to a network"
   ]
  },
  {
   "cell_type": "code",
   "execution_count": 4,
   "metadata": {},
   "outputs": [],
   "source": [
    "aerial_roads = geopandas.read_file(roads_file)\n",
    "aerial_roads.crs = epsg_str\n",
    "\n",
    "bbox = aerial_roads.to_crs(\"EPSG:4326\").total_bounds"
   ]
  },
  {
   "cell_type": "markdown",
   "metadata": {},
   "source": [
    "Load the OSM data:"
   ]
  },
  {
   "cell_type": "code",
   "execution_count": 5,
   "metadata": {},
   "outputs": [],
   "source": [
    "# # We don't want edges to be loaded twice\n",
    "ox.config(all_oneway=True, useful_tags_way=['bridge', 'tunnel', 'oneway', 'lanes', 'ref', 'name', 'highway', 'maxspeed', 'service', 'access', 'area', 'landuse', 'width', 'est_width', 'junction', 'layer', 'psv'])\n",
    "\n",
    "network_graph = ox.graph_from_bbox(bbox[3], bbox[1], bbox[2], bbox[0], simplify=False)\n",
    "# We simplify the graph afterwards, so that osmids are not \"smashed\" together\n",
    "network_graph = ox.simplify_graph(network_graph, strict=False)"
   ]
  },
  {
   "cell_type": "markdown",
   "metadata": {},
   "source": [
    "We create `UUID` for every edge:"
   ]
  },
  {
   "cell_type": "code",
   "execution_count": 6,
   "metadata": {},
   "outputs": [
    {
     "name": "stdout",
     "output_type": "stream",
     "text": [
      "156504\n",
      "Found conflicts! Recomputing...\n",
      "156504\n",
      "Found conflicts! Recomputing...\n",
      "156504\n",
      "Found conflicts! Recomputing...\n",
      "156504\n",
      "Found conflicts! Recomputing...\n",
      "156504\n",
      "Found conflicts! Recomputing...\n",
      "156504\n",
      "Found conflicts! Recomputing...\n",
      "156504\n",
      "Found conflicts! Recomputing...\n",
      "156504\n",
      "Found conflicts! Recomputing...\n",
      "156504\n",
      "Found conflicts! Recomputing...\n",
      "156504\n",
      "Found conflicts! Recomputing...\n",
      "156504\n",
      "Found conflicts! Recomputing...\n",
      "156504\n",
      "Found conflicts! Recomputing...\n",
      "156504\n",
      "Found conflicts! Recomputing...\n",
      "156504\n",
      "Found conflicts! Recomputing...\n",
      "156504\n",
      "Found conflicts! Recomputing...\n",
      "156504\n",
      "Found conflicts! Recomputing...\n",
      "156504\n",
      "Found conflicts! Recomputing...\n",
      "156504\n",
      "Found conflicts! Recomputing...\n",
      "156504\n",
      "Found conflicts! Recomputing...\n",
      "156504\n",
      "Found conflicts! Recomputing...\n",
      "156504\n",
      "Found conflicts! Recomputing...\n",
      "Done\n"
     ]
    }
   ],
   "source": [
    "import uuid\n",
    "import hashlib\n",
    "import json\n",
    "from cityhash import CityHash32\n",
    "\n",
    "hashes = []\n",
    "def compute_hashes():\n",
    "    for u,v,a in network_graph.edges(data=True):\n",
    "        temp = {\n",
    "            \"osmid\": a['osmid'],\n",
    "            \"length\": a['length']\n",
    "        }\n",
    "        a['uuid'] = CityHash32(uuid.uuid4().hex)\n",
    "        hashes.append(a['uuid'])\n",
    "\n",
    "compute_hashes()\n",
    "# Ensure no conflict between the UUIDs\n",
    "while len(hashes) != len(set(hashes)):\n",
    "    print(len(hashes))\n",
    "    hashes = []\n",
    "    print(\"Found conflicts! Recomputing...\")\n",
    "    compute_hashes()\n",
    "\n",
    "print(\"Done\")"
   ]
  },
  {
   "cell_type": "markdown",
   "metadata": {},
   "source": [
    "Then we export the edges to a GeoDataFrame:"
   ]
  },
  {
   "cell_type": "code",
   "execution_count": 7,
   "metadata": {},
   "outputs": [
    {
     "data": {
      "text/plain": [
       "156504"
      ]
     },
     "execution_count": 7,
     "metadata": {},
     "output_type": "execute_result"
    }
   ],
   "source": [
    "nodes, edges = ox.graph_to_gdfs(network_graph)\n",
    "\n",
    "edges = edges.to_crs(epsg_str)\n",
    "\n",
    "len(edges)"
   ]
  },
  {
   "cell_type": "code",
   "execution_count": 8,
   "metadata": {},
   "outputs": [
    {
     "name": "stdout",
     "output_type": "stream",
     "text": [
      "Initial network exported.\n"
     ]
    }
   ],
   "source": [
    "edges.to_file('{}/initial_network.gpkg'.format(output_folder), layer='edges', driver='GPKG')\n",
    "nodes.to_file('{}/initial_network.gpkg'.format(output_folder), layer='nodes', driver='GPKG')\n",
    "\n",
    "print(\"Initial network exported.\")\n"
   ]
  },
  {
   "cell_type": "markdown",
   "metadata": {},
   "source": [
    "## Filter drive and service roads only\n",
    "\n",
    "Filter roads to only motorways:"
   ]
  },
  {
   "cell_type": "code",
   "execution_count": 9,
   "metadata": {},
   "outputs": [
    {
     "name": "stdout",
     "output_type": "stream",
     "text": [
      "Connected components after filtering: 94\n",
      "Filtered network: 72885 edges, 62912 nodes\n"
     ]
    }
   ],
   "source": [
    "highway_types = [\n",
    "    \"primary\",\n",
    "    \"secondary\",\n",
    "    \"motorway\",\n",
    "    \"trunk\",\n",
    "    \"tertiary\",\n",
    "    \"unclassified\",\n",
    "    \"residential\",\n",
    "\n",
    "    \"motorway_link\",\n",
    "    \"trunk_link\",\n",
    "    \"primary_link\",\n",
    "    \"secondary_link\",\n",
    "    \"tertiary_link\",\n",
    "\n",
    "    \"living_street\",\n",
    "    \"service\",\n",
    "    \"pedestrian\",\n",
    "#     \"track\",\n",
    "    \"bus_guideway\",\n",
    "    \"escape\",\n",
    "    \"raceway\",\n",
    "    \"road\"\n",
    "]\n",
    "\n",
    "road_edges = edges[(edges['highway'].isin(highway_types))]\n",
    "\n",
    "filtered_network = ox.graph_from_gdfs(nodes, road_edges)\n",
    "filtered_network = ox.utils_graph.remove_isolated_nodes(filtered_network)\n",
    "\n",
    "print(\"Connected components after filtering: {}\".format(nx.number_weakly_connected_components(filtered_network)))\n",
    "\n",
    "road_nodes, road_edges = ox.graph_to_gdfs(filtered_network)\n",
    "\n",
    "road_edges.to_file('{}/filtered_network.gpkg'.format(output_folder), layer='edges', driver='GPKG')\n",
    "road_nodes.to_file('{}/filtered_network.gpkg'.format(output_folder), layer='nodes', driver='GPKG')\n",
    "\n",
    "print(\"Filtered network: {} edges, {} nodes\".format(len(road_edges), len(road_nodes)))"
   ]
  },
  {
   "cell_type": "markdown",
   "metadata": {},
   "source": [
    "# Calculate carriageways and lanes\n",
    "- Compute the carriageways only from OSM attributes.\n",
    "- Compute road width:\n",
    "     - We exclude intersections.\n",
    "- How we create the carriageways for twoway streets and more specifically for intersections.\n",
    "\n",
    "NOTE: Case of a two-way road where we figure out that the road width doesn't fit two lanes (special case were two ways share the same carriageway)."
   ]
  },
  {
   "cell_type": "code",
   "execution_count": 10,
   "metadata": {},
   "outputs": [],
   "source": [
    "from shapely.ops import unary_union\n",
    "from shapely.geometry import Point, LineString, MultiLineString\n",
    "\n",
    "def get_vertex(line, first=True):\n",
    "    \"\"\"Returns the first or last vertex of the line as a Point\"\"\"\n",
    "    if line.type == \"LineString\":        \n",
    "        return Point(line.coords[0 if first else -1])\n",
    "    elif line.type == \"MultiLineString\" and len(line.geoms) == 1:\n",
    "        return Point(line.geoms[0].coords[0 if first else -1])\n",
    "    else:\n",
    "        raise TypeError(\"This is MultiLineString with many parts!\")"
   ]
  },
  {
   "cell_type": "markdown",
   "metadata": {},
   "source": [
    "## Calculate width\n",
    "\n",
    "### Using PostGIS\n",
    "\n",
    "This is to calculate the widths in PostGIS using [this](https://github.com/willemhoffmans/bgt_wegbreedte/).\n",
    "\n",
    "Let's import stuff and create the connection with the database:"
   ]
  },
  {
   "cell_type": "code",
   "execution_count": 11,
   "metadata": {},
   "outputs": [],
   "source": [
    "# SO https://gis.stackexchange.com/a/239231\n",
    "\n",
    "# Imports\n",
    "from geoalchemy2 import Geometry, WKTElement\n",
    "from sqlalchemy import *\n",
    "import pandas as pd\n",
    "import geopandas as gpd\n",
    "\n",
    "# Creating SQLAlchemy's engine to use\n",
    "engine = create_engine('postgresql://{}@{}:{}/{}'.format(pg_user, pg_host, pg_port, pg_database))"
   ]
  },
  {
   "cell_type": "markdown",
   "metadata": {},
   "source": [
    "Let's create the required functions in the database:"
   ]
  },
  {
   "cell_type": "code",
   "execution_count": 13,
   "metadata": {},
   "outputs": [],
   "source": [
    "import psycopg2\n",
    "\n",
    "conn = psycopg2.connect(dbname=pg_database, user=pg_user, password=pg_pass)\n",
    "\n",
    "file = open(\"wegbreedtes_script.sql\", \"r\")\n",
    "conn.set_isolation_level(psycopg2.extensions.ISOLATION_LEVEL_AUTOCOMMIT)\n",
    "cursor = conn.cursor()\n",
    "cursor.execute(file.read())"
   ]
  },
  {
   "cell_type": "markdown",
   "metadata": {},
   "source": [
    "Now we export the BGT roads to the database with the appropriate names:"
   ]
  },
  {
   "cell_type": "code",
   "execution_count": 14,
   "metadata": {},
   "outputs": [],
   "source": [
    "export_aerial = aerial_roads.copy()\n",
    "export_aerial['geometrie_vlak'] = export_aerial['geometry'].apply(lambda x: WKTElement(x.wkt, srid=epsg))\n",
    "\n",
    "export_aerial.drop('geometry', 1, inplace=True)\n",
    "\n",
    "if bgt:\n",
    "    export_aerial = export_aerial.rename(columns={'function':'bgt_functie'})\n",
    "else:\n",
    "    export_aerial['bgt_functie'] = \"rijbaan\"\n",
    "\n",
    "# Use 'dtype' to specify column's type\n",
    "# For the geom column, we will use GeoAlchemy's type 'Geometry'\n",
    "export_aerial.to_sql(\"wegdeel\", engine, schema='bgt', if_exists='replace', index=False, \n",
    "                         dtype={'geometrie_vlak': Geometry('POLYGON', srid=epsg)})"
   ]
  },
  {
   "cell_type": "markdown",
   "metadata": {},
   "source": [
    "Export the roads:"
   ]
  },
  {
   "cell_type": "code",
   "execution_count": 15,
   "metadata": {},
   "outputs": [],
   "source": [
    "from shapely.geometry import MultiLineString\n",
    "\n",
    "export_roads = road_edges.copy()\n",
    "export_roads['geom'] = export_roads['geometry'].apply(lambda x: WKTElement(MultiLineString([x]).wkt, srid=epsg))\n",
    "\n",
    "export_roads.drop('geometry', 1, inplace=True)\n",
    "\n",
    "# Use 'dtype' to specify column's type\n",
    "# For the geom column, we will use GeoAlchemy's type 'Geometry'\n",
    "export_roads.to_sql(\"road_edges\", engine, if_exists='replace', index=False, \n",
    "                         dtype={'geom': Geometry('MULTILINESTRING', srid=epsg)})"
   ]
  },
  {
   "cell_type": "markdown",
   "metadata": {},
   "source": [
    "Now, run the function to compute the widths:"
   ]
  },
  {
   "cell_type": "code",
   "execution_count": 16,
   "metadata": {},
   "outputs": [
    {
     "name": "stdout",
     "output_type": "stream",
     "text": [
      "('OK!',)\n"
     ]
    }
   ],
   "source": [
    "conn = psycopg2.connect(dbname=pg_database, user=pg_user, password=pg_pass)\n",
    "conn.set_isolation_level(psycopg2.extensions.ISOLATION_LEVEL_AUTOCOMMIT)\n",
    "\n",
    "cursor = conn.cursor()\n",
    "\n",
    "cursor.execute(\"SELECT wh_wegbreedte_bgt_generiek ('road_edges', 'uuid', false, 0, {});\".format(epsg))\n",
    "for c in cursor:\n",
    "    print(c)"
   ]
  },
  {
   "cell_type": "markdown",
   "metadata": {},
   "source": [
    "Load the resulting table with widths:"
   ]
  },
  {
   "cell_type": "code",
   "execution_count": 17,
   "metadata": {},
   "outputs": [
    {
     "data": {
      "text/plain": [
       "49805"
      ]
     },
     "execution_count": 17,
     "metadata": {},
     "output_type": "execute_result"
    }
   ],
   "source": [
    "road_widths = geopandas.GeoDataFrame.from_postgis(\"SELECT * FROM breedte_analyse_nieuw.gemiddeldebreedte\", conn, geom_col='geom' )\n",
    "\n",
    "road_widths = road_widths.rename(columns={\"geom\": \"geometry\"})\n",
    "\n",
    "len(road_widths)"
   ]
  },
  {
   "cell_type": "markdown",
   "metadata": {},
   "source": [
    "# Create carriageways\n",
    "\n",
    "We calculated the widths via PostGIS using [this](https://github.com/willemhoffmans/bgt_wegbreedte/) (embarassingly, the previous scripts didn't work).\n",
    "\n",
    "Let's load the data with the width:"
   ]
  },
  {
   "cell_type": "code",
   "execution_count": 18,
   "metadata": {},
   "outputs": [
    {
     "data": {
      "text/plain": [
       "49805"
      ]
     },
     "execution_count": 18,
     "metadata": {},
     "output_type": "execute_result"
    }
   ],
   "source": [
    "roads_init = road_widths.rename(columns={\"wegvakid\": \"uuid\"}).merge(road_edges.set_index(\"uuid\"), on=\"uuid\", suffixes=('', '_right'))\n",
    "\n",
    "len(roads_init)"
   ]
  },
  {
   "cell_type": "markdown",
   "metadata": {},
   "source": [
    "Append the missing roads segments. We will set a road width of 0 for them. Also, we need to convert them to `MultiLineString` to match the rest of the geometries."
   ]
  },
  {
   "cell_type": "code",
   "execution_count": 19,
   "metadata": {},
   "outputs": [
    {
     "data": {
      "text/plain": [
       "72885"
      ]
     },
     "execution_count": 19,
     "metadata": {},
     "output_type": "execute_result"
    }
   ],
   "source": [
    "from shapely.geometry import MultiLineString\n",
    "import numpy as np\n",
    "\n",
    "def make_multilinestring(f):\n",
    "    \"\"\"Returns a geometry as MultiLineString if it is a LineString\"\"\"\n",
    "    \n",
    "    if f[\"geometry\"].type == \"LineString\":\n",
    "        return MultiLineString([f[\"geometry\"]])\n",
    "    \n",
    "    return f[\"geometry\"]\n",
    "\n",
    "roads_init = pd.concat([roads_init, road_edges[road_edges['uuid'].isin(roads_init['uuid']) == False]], ignore_index=True)\n",
    "\n",
    "roads_init.loc[roads_init[np.isnan(roads_init['oper_breedte'])].index, 'oper_breedte'] = 0\n",
    "\n",
    "roads_init[\"geometry\"] = roads_init.apply(make_multilinestring, axis=1)\n",
    "\n",
    "len(roads_init)"
   ]
  },
  {
   "cell_type": "markdown",
   "metadata": {},
   "source": [
    "Cleanup duplicates:"
   ]
  },
  {
   "cell_type": "code",
   "execution_count": 20,
   "metadata": {},
   "outputs": [
    {
     "data": {
      "application/vnd.jupyter.widget-view+json": {
       "model_id": "f191a112918c43ba8facef68bff38409",
       "version_major": 2,
       "version_minor": 0
      },
      "text/plain": [
       "HBox(children=(HTML(value=''), FloatProgress(value=0.0, max=72885.0), HTML(value='')))"
      ]
     },
     "metadata": {},
     "output_type": "display_data"
    },
    {
     "name": "stdout",
     "output_type": "stream",
     "text": [
      "\n"
     ]
    },
    {
     "data": {
      "text/plain": [
       "72885"
      ]
     },
     "execution_count": 20,
     "metadata": {},
     "output_type": "execute_result"
    }
   ],
   "source": [
    "def make_ccw(geom):\n",
    "    \"\"\"\n",
    "    Normalises the orientation of a (MultiLineString) to\n",
    "    always go the same direction on the X axis.\n",
    "    \"\"\"\n",
    "    \n",
    "    if geom.type == \"LineString\":\n",
    "        c = list(geom.coords)\n",
    "        \n",
    "        if c[0][0] > c[-1][0]:\n",
    "            c = c[::-1]\n",
    "\n",
    "        return LineString(c)\n",
    "    elif geom.type == \"MultiLineString\":\n",
    "        lines = [make_ccw(l) for l in geom.geoms]\n",
    "        \n",
    "        return MultiLineString(lines)\n",
    "    else:\n",
    "        raise NotImplementedError(\"This only works for (Multi)LineString (given: '{}')\".format(geom.type))\n",
    "\n",
    "roads_init[\"wkt\"] = roads_init[\"geometry\"].progress_apply(lambda l: make_ccw(l.geoms[0]).wkt)\n",
    "roads_init = roads_init.drop_duplicates(subset=[\"wkt\"])\n",
    "roads_init = roads_init.drop(['wkt'], 1)\n",
    "\n",
    "len(roads_init)"
   ]
  },
  {
   "cell_type": "markdown",
   "metadata": {},
   "source": [
    "## Mark lines as forced single carriageways\n",
    "\n",
    "Yes, we do that here:"
   ]
  },
  {
   "cell_type": "code",
   "execution_count": 21,
   "metadata": {},
   "outputs": [
    {
     "data": {
      "application/vnd.jupyter.widget-view+json": {
       "model_id": "eb4ef151eab141049c5917e6bdcebf45",
       "version_major": 2,
       "version_minor": 0
      },
      "text/plain": [
       "HBox(children=(HTML(value=''), FloatProgress(value=0.0, max=72885.0), HTML(value='')))"
      ]
     },
     "metadata": {},
     "output_type": "display_data"
    },
    {
     "name": "stdout",
     "output_type": "stream",
     "text": [
      "\n"
     ]
    }
   ],
   "source": [
    "def find_neighbouring_edges(f, nodeid, remove_self=True):\n",
    "    \"\"\"Returns the road UUIDs of the neighbours of a feature at a given node\"\"\"\n",
    "    \n",
    "    uuids = [a['uuid'] for u, v, a in network_graph.in_edges(nodeid, data=True)] + [a['uuid'] for u, v, a in network_graph.out_edges(nodeid, data=True)]\n",
    "    \n",
    "    if remove_self:\n",
    "        uuids.remove(f['uuid'])\n",
    "    \n",
    "    return roads_init[roads_init['uuid'].isin(uuids)]\n",
    "\n",
    "def is_psv(f):\n",
    "    \"\"\"Returns if this is a psv line\"\"\"\n",
    "    \n",
    "    return 'psv' in f and f['psv'] in ['yes', 'designated']\n",
    "\n",
    "def is_no_access(f):\n",
    "    \"\"\"Returns if this line has 'access' == 'no'\"\"\"\n",
    "    \n",
    "    return 'access' in f and f['access'] == 'no'\n",
    "\n",
    "def is_forced_single(f):\n",
    "    \"\"\"\n",
    "    Returns True if this feature has or touches another feature with\n",
    "    'psv' = 'yes' or 'designated'. Also returns True if the feature\n",
    "    has 'access' = 'no'\n",
    "    \"\"\"\n",
    "    \n",
    "    if is_psv(f):\n",
    "        return True\n",
    "    \n",
    "    if is_no_access(f):\n",
    "        return True\n",
    "    \n",
    "    u_neighbours = find_neighbouring_edges(f, f['u'])\n",
    "    v_neighbours = find_neighbouring_edges(f, f['v'])\n",
    "    \n",
    "    for uuid, n in u_neighbours.iterrows():\n",
    "        if is_psv(n):\n",
    "            return True\n",
    "    \n",
    "    for uuid, n in v_neighbours.iterrows():\n",
    "        if is_psv(n):\n",
    "            return True\n",
    "    \n",
    "    return False\n",
    "\n",
    "roads_init['forced_single'] = roads_init.progress_apply(is_forced_single, axis=1)"
   ]
  },
  {
   "cell_type": "markdown",
   "metadata": {},
   "source": [
    "## Construct carriageways\n",
    "\n",
    "Let's create the basic carriageways when `is_one_carriageway` is `false` (specific width and a two way street):"
   ]
  },
  {
   "cell_type": "code",
   "execution_count": 22,
   "metadata": {},
   "outputs": [
    {
     "data": {
      "application/vnd.jupyter.widget-view+json": {
       "model_id": "74085beafd9a4f509c252311005ef894",
       "version_major": 2,
       "version_minor": 0
      },
      "text/plain": [
       "HBox(children=(HTML(value=''), FloatProgress(value=0.0, max=72885.0), HTML(value='')))"
      ]
     },
     "metadata": {},
     "output_type": "display_data"
    },
    {
     "name": "stdout",
     "output_type": "stream",
     "text": [
      "\n",
      "Done\n"
     ]
    }
   ],
   "source": [
    "from shapely.ops import linemerge\n",
    "import warnings\n",
    "\n",
    "width_col = 'oper_breedte'\n",
    "\n",
    "def azimuth(point1, point2):\n",
    "    '''azimuth between 2 shapely points (interval 0 - 360)'''\n",
    "    angle = np.arctan2(point2.x - point1.x, point2.y - point1.y)\n",
    "    return np.degrees(angle) if angle >= 0 else np.degrees(angle) + 360\n",
    "\n",
    "def line_azimuth(line, beginning, min_length=0.001):\n",
    "    \"\"\"Return the azimuth of a LineString.\n",
    "    \n",
    "    Depending on the boolean provided, it will return the azimuth of the\n",
    "    beginning (if True) or end (if False) of the LineString. In order to\n",
    "    ensure stability, the algorithm expects that a min_length of segments\n",
    "    is accounted for the two points tha will compute the azimuth.\n",
    "    \"\"\"\n",
    "    \n",
    "    if line.type == \"MultiLineString\":\n",
    "        l = linemerge(line)\n",
    "    else:\n",
    "        l = line\n",
    "    \n",
    "    start_p = Point(l.coords[0 if beginning else -1])\n",
    "    c_count = len(l.coords)\n",
    "    for i in range(1, c_count):\n",
    "        end_p = Point(l.coords[i if beginning else c_count - i - 1])\n",
    "        tmp_line = LineString([start_p, end_p])\n",
    "        if tmp_line.length > min_length:\n",
    "            return azimuth(start_p, end_p)\n",
    "    \n",
    "    # If the min_length is too big, return the azimuth of the whole thing\n",
    "    return azimuth(start_p, end_p)\n",
    "\n",
    "def get_line_azimuth(line, reverse):\n",
    "    \"\"\"Returns the azimuth of a line based on its boundaries (end points).\n",
    "    \n",
    "    Better use the `line_azimuth` function instead!\n",
    "    \"\"\"\n",
    "    if reverse:\n",
    "        return azimuth(Point(line.coords[-1]), Point(line.coords[-2]))\n",
    "    \n",
    "    return azimuth(Point(line.coords[0]), Point(line.coords[1]))\n",
    "\n",
    "def angle_of_features(f1, f2, nodeid, geom_column=\"geometry\"):\n",
    "    az = get_line_azimuth(f1[geom_column].geoms[0], f1['u'] != nodeid)\n",
    "    n_az = get_line_azimuth(f2[geom_column].geoms[0], f2['u'] != nodeid)\n",
    "        \n",
    "    return abs(n_az - az)                \n",
    "        \n",
    "def is_one_way(f):\n",
    "    \"\"\"Returns True if this feature is a one way\"\"\"\n",
    "    \n",
    "    if f['oneway'] == 'yes':\n",
    "        return True\n",
    "    \n",
    "    if \"junction\" in f and f[\"junction\"] == \"roundabout\":\n",
    "        return True\n",
    "    \n",
    "    if \"highway\" in f and (f[\"highway\"] == \"motorway\" or f[\"highway\"] == \"motorway_link\"):\n",
    "        return True\n",
    "    \n",
    "    return False\n",
    "\n",
    "def is_one_carriageway(f, tolerance):\n",
    "    if 'forced_single' in f and f['forced_single'] == True:\n",
    "        return True\n",
    "        \n",
    "    return is_one_way(f) or (f[width_col] < (6 - tolerance)) or (f[width_col] > (15 + tolerance))\n",
    "\n",
    "def get_continuation(f, neighbours, nodeid):\n",
    "    if len(neighbours) == 1:\n",
    "        return neighbours.iloc[0]\n",
    "    \n",
    "    for i, n in neighbours.reset_index().iterrows():\n",
    "        theta = angle_of_features(f, n, nodeid)\n",
    "        if theta > 160 and theta < 200:\n",
    "            return n\n",
    "    \n",
    "    return None\n",
    "\n",
    "def carriageway_placement(f):\n",
    "    \"\"\"Returns the width of the carriage ways\"\"\"\n",
    "    if is_one_way(f):\n",
    "        return 0\n",
    "    \n",
    "    u_neighbours = find_neighbouring_edges(f, f['u'])\n",
    "    v_neighbours = find_neighbouring_edges(f, f['v'])\n",
    "    \n",
    "    if len(u_neighbours) == 1 and len(v_neighbours) == 1:\n",
    "        un = u_neighbours.iloc[0]\n",
    "        vn = v_neighbours.iloc[0]\n",
    "        if un[width_col] > 6 and vn[width_col] > 6:\n",
    "            return min(un[width_col], vn[width_col]) / 4\n",
    "    \n",
    "    if len(u_neighbours) > 1 and len(v_neighbours) > 1 and f[\"geometry\"].length < 20:\n",
    "        # Check the angle with some features\n",
    "        cu = get_continuation(f, u_neighbours, f['u'])\n",
    "        cv = get_continuation(f, v_neighbours, f['v'])\n",
    "        if (not cu is None\n",
    "            and not cv is None\n",
    "            and (not is_one_carriageway(cu, 0)\n",
    "                 or not is_one_carriageway(cv, 0))):\n",
    "            \n",
    "            widths = []\n",
    "            \n",
    "            if not is_one_carriageway(cu, 0):\n",
    "                widths.append(cu[width_col] / 4)\n",
    "            \n",
    "            if not is_one_carriageway(cv, 0):\n",
    "                widths.append(cv[width_col] / 4)\n",
    "            \n",
    "            if not is_one_carriageway(f, 0):\n",
    "                widths.append(f[width_col] / 4)\n",
    "            \n",
    "            return min(widths)\n",
    "        else:\n",
    "            return 0\n",
    "    \n",
    "    # Check if this is the last segment of a road which normally, if short, is\n",
    "    # very much affected by the intersection and will end up with an unrealistically\n",
    "    # high width. Therefore, we will choose its type by the previous segment of this\n",
    "    # road.\n",
    "    if f[width_col] > 15:\n",
    "        c = get_continuation(f, u_neighbours, f['u'])\n",
    "        if not c is None and not is_one_carriageway(c, 0):\n",
    "            return c[width_col] / 4\n",
    "\n",
    "        c = get_continuation(f, v_neighbours, f['v'])\n",
    "        if not c is None and not is_one_carriageway(c, 0):\n",
    "            return c[width_col] / 4\n",
    "\n",
    "    if len(u_neighbours) > 1 and len(v_neighbours) == 1:\n",
    "        n = v_neighbours.iloc[0]\n",
    "        if n['geometry'].length > f['geometry'].length * 1.2:\n",
    "            if is_one_carriageway(n, 2):\n",
    "                return 0\n",
    "            else:\n",
    "                return n[width_col] / 4\n",
    "    if len(u_neighbours) == 1 and len(v_neighbours) > 1:\n",
    "        n = u_neighbours.iloc[0]\n",
    "        if n['geometry'].length > f['geometry'].length * 1.2:\n",
    "            if is_one_carriageway(n, 2):\n",
    "                return 0\n",
    "            else:\n",
    "                return n[width_col] / 4\n",
    "\n",
    "    # This is only the general case\n",
    "    if is_one_carriageway(f, 0):\n",
    "        return 0\n",
    "    else:\n",
    "        return f[width_col] / 4\n",
    "\n",
    "def create_carriageway(f):\n",
    "    geom = f['geometry']\n",
    "    \n",
    "    width = carriageway_placement(f)\n",
    "    if width == 0:\n",
    "        return geom\n",
    "    \n",
    "    # TODO: We check if it's an extreme and then we check if it's a dead-end\n",
    "    #       in which case we just exclude or we return the original geometry\n",
    "    \n",
    "    left_way = geom.geoms[0].parallel_offset(width, 'left')\n",
    "    right_way = geom.geoms[0].parallel_offset(width, 'right')\n",
    "    result = left_way.union(right_way)\n",
    "    \n",
    "    # This happens when closed loops have too wide roads. Better return the original geometry here.\n",
    "    if result.type == \"LineString\":\n",
    "        warnings.warn(\"Feature {} is a dual carriageway, but returned only one way! We are recovering its original geometry.\".format(f['uuid']))\n",
    "        result = geom\n",
    "    \n",
    "    return result \n",
    "\n",
    "roads_init['carriage_ways'] = roads_init.progress_apply(create_carriageway, axis=1)\n",
    "\n",
    "init_ways = geopandas.GeoDataFrame(\n",
    "    roads_init[\n",
    "        ['uuid', 'u', 'v', 'carriage_ways']\n",
    "    ],\n",
    "    geometry='carriage_ways',\n",
    "    crs=epsg_str)\n",
    "\n",
    "init_ways.to_file('{}/output.gpkg'.format(output_folder), layer='First pass - Carriageways', driver='GPKG')\n",
    "\n",
    "print(\"Done\")\n",
    "\n",
    "# f = roads_init[roads_init['uuid'] == 1887405747].iloc[0]\n",
    "# create_carriageway(f).wkt"
   ]
  },
  {
   "cell_type": "markdown",
   "metadata": {},
   "source": [
    "We calculate the amount of dual carriageways:"
   ]
  },
  {
   "cell_type": "code",
   "execution_count": 23,
   "metadata": {},
   "outputs": [
    {
     "data": {
      "application/vnd.jupyter.widget-view+json": {
       "model_id": "7633f69c4e914408b89321bd48336b29",
       "version_major": 2,
       "version_minor": 0
      },
      "text/plain": [
       "HBox(children=(HTML(value=''), FloatProgress(value=0.0, max=72885.0), HTML(value='')))"
      ]
     },
     "metadata": {},
     "output_type": "display_data"
    },
    {
     "name": "stdout",
     "output_type": "stream",
     "text": [
      "\n"
     ]
    },
    {
     "data": {
      "text/plain": [
       "20918"
      ]
     },
     "execution_count": 23,
     "metadata": {},
     "output_type": "execute_result"
    }
   ],
   "source": [
    "def is_dual(f):\n",
    "    \"\"\"\n",
    "    Returns True if this is a dual carriageway.\n",
    "    \n",
    "    This is computed based on the count of LineStrings in the feature's\n",
    "    geometry.\n",
    "    \"\"\"\n",
    "    \n",
    "    return len(f['carriage_ways'].geoms) > 1\n",
    "\n",
    "len(roads_init[roads_init.progress_apply(is_dual, axis=1)])"
   ]
  },
  {
   "cell_type": "markdown",
   "metadata": {},
   "source": [
    "## Join carriageways\n",
    "\n",
    "Now, we join the individual network segments with each other:\n",
    "1. if both are single carriageway there is nothing to do\n",
    "2. if both are dual carriageways then we compute the midpoint of the end and start node and we join them there\n",
    "3. if one is single and another is dual then we join the dual to the end node of the single one (making a triangle).\n",
    "\n",
    "We also identify continuation between carriageways in intersections and join them."
   ]
  },
  {
   "cell_type": "code",
   "execution_count": 24,
   "metadata": {},
   "outputs": [
    {
     "data": {
      "application/vnd.jupyter.widget-view+json": {
       "model_id": "e2966dd7b6374ec7b256a72b49caa6bf",
       "version_major": 2,
       "version_minor": 0
      },
      "text/plain": [
       "HBox(children=(HTML(value=''), FloatProgress(value=0.0, max=72885.0), HTML(value='')))"
      ]
     },
     "metadata": {},
     "output_type": "display_data"
    },
    {
     "name": "stdout",
     "output_type": "stream",
     "text": [
      "\n"
     ]
    }
   ],
   "source": [
    "from shapely.ops import substring, linemerge\n",
    "from shapely.geometry import LineString, MultiLineString\n",
    "import numpy as np\n",
    "import warnings\n",
    "\n",
    "def is_first_vertex(f, u_nodeid):\n",
    "    return f['u'] == u_nodeid\n",
    "\n",
    "def cut_line(geom, dist, reverse=False):\n",
    "    if reverse:\n",
    "        return substring(geom, 0, geom.length - dist)\n",
    "    else:\n",
    "        return substring(geom, dist, geom.length)\n",
    "\n",
    "def reverse_line(line):\n",
    "    \"\"\"Returns the line in the reverse orientation\"\"\"\n",
    "    return LineString(reversed(line.coords))\n",
    "\n",
    "def midpoint(pa, pb):\n",
    "    return Point((pa.x + pb.x) / 2, (pa.y + pb.y) / 2)\n",
    "\n",
    "def count_carriageways(f):\n",
    "    if f['carriage_ways'].type == \"LineString\":\n",
    "        return 1\n",
    "    else:\n",
    "        return len(f['carriage_ways'].geoms)\n",
    "\n",
    "def as_line(geom):\n",
    "    \"\"\"Return a LineString from geom regardless if it's a MultiLineString or not\"\"\"\n",
    "\n",
    "    if geom.type == \"LineString\":\n",
    "        return geom\n",
    "    else:\n",
    "        return geom.geoms[0]\n",
    "\n",
    "def merge_dual_to_single(geom, p, firstVertex):\n",
    "    left_cw = geom.geoms[0] # Get left carriage way\n",
    "    right_cw = geom.geoms[1] # Get right carriage way\n",
    "    \n",
    "    if left_cw.length < 1 or right_cw.length < 1:\n",
    "        left_p = get_vertex(left_cw, not firstVertex) # Last point of left line\n",
    "        right_p = get_vertex(right_cw, firstVertex) # First point of right line\n",
    "\n",
    "        left_line = LineString([p, left_p])\n",
    "        right_line = LineString([right_p, p])\n",
    "    else:\n",
    "        left_line = cut_line(left_cw, 1, not firstVertex)\n",
    "        right_line = cut_line(right_cw, 1, firstVertex)\n",
    "\n",
    "        left_p = get_vertex(left_line, firstVertex)\n",
    "        right_p = get_vertex(right_line, not firstVertex)\n",
    "\n",
    "        # Create the left and right side of the \"triangle\"\n",
    "        left_side = LineString((p, left_p))\n",
    "        right_side = LineString((p, right_p))\n",
    "\n",
    "        # Merge the parts together\n",
    "        left_line = linemerge(left_side.union(left_line))\n",
    "        right_line = linemerge(right_side.union(right_line))\n",
    "\n",
    "        if not get_vertex(left_line, firstVertex).equals(p):\n",
    "            left_line = reverse_line(left_line)\n",
    "        if not get_vertex(right_line, not firstVertex).equals(p):\n",
    "            right_line = reverse_line(right_line)\n",
    "\n",
    "    return MultiLineString([left_line, right_line])\n",
    "\n",
    "def pick_closests_to(multi_p, p):\n",
    "    \"\"\"Gets the closest point of multi_p to p\"\"\"\n",
    "    \n",
    "    final_p = multi_p.geoms[0]\n",
    "    d = p.distance(final_p)\n",
    "    for pp in multi_p:\n",
    "        if p.distance(pp) < d:\n",
    "            final_p = pp\n",
    "            d = p.distance(pp)\n",
    "    \n",
    "    return final_p\n",
    "\n",
    "def join_dual_ways(geom, other_geom, isU, firstVertex):\n",
    "    \"\"\"Returns the end of a dual carriageway based on the other side.\n",
    "    \n",
    "    geom --- The geometry of the dual carriageway to modify\n",
    "    other_geom --- The geometry of the other dual carriageway\n",
    "    isU --- Specifies if this is the U side of the other geometry\n",
    "    firstVertex --- Specifies if this is the first vertex of geom\n",
    "    \"\"\"\n",
    "    other_left_p = get_vertex(other_geom.geoms[0], isU)\n",
    "    other_right_p = get_vertex(other_geom.geoms[1], not isU)\n",
    "\n",
    "    if isU == firstVertex:\n",
    "        temp_p = other_left_p\n",
    "        other_left_p = other_right_p\n",
    "        other_right_p = temp_p\n",
    "\n",
    "    left_cw = geom.geoms[0] # Get left carriage way\n",
    "    right_cw = geom.geoms[1] # Get right carriage way\n",
    "    \n",
    "    other_left_cw = other_geom.geoms[1 if isU == firstVertex else 0]\n",
    "    other_right_cw = other_geom.geoms[0 if isU == firstVertex else 1]\n",
    "    \n",
    "    theta = line_azimuth(left_cw, firstVertex, min_length=5)\n",
    "    theta = theta - line_azimuth(other_left_cw, isU, min_length=5)\n",
    "    theta = abs(theta)\n",
    "    \n",
    "    straight = 135 < theta < 225 or 315 < theta or theta < 45\n",
    "\n",
    "    p = left_cw.intersection(other_left_cw)\n",
    "    if (p.type == \"Point\" or p.type == \"MultiPoint\") and not p.is_empty:\n",
    "        if p.type == \"MultiPoint\":\n",
    "            p = pick_closests_to(p, Point(left_cw.coords[0 if firstVertex else -1]))\n",
    "        proj = left_cw.project(p)\n",
    "        if firstVertex:\n",
    "            if proj < left_cw.length / 2:\n",
    "                left_line = substring(left_cw, proj, left_cw.length)\n",
    "            else:\n",
    "                left_line = left_cw\n",
    "        else:\n",
    "            if proj > left_cw.length / 2:\n",
    "                left_line = substring(left_cw, 0, proj)\n",
    "            else:\n",
    "                left_line = left_cw\n",
    "    else:\n",
    "        left_p = get_vertex(left_cw, firstVertex) # First point of left line\n",
    "        new_left_p = midpoint(left_p, other_left_p)\n",
    "        \n",
    "        if firstVertex:\n",
    "            left_line = LineString([new_left_p] + left_cw.coords[1 if straight else 0:])\n",
    "        else:\n",
    "            left_line = LineString(left_cw.coords[:-1 if straight else None] + [new_left_p])\n",
    "    \n",
    "    p = right_cw.intersection(other_right_cw)\n",
    "    if (p.type == \"Point\" or p.type == \"MultiPoint\") and not p.is_empty:\n",
    "        if p.type == \"MultiPoint\":\n",
    "            p = pick_closests_to(p, Point(right_cw.coords[-1 if firstVertex else 0]))\n",
    "        proj = right_cw.project(p)\n",
    "        if firstVertex:\n",
    "            if proj > right_cw.length / 2:\n",
    "                right_line = substring(right_cw, 0, proj)\n",
    "            else:\n",
    "                right_line = right_cw\n",
    "        else:\n",
    "            if proj < right_cw.length / 2:\n",
    "                right_line = substring(right_cw, proj, right_cw.length)\n",
    "            else:\n",
    "                right_line = right_cw\n",
    "    else:\n",
    "        right_p = get_vertex(right_cw, not firstVertex) # Last point of right line\n",
    "        new_right_p = midpoint(right_p, other_right_p)\n",
    "        if firstVertex:\n",
    "            right_line = LineString(right_cw.coords[:-1] + [new_right_p])\n",
    "        else:\n",
    "            right_line = LineString([new_right_p] + right_cw.coords[1:])\n",
    "            \n",
    "    return MultiLineString([left_line, right_line])\n",
    "    \n",
    "def find_next_road(f, neighbours, nodeid, firstVertex):\n",
    "    \"\"\"Returns the feature that counts as a continuation of this road (if any)\"\"\"\n",
    "    \n",
    "    if len(neighbours) == 0:\n",
    "        return None, 90\n",
    "    \n",
    "    if len(neighbours) == 1:\n",
    "        return neighbours.iloc[0], 90\n",
    "    \n",
    "    other_feature = []\n",
    "    \n",
    "    # Find out if there is only one other road with the same number of carriageways\n",
    "    similar = 0 # number of similar carriageway-type roads in this intersection\n",
    "    cw_count = count_carriageways(f)\n",
    "    for i in range(len(neighbours)):\n",
    "        n = neighbours.iloc[i]\n",
    "        if count_carriageways(n) == cw_count:\n",
    "            similar = similar + 1\n",
    "            other_feature = n\n",
    "    \n",
    "    # If there is only one similar and this is a three-way, pick the similar\n",
    "    if similar == 1 and len(neighbours) == 2:\n",
    "        return other_feature, 90\n",
    "    \n",
    "    ccc = neighbours.apply(count_carriageways, axis=1) == (1 if cw_count == 2 else 2)\n",
    "    force_same_cw = len(neighbours[ccc]) == 2\n",
    "    \n",
    "    # Angle tolerance for deciding a continuation\n",
    "    angle_tol = 20\n",
    "    \n",
    "    # Special case for when all lines are dual carriageways\n",
    "    tab = [len(neighbours.iloc[i]['carriage_ways'].geoms) == 2 for i in range(len(neighbours))]\n",
    "    if all(tab) and len(f['carriage_ways'].geoms) == 2:\n",
    "        other_feature = []\n",
    "        angle_tol = 85\n",
    "    \n",
    "    axis_geom = as_line(f['geometry'])\n",
    "    a = get_line_azimuth(axis_geom, not f['u'] == nodeid)\n",
    "    \n",
    "    best_angle = 45 + angle_tol\n",
    "    for i in range(len(neighbours)):\n",
    "        n = neighbours.iloc[i]\n",
    "        n_a = get_line_azimuth(as_line(n['geometry']), n['u'] != nodeid)\n",
    "        angle = abs(n_a - a)\n",
    "        if angle < 180 + angle_tol and angle > 180 - angle_tol:\n",
    "            if cw_count == 1 and force_same_cw and count_carriageways(n) != cw_count:\n",
    "                continue\n",
    "            if abs(angle - 180) < best_angle:\n",
    "                best_angle = abs(angle - 180)\n",
    "                other_feature = n\n",
    "        \n",
    "    \n",
    "    if isinstance(other_feature, list):\n",
    "        return None, 90\n",
    "    else:\n",
    "        return other_feature, best_angle\n",
    "\n",
    "def join_side(geom, nodeid, f, neighbours, next_feature, firstVertex=True):\n",
    "    \"\"\"Returns a geometry that has joined with the adjacent geometry of one side.\n",
    "    \n",
    "    geom --- The geometry to alter.\n",
    "    nodeid --- The node id around which the join will occur.\n",
    "    f --- The input feature.\n",
    "    neighbours --- The list of neighbouring features in this intersection\n",
    "    next_feature --- The feature classified as a \"continuation\" of this one\n",
    "    firstVertex --- True if the first vertex of the geometry will be altered, or False if it's the last one.\n",
    "    \"\"\"\n",
    "    if len(neighbours) == 0:\n",
    "        return geom\n",
    "    \n",
    "    if all(count_carriageways(neighbours.iloc[i]) == 1 for i in range(len(neighbours))):\n",
    "        # Pick first feature, because they are all single carriageways and they meet at the same point\n",
    "        other_feature = neighbours.iloc[0]\n",
    "        \n",
    "        p = get_vertex(other_feature['geometry'], other_feature['u'] == nodeid)\n",
    "\n",
    "        return merge_dual_to_single(geom, p, firstVertex)\n",
    "    \n",
    "    if not next_feature is None:\n",
    "        if count_carriageways(next_feature) == 1:\n",
    "            p = get_vertex(next_feature['geometry'], next_feature['u'] == nodeid)\n",
    "            return merge_dual_to_single(geom, p, firstVertex)\n",
    "        else:\n",
    "            return join_dual_ways(geom, next_feature['carriage_ways'], next_feature['u'] == nodeid, firstVertex)\n",
    "    \n",
    "    return geom\n",
    "\n",
    "def get_uuid(f):\n",
    "    \"\"\"Returns the uuid of a feature or np.nan\"\"\"\n",
    "    \n",
    "    if f is None:\n",
    "        return np.nan\n",
    "    else:\n",
    "        return f['uuid']\n",
    "    \n",
    "    \n",
    "def get_continuations(f):\n",
    "    \"\"\"Returns the 'u_next' and 'v_next' of a feature\"\"\"\n",
    "    \n",
    "    u_neighbours = find_neighbouring_edges(f, f['u'])\n",
    "    v_neighbours = find_neighbouring_edges(f, f['v'])\n",
    "    \n",
    "    if f['u'] == f['v']:\n",
    "        u_next = f\n",
    "        v_next = f\n",
    "        u_angle = 0\n",
    "        v_angle = 0\n",
    "    else:\n",
    "        u_next, u_angle = find_next_road(f, u_neighbours, f['u'], True)\n",
    "        v_next, v_angle = find_next_road(f, v_neighbours, f['v'], False)\n",
    "    \n",
    "    if f['length'] < 1 and (len(u_neighbours) == 0 or len(v_neighbours) == 0):\n",
    "        return [np.nan, np.nan, 90, 90]\n",
    "    \n",
    "    return [get_uuid(u_next), get_uuid(v_next), u_angle, v_angle]\n",
    "\n",
    "tmp = roads_init.progress_apply(get_continuations, axis=1)\n",
    "roads_init['u_next'] = [a[0] for a in tmp]\n",
    "roads_init['v_next'] = [a[1] for a in tmp]\n",
    "roads_init['u_angle'] = [a[2] for a in tmp]\n",
    "roads_init['v_angle'] = [a[3] for a in tmp]\n",
    "\n",
    "# f = roads_init[roads_init['uuid'] == 3053160515].iloc[0]\n",
    "# get_continuations(f)"
   ]
  },
  {
   "cell_type": "code",
   "execution_count": 25,
   "metadata": {},
   "outputs": [
    {
     "data": {
      "application/vnd.jupyter.widget-view+json": {
       "model_id": "3f6d6fdb1a91404f843c031ef831921e",
       "version_major": 2,
       "version_minor": 0
      },
      "text/plain": [
       "HBox(children=(HTML(value=''), FloatProgress(value=0.0, max=72885.0), HTML(value='')))"
      ]
     },
     "metadata": {},
     "output_type": "display_data"
    },
    {
     "name": "stdout",
     "output_type": "stream",
     "text": [
      "\n",
      "Done\n"
     ]
    }
   ],
   "source": [
    "def get_angle(f, osmid):\n",
    "    return f['u_angle' if f['u'] == osmid else 'v_angle']\n",
    "\n",
    "def verify_side(f, side):\n",
    "    next_uuid = f\"{side}_next\"\n",
    "    if np.isnan(f[next_uuid]):\n",
    "        next_u = np.nan\n",
    "    else:\n",
    "        u_next = roads_init[roads_init['uuid'] == f[next_uuid]].iloc[0]\n",
    "        if is_dual(u_next):\n",
    "            if f['uuid'] in [u_next['u_next'], u_next['v_next']]:\n",
    "                next_u = f[next_uuid]\n",
    "            else:\n",
    "                next_u = np.nan\n",
    "            \n",
    "                neighbours = find_neighbouring_edges(f, f['u' if next_uuid == 'u_next' else 'v'])\n",
    "                \n",
    "                # Special case of four-way with all dual carriageways\n",
    "                tab = [len(neighbours.iloc[i]['carriage_ways'].geoms) == 2 for i in range(len(neighbours))]\n",
    "                if len(neighbours) == 3 and all(tab) and len(f['carriage_ways'].geoms) == 2:\n",
    "                    next_u = neighbours.loc[neighbours.apply(get_angle, axis=1, osmid=f[side]).idxmax()]['uuid']\n",
    "        else:\n",
    "            next_u = f[next_uuid]\n",
    "    \n",
    "    return next_u\n",
    "\n",
    "def clean_continuations(f):\n",
    "    \"\"\"Returns the final continuations for feature\n",
    "    \n",
    "    This means, that a continuation will only remain as soon as\n",
    "    the 'u_next' or 'v_next' is also considering 'f' as its\n",
    "    continuation as well\n",
    "    \"\"\"\n",
    "    \n",
    "    next_u = verify_side(f, 'u')\n",
    "    next_v = verify_side(f, 'v')\n",
    "            \n",
    "    return [next_u, next_v]\n",
    "\n",
    "tmp = roads_init.progress_apply(clean_continuations, axis=1)\n",
    "roads_init['u_next_final'] = [a[0] for a in tmp]\n",
    "roads_init['v_next_final'] = [a[1] for a in tmp]\n",
    "\n",
    "print(\"Done\")\n",
    "\n",
    "# f = roads_init[roads_init['uuid'] == 3053160515].iloc[0]\n",
    "# clean_continuations(f)"
   ]
  },
  {
   "cell_type": "code",
   "execution_count": 26,
   "metadata": {
    "scrolled": true
   },
   "outputs": [
    {
     "data": {
      "application/vnd.jupyter.widget-view+json": {
       "model_id": "f322e815275b441bb24ddeeaac8a9116",
       "version_major": 2,
       "version_minor": 0
      },
      "text/plain": [
       "HBox(children=(HTML(value=''), FloatProgress(value=0.0, max=72885.0), HTML(value='')))"
      ]
     },
     "metadata": {},
     "output_type": "display_data"
    },
    {
     "name": "stderr",
     "output_type": "stream",
     "text": [
      "<ipython-input-26-51b392ae593b>:7: UserWarning: Feature 1307748612 has 3 parts! We are recovering its original geometry.\n",
      "  warnings.warn(\"Feature {} has {} parts! We are recovering its original geometry.\".format(f['uuid'], len(f['carriage_ways'].geoms)))\n",
      "<ipython-input-26-51b392ae593b>:7: UserWarning: Feature 538816801 has 3 parts! We are recovering its original geometry.\n",
      "  warnings.warn(\"Feature {} has {} parts! We are recovering its original geometry.\".format(f['uuid'], len(f['carriage_ways'].geoms)))\n"
     ]
    },
    {
     "name": "stdout",
     "output_type": "stream",
     "text": [
      "\n",
      "Done\n"
     ]
    }
   ],
   "source": [
    "def join_carriageways(f):\n",
    "    \"\"\"Returns the carriageways processed so that they are joined with their neighbours\"\"\"\n",
    "    \n",
    "    # Escape in the degenerate case of a 3-parts geometry (yes, it can happen)\n",
    "    # Ideally, we should raise an exception here, \n",
    "    if len(f['carriage_ways'].geoms) == 3:\n",
    "        warnings.warn(\"Feature {} has {} parts! We are recovering its original geometry.\".format(f['uuid'], len(f['carriage_ways'].geoms)))\n",
    "        return f['geometry']\n",
    "    \n",
    "    u_neighbours = find_neighbouring_edges(f, f['u'])\n",
    "    v_neighbours = find_neighbouring_edges(f, f['v'])\n",
    "    \n",
    "    if count_carriageways(f) == 1:\n",
    "        return f['carriage_ways']\n",
    "\n",
    "    if f['u'] == f['v']:\n",
    "        geom = join_dual_ways(f['carriage_ways'], f['carriage_ways'], True, False)\n",
    "        geom = join_dual_ways(geom, f['carriage_ways'], False, True)\n",
    "        return geom\n",
    "    \n",
    "    # Identify degenerate case where this is a short segment (<1m) and\n",
    "    # is adjacent to single cariageways, so we collapse it.\n",
    "    if f['length'] < 1:\n",
    "        if len(u_neighbours) == 0 or len(v_neighbours) == 0:\n",
    "            return f['geometry']\n",
    "\n",
    "        if len(u_neighbours) == 1 and len(v_neighbours) == 1 and count_carriageways(u_neighbours.iloc[0]) == 1 and count_carriageways(v_neighbours.iloc[0]) == 1:\n",
    "            return f['geometry']\n",
    "    \n",
    "    u_next = None if np.isnan(f['u_next']) else roads_init[roads_init['uuid'] == f['u_next']].iloc[0]\n",
    "    v_next = None if np.isnan(f['v_next']) else roads_init[roads_init['uuid'] == f['v_next']].iloc[0]\n",
    "    \n",
    "    try:\n",
    "        geom = join_side(f['carriage_ways'], f['u'], f, u_neighbours, u_next, True)\n",
    "        geom = join_side(geom, f['v'], f, v_neighbours, v_next, False)\n",
    "    except Exception as e:\n",
    "        print(f['uuid'])\n",
    "        raise e\n",
    "    \n",
    "    return geom\n",
    "\n",
    "roads_init['u_next'] = roads_init['u_next_final']\n",
    "roads_init['v_next'] = roads_init['v_next_final']\n",
    "\n",
    "roads_init['fixed_carriageways'] = roads_init.progress_apply(join_carriageways, axis=1)\n",
    "\n",
    "joined_ways = geopandas.GeoDataFrame(roads_init[\n",
    "    ['uuid',\n",
    "     'u', 'v',\n",
    "     'u_next', 'v_next',\n",
    "     'osmid', 'name', 'oneway',\n",
    "     'fixed_carriageways']\n",
    "    ],\n",
    "    geometry='fixed_carriageways',\n",
    "    crs=epsg_str)\n",
    "\n",
    "joined_ways.to_file('{}/output.gpkg'.format(output_folder), layer='Second pass - Join', driver='GPKG')\n",
    "\n",
    "print(\"Done\")\n",
    "\n",
    "# 2084407287\n",
    "# 4034800732\n",
    "# f = roads_init[roads_init['uuid'] == 2238473051].iloc[0]\n",
    "# join_carriageways(f)"
   ]
  },
  {
   "cell_type": "markdown",
   "metadata": {},
   "source": [
    "## Split carriageways to features\n",
    "\n",
    "Carriageways should be now converted to individual features:"
   ]
  },
  {
   "cell_type": "code",
   "execution_count": 27,
   "metadata": {},
   "outputs": [],
   "source": [
    "from shapely.geometry import LineString\n",
    "import uuid\n",
    "from cityhash import CityHash128\n",
    "\n",
    "def create_uuid(f):\n",
    "    return hex(CityHash128(uuid.uuid4().hex))\n",
    "\n",
    "def reverse_if_dual(f):\n",
    "    if f['dual']:\n",
    "        return LineString(f['geom'].coords[::-1])\n",
    "    \n",
    "    return f['geom']\n",
    "\n",
    "carriageways = roads_init.copy().rename(columns={\n",
    "                                                 'geometry': 'axis_geom',\n",
    "                                                 'fixed_carriageways': 'geom',\n",
    "                                                 'uuid': 'road_uuid'\n",
    "                                                 })\n",
    "\n",
    "carriageways.drop('carriage_ways', 1, inplace=True)\n",
    "carriageways.drop('gid', 1, inplace=True)\n",
    "\n",
    "carriageways = geopandas.GeoDataFrame(carriageways, geometry=\"geom\", crs=epsg_str)\n",
    "\n",
    "# Compute \"dual\" carriageway attribute\n",
    "carriageways['dual'] = carriageways.apply(lambda f: len(f['geom'].geoms) > 1, axis=1)\n",
    "\n",
    "# Explode the MultiLineStrings to LineStrings (so duals will become two features)\n",
    "carriageways = carriageways.explode()\n",
    "\n",
    "# Make the exploding index a value to define the side of the carriageway: 0 - left, 1 - right\n",
    "carriageways = carriageways.reset_index(level=-1).rename(columns={'level_1': 'side'})\n",
    "\n",
    "# Reverse geometries of ex-dual-carriageways\n",
    "carriageways['geom'] = carriageways.apply(reverse_if_dual, axis=1)\n",
    "\n",
    "# Create UUIDs\n",
    "carriageways['uuid'] = carriageways.apply(create_uuid, axis=1)\n",
    "\n",
    "# Make sure no collisions exist between UUIDs\n",
    "assert len(pd.unique(carriageways['uuid'])) == len(carriageways['uuid'])\n",
    "\n",
    "carriageways.drop(['axis_geom', 'geometry_right'], 1).to_file('{}/output.gpkg'.format(output_folder), layer='Second pass - Join (per way)', driver='GPKG')"
   ]
  },
  {
   "cell_type": "markdown",
   "metadata": {},
   "source": [
    "## Fix intersections\n",
    "\n",
    "Given the continuous carriageways, we need to deal with intersections now.\n",
    "\n",
    "### Trim and split lines at intersections\n",
    "\n",
    "We need to make sure that lines are splitted (if they \"continue\" across the interesction) or get trimmed (if that's their end). We determine contiuation or termination by the existence or absense (respectively) of a `u_next`/`v_next` value.\n",
    "\n",
    "At the end of this step, we have all carriageways as individual `MultiLineStrings`, which contain one or more `LineStrings` that are topologically valid. So, later on we'll have to explode those `MultiLineStrings` to get the individual carriageway segments."
   ]
  },
  {
   "cell_type": "code",
   "execution_count": 28,
   "metadata": {},
   "outputs": [
    {
     "data": {
      "application/vnd.jupyter.widget-view+json": {
       "model_id": "b71688bf1cfc4a15938251819f2835f3",
       "version_major": 2,
       "version_minor": 0
      },
      "text/plain": [
       "HBox(children=(HTML(value=''), FloatProgress(value=0.0, max=93799.0), HTML(value='')))"
      ]
     },
     "metadata": {},
     "output_type": "display_data"
    },
    {
     "name": "stdout",
     "output_type": "stream",
     "text": [
      "\n",
      "Done\n"
     ]
    }
   ],
   "source": [
    "from shapely.ops import substring, split\n",
    "\n",
    "def get_feature(df, col_name, value):\n",
    "    return df[df[col_name] == value].iloc[0]\n",
    "\n",
    "def find_neighbouring_features(G, nodeid, df, uuid_col='uuid', exclude=[], geom_col='geom', min_length=3.5):\n",
    "    \"\"\"Returns the road features of the neighbours of a feature at a given node\n",
    "    \n",
    "    G --- The network to lookup\n",
    "    nodeid --- The id of the node for which to look for neighbours\n",
    "    df --- The dataframe to find features\n",
    "    uuid_col --- The name of the column that contains the edge's uuid\n",
    "    exclude --- A list of uuids to exclude from the returning list\n",
    "    geom_col --- The geometry column to check for min_length\n",
    "    min_length --- If a road segment is shorter than this, then also \"bring\" the next one\n",
    "    \"\"\"\n",
    "    \n",
    "    uuids = [a['uuid'] for u, v, a in G.in_edges(nodeid, data=True)] + [a['uuid'] for u, v, a in G.out_edges(nodeid, data=True)]\n",
    "    \n",
    "    if isinstance(exclude, list):\n",
    "        for i in exclude:\n",
    "            if i in uuids:\n",
    "                uuids.remove(i)\n",
    "    else:\n",
    "        if exclude in uuids:\n",
    "            uuids.remove(exclude)\n",
    "    \n",
    "    new_uuids = []\n",
    "    for uuid in uuids:\n",
    "        res = df[df[uuid_col] == uuid]\n",
    "        if len(res) > 0:\n",
    "            f = res.iloc[0]\n",
    "            if f[geom_col].length < min_length:\n",
    "                if not np.isnan(f['u_next']):\n",
    "                    new_uuids.append(int(f['u_next']))\n",
    "                if not np.isnan(f['v_next']):\n",
    "                    new_uuids.append(int(f['v_next']))\n",
    "    \n",
    "    uuids = uuids + new_uuids\n",
    "    uuids = list(set(uuids))\n",
    "    \n",
    "    if isinstance(exclude, list):\n",
    "        for i in exclude:\n",
    "            if i in uuids:\n",
    "                uuids.remove(i)\n",
    "    else:\n",
    "        if exclude in uuids:\n",
    "            uuids.remove(exclude)\n",
    "    \n",
    "    return df[df[uuid_col].isin(uuids)]\n",
    "\n",
    "def move_end_vertex(line, p, firstVertex):\n",
    "    \"\"\"Move the first or last vertex of a line to the given point (p).\"\"\"\n",
    "    \n",
    "    if firstVertex:\n",
    "        coords = [p] + line.coords[1:]\n",
    "    else:\n",
    "        coords = line.coords[:-1] + [p]\n",
    "    \n",
    "    return LineString(coords)\n",
    "\n",
    "def is_dual_merge(lines, nodeid):\n",
    "    \"\"\"Returns True if the two carriageways of road_uuid meet at nodeid\n",
    "    \n",
    "    lines --- A dataframe that should contain both carriageways\n",
    "    nodeid --- The node to check against\n",
    "    \"\"\"\n",
    "    \n",
    "    left = lines[lines['side'] == 0].iloc[0] # TODO: Add an assert here\n",
    "    right = lines[lines['side'] == 1].iloc[0] # TODO: Add an assert here\n",
    "    \n",
    "    if left['u'] == left['v']:\n",
    "        return False\n",
    "    \n",
    "    p_left = left['geom'].boundary[1 if left['u'] == nodeid else 0]\n",
    "    p_right = right['geom'].boundary[0 if right['u'] == nodeid else 1]\n",
    "    \n",
    "    return p_left.equals(p_right)\n",
    "\n",
    "def make_multiline(geom):\n",
    "    \"\"\"Converts the geometry to a MultiLineString\"\"\"\n",
    "    \n",
    "    if geom.type == \"LineString\":\n",
    "        return MultiLineString([geom])\n",
    "    \n",
    "    return geom\n",
    "\n",
    "def fix_precision(geom, decimals=3):\n",
    "    if geom.type == \"LineString\":\n",
    "        return LineString([np.round(p, decimals) for p in geom.coords])\n",
    "    elif geom.type == \"MultiLineString\":\n",
    "        lines = []\n",
    "        for l in geom.geoms:\n",
    "            lines.append(fix_precision(l))\n",
    "        return MultiLineString(lines)\n",
    "\n",
    "def trim_at_intersection(geom, f, nodeid, force_split=False):\n",
    "    neighbours = find_neighbouring_features(network_graph,\n",
    "                                            nodeid,\n",
    "                                            df=carriageways,\n",
    "                                            uuid_col='road_uuid',\n",
    "                                            exclude=f['road_uuid'])\n",
    "    \n",
    "    # This marks the special case where this segment is dealt as the \"not last\"\n",
    "    # because the next one is too short and we are dealing with it.\n",
    "    not_last_segment = False\n",
    "    \n",
    "    # This is to bypass a special case where the next segment is too small and this segment\n",
    "    # might eventually be crossing with the next segment's perpendicular dual carriageway road.\n",
    "    if f[\"dual\"] == False:\n",
    "        next_id = f[\"u_next\" if f['u'] == nodeid else \"v_next\"]\n",
    "        if not np.isnan(next_id):\n",
    "            next_road = carriageways[carriageways['road_uuid'] == int(next_id)].iloc[0]\n",
    "            if next_road['geom'].length < 3:\n",
    "                next_neighbours = find_neighbouring_features(network_graph,\n",
    "                                                        next_road['v' if nodeid == next_road['u'] else 'u'],\n",
    "                                                        df=carriageways,\n",
    "                                                        uuid_col='road_uuid',\n",
    "                                                        exclude=[f['road_uuid'], next_road['road_uuid']])\n",
    "                neighbours = pd.concat([neighbours, next_neighbours])\n",
    "                                                \n",
    "                force_split = not np.isnan(next_road[\"v_next\" if next_road['u'] == nodeid else \"u_next\"])\n",
    "                \n",
    "                not_last_segment = True\n",
    "        \n",
    "        for uuid, n in neighbours.set_index(\"uuid\").iterrows():\n",
    "            # Case where the neighbour is \"short\" and doesn't intersect the geometry\n",
    "            # so we should check if its neighbour does.\n",
    "            if n['geom'].length < 7.5 and not n['geom'].intersects(geom):\n",
    "                next_neighbours = find_neighbouring_features(network_graph,\n",
    "                                                        n['v' if nodeid == n['u'] else 'u'],\n",
    "                                                        df=carriageways,\n",
    "                                                        uuid_col='road_uuid',\n",
    "                                                        exclude=[f['road_uuid'], n['road_uuid']])\n",
    "                neighbours = pd.concat([neighbours, next_neighbours])\n",
    "    \n",
    "    # Find the crossing point\n",
    "    all_lines = shapely.ops.unary_union(neighbours.reset_index()['geom'])\n",
    "    cross_p = all_lines.intersection(geom)\n",
    "    \n",
    "    if cross_p.is_empty:\n",
    "        if geom.type == \"LineString\":\n",
    "            return MultiLineString([geom])\n",
    "        else:\n",
    "            return geom\n",
    "    \n",
    "    # This is something to fix a bizarre issue with shapely during the next step\n",
    "    # Check https://github.com/Toblerity/Shapely/issues/952\n",
    "    geom = shapely.wkt.loads(geom.wkt)\n",
    "    all_lines = shapely.wkt.loads(all_lines.wkt)\n",
    "\n",
    "    # This is hack to avoid issues with the split function\n",
    "    if geom.type == \"MultiLineString\" and len(geom.geoms) == 1:\n",
    "        g = geom.geoms[0]\n",
    "        tmp_parts = geom.difference(all_lines)\n",
    "        if tmp_parts.type == \"LineString\":\n",
    "            return MultiLineString([g])\n",
    "        else:\n",
    "            parts = list(tmp_parts.geoms)\n",
    "    else:\n",
    "        # Split the line according to the other lines\n",
    "        parts = list(split(geom, all_lines).geoms)\n",
    "    \n",
    "    for p in parts:\n",
    "        if p.length < 0.001:\n",
    "            parts.remove(p)\n",
    "    \n",
    "    # Case where we just split\n",
    "    if len(parts) == 1:\n",
    "        return MultiLineString(parts)\n",
    "    \n",
    "    if f['dual'] == False:\n",
    "        if f['u'] == nodeid:\n",
    "            end_p = f['geom'].boundary[0]\n",
    "        else:\n",
    "            end_p = f['geom'].boundary[1]\n",
    "        \n",
    "        dest_p = None\n",
    "        is_merge = False\n",
    "        for i, n in neighbours.set_index('uuid').iterrows():\n",
    "            if n['dual'] == True and n['geom'].intersects(geom):\n",
    "                n_geom = shapely.ops.snap(n['geom'], geom, 0.001)\n",
    "                pp = n_geom.intersection(geom)\n",
    "                pp = pp.difference(geom.boundary)\n",
    "                # TODO: We need to exclude cases where this dual carriageway meets its other part on this side\n",
    "                if pp.is_empty:\n",
    "                    continue\n",
    "                \n",
    "                is_start = (n['u'] == nodeid) == (n['side'] == 1)\n",
    "\n",
    "                # Check if this is a merging dual carriageway\n",
    "                if is_dual_merge(neighbours[neighbours['road_uuid'] == n['road_uuid']], nodeid):\n",
    "                    dest_p = pp\n",
    "                else:\n",
    "                    dest_p = Point(n['geom'].coords[0 if is_start else -1])\n",
    "                \n",
    "                break\n",
    "        \n",
    "        if cross_p.type == \"MultiPoint\" and not dest_p is None and not_last_segment == False:\n",
    "            part_idx = 0\n",
    "            dest_p = dest_p.difference(geom.boundary)\n",
    "            if dest_p.type == \"MultiPoint\":\n",
    "                is_start = (f['u'] == nodeid) == (f['side'] == 1)\n",
    "                dest_p = pick_closests_to(dest_p, Point(geom.geoms[0].coords[0 if is_start else -1]))\n",
    "                if len(parts) > 2:\n",
    "                    part_idx = 1\n",
    "            \n",
    "            if is_merge:\n",
    "                if f['u'] == nodeid:\n",
    "                    parts = parts[1:]\n",
    "                else:\n",
    "                    parts = parts[:-1]\n",
    "            else:\n",
    "                if f['u'] == nodeid:\n",
    "                    first_part = parts[part_idx]\n",
    "                    first_part = move_end_vertex(first_part, dest_p, False)\n",
    "\n",
    "                    second_part = parts[part_idx + 1]\n",
    "                    second_part = move_end_vertex(second_part, dest_p, True)\n",
    "\n",
    "                    rest = parts[part_idx + 2:]\n",
    "\n",
    "                    parts = [first_part, second_part] + rest\n",
    "                else:\n",
    "                    main_part = parts[:-2 - part_idx]\n",
    "                    \n",
    "                    second_to_last_part = parts[-2 - part_idx]\n",
    "                    second_to_last_part = move_end_vertex(second_to_last_part, dest_p, False)\n",
    "\n",
    "                    last_part = parts[-1 - part_idx]\n",
    "                    last_part = move_end_vertex(last_part, dest_p, True)\n",
    "\n",
    "                    parts = main_part + [second_to_last_part, last_part]\n",
    "\n",
    "                    \n",
    "    # Cases where we might split and move the vertices or create a twoway segment\n",
    "    if force_split:\n",
    "        # We need to check some things for single carriageways\n",
    "        next_uuid = f['u_next'] if f['u'] == nodeid else f['v_next']\n",
    "        next_f = neighbours[neighbours['road_uuid'] == next_uuid].iloc[0]\n",
    "        \n",
    "        # Special case where we need to duplicate the last part of the linestring (to make a twoway)\n",
    "        if is_one_way(f) and len(neighbours.groupby('road_uuid')) == 3:\n",
    "            if next_f['dual'] == True:\n",
    "                if f['u'] == nodeid:\n",
    "                    parts = [reverse_line(parts[0])] + parts\n",
    "                else:\n",
    "                    parts = parts + [reverse_line(parts[-1])]\n",
    "        \n",
    "        # Special TriAn(na)gle\n",
    "        next_segment = carriageways[carriageways['road_uuid'] == next_uuid].iloc[0]\n",
    "        if cross_p.type == \"MultiPoint\" and f['dual'] == True and next_segment[\"dual\"] == False:\n",
    "            if (f['u'] == nodeid) == (f['side'] == 0):\n",
    "                return MultiLineString(parts[:-1])\n",
    "            else:\n",
    "                return MultiLineString(parts[1:])\n",
    "        \n",
    "        return MultiLineString(parts)\n",
    "    \n",
    "    if cross_p.type == \"MultiPoint\" and (f['geom'].boundary[0] in cross_p.geoms or f['geom'].boundary[1] in cross_p.geoms) and not not_last_segment:\n",
    "        return MultiLineString(parts)\n",
    "    \n",
    "    if cross_p in f['geom'].boundary:\n",
    "        return MultiLineString(parts)\n",
    "    \n",
    "    if f['u'] == nodeid:\n",
    "        if f['dual'] == True and f['side'] == 0:\n",
    "            return MultiLineString(parts[:-1])\n",
    "        else:\n",
    "            return MultiLineString(parts[1:])\n",
    "    else:\n",
    "        if f['dual'] == True and f['side'] == 0:\n",
    "            return MultiLineString(parts[1:])\n",
    "        else:\n",
    "            return MultiLineString(parts[:-1])\n",
    "\n",
    "def trim_feature(f):\n",
    "    if f['geom'].coords[0] == f['geom'].coords[-1]:\n",
    "        return MultiLineString([f['geom']])\n",
    "    \n",
    "    try:\n",
    "        if f['geom'].type == \"LineString\":\n",
    "            geom = MultiLineString([f['geom']])\n",
    "        else:\n",
    "            geom = f['geom']\n",
    "\n",
    "        geom = trim_at_intersection(geom, f, f['u'], not np.isnan(f['u_next']))\n",
    "        geom = trim_at_intersection(geom, f, f['v'], not np.isnan(f['v_next']))\n",
    "        \n",
    "        return shapely.wkt.loads(geom.wkt)\n",
    "    except Exception as e:\n",
    "        print(f[\"uuid\"])\n",
    "        raise e\n",
    "\n",
    "carriageways['trimmed'] = carriageways.progress_apply(trim_feature, axis=1)\n",
    "\n",
    "trimmed_ways = geopandas.GeoDataFrame(carriageways.drop(['axis_geom', 'geometry_right', 'geom'], 1),\n",
    "                       geometry=\"trimmed\",\n",
    "                       crs=epsg_str)\n",
    "\n",
    "trimmed_ways = trimmed_ways.drop(list(set([\"extended\", \"snapped\", \"clean\"]) & set(trimmed_ways.columns)), 1)\n",
    "\n",
    "trimmed_ways.to_file('{}/output.gpkg'.format(output_folder), layer='Third pass - Trim', driver='GPKG')\n",
    "\n",
    "print(\"Done\")\n",
    "\n",
    "# f = carriageways[carriageways['uuid'] == '0x63c2d90f916fc1911754de0ab208e074'].iloc[0]\n",
    "# trim_feature(f).wkt"
   ]
  },
  {
   "cell_type": "markdown",
   "metadata": {},
   "source": [
    "### Extend and fix complex intersections\n",
    "\n",
    "If a carriageway meets a dual road that is continuous, then we need to do certain things:\n",
    "- In case of no continuation of the carriageway, we need to extend to the end node of the opposite side\n",
    "- In case of continuation where this is dual and the next road segment is single, we need to make a triangle.\n",
    "\n",
    "**TODO:** Deal with degenerate case of sideroads. Definition: an intersection of 4 roads, with two being dual and two being single. If the dual are a continuation of ~180° and the two single are <60° we have to move them etc."
   ]
  },
  {
   "cell_type": "code",
   "execution_count": 29,
   "metadata": {},
   "outputs": [
    {
     "data": {
      "application/vnd.jupyter.widget-view+json": {
       "model_id": "a6c9198ae90f43cda7ae0a473f46ce9c",
       "version_major": 2,
       "version_minor": 0
      },
      "text/plain": [
       "HBox(children=(HTML(value=''), FloatProgress(value=0.0, max=93799.0), HTML(value='')))"
      ]
     },
     "metadata": {},
     "output_type": "display_data"
    },
    {
     "name": "stderr",
     "output_type": "stream",
     "text": [
      "third argument of GEOSProject_r must be Point*\n",
      "third argument of GEOSProject_r must be Point*\n",
      "third argument of GEOSProject_r must be Point*\n",
      "third argument of GEOSProject_r must be Point*\n",
      "third argument of GEOSProject_r must be Point*\n",
      "third argument of GEOSProject_r must be Point*\n",
      "third argument of GEOSProject_r must be Point*\n",
      "third argument of GEOSProject_r must be Point*\n",
      "third argument of GEOSProject_r must be Point*\n",
      "third argument of GEOSProject_r must be Point*\n",
      "third argument of GEOSProject_r must be Point*\n",
      "third argument of GEOSProject_r must be Point*\n",
      "third argument of GEOSProject_r must be Point*\n",
      "third argument of GEOSProject_r must be Point*\n",
      "third argument of GEOSProject_r must be Point*\n",
      "third argument of GEOSProject_r must be Point*\n",
      "third argument of GEOSProject_r must be Point*\n",
      "third argument of GEOSProject_r must be Point*\n",
      "third argument of GEOSProject_r must be Point*\n",
      "third argument of GEOSProject_r must be Point*\n",
      "third argument of GEOSProject_r must be Point*\n",
      "third argument of GEOSProject_r must be Point*\n",
      "third argument of GEOSProject_r must be Point*\n",
      "third argument of GEOSProject_r must be Point*\n",
      "third argument of GEOSProject_r must be Point*\n",
      "third argument of GEOSProject_r must be Point*\n",
      "third argument of GEOSProject_r must be Point*\n",
      "third argument of GEOSProject_r must be Point*\n",
      "third argument of GEOSProject_r must be Point*\n",
      "third argument of GEOSProject_r must be Point*\n",
      "third argument of GEOSProject_r must be Point*\n",
      "third argument of GEOSProject_r must be Point*\n",
      "third argument of GEOSProject_r must be Point*\n",
      "third argument of GEOSProject_r must be Point*\n",
      "third argument of GEOSProject_r must be Point*\n",
      "third argument of GEOSProject_r must be Point*\n",
      "third argument of GEOSProject_r must be Point*\n",
      "third argument of GEOSProject_r must be Point*\n",
      "third argument of GEOSProject_r must be Point*\n",
      "third argument of GEOSProject_r must be Point*\n",
      "third argument of GEOSProject_r must be Point*\n",
      "third argument of GEOSProject_r must be Point*\n",
      "third argument of GEOSProject_r must be Point*\n",
      "third argument of GEOSProject_r must be Point*\n",
      "third argument of GEOSProject_r must be Point*\n",
      "third argument of GEOSProject_r must be Point*\n",
      "third argument of GEOSProject_r must be Point*\n",
      "third argument of GEOSProject_r must be Point*\n",
      "third argument of GEOSProject_r must be Point*\n",
      "third argument of GEOSProject_r must be Point*\n",
      "third argument of GEOSProject_r must be Point*\n",
      "third argument of GEOSProject_r must be Point*\n",
      "third argument of GEOSProject_r must be Point*\n"
     ]
    },
    {
     "name": "stdout",
     "output_type": "stream",
     "text": [
      "\n",
      "Done!\n"
     ]
    }
   ],
   "source": [
    "def extend_at_intersection(geom, f, nodeid):\n",
    "    neighbours = find_neighbouring_features(network_graph,\n",
    "                                            nodeid,\n",
    "                                            df=carriageways,\n",
    "                                            uuid_col='road_uuid',\n",
    "                                            exclude=f['road_uuid'])\n",
    "\n",
    "    new_lines = list(geom.geoms)\n",
    "    \n",
    "    # This is to bypass a special case where the next segment is too small and this segment\n",
    "    # might eventually be crossing with the next segment's perpendicular dual carriageway road.\n",
    "    if f[\"dual\"] == False:\n",
    "        next_id = f[\"u_next\" if f['u'] == nodeid else \"v_next\"]\n",
    "        if not np.isnan(next_id):\n",
    "            next_road = carriageways[carriageways['road_uuid'] == int(next_id)].iloc[0]\n",
    "            if next_road['geom'].length < 3:\n",
    "                next_neighbours = find_neighbouring_features(network_graph,\n",
    "                                                        next_road['v' if nodeid == next_road['u'] else 'u'],\n",
    "                                                        df=carriageways,\n",
    "                                                        uuid_col='road_uuid',\n",
    "                                                        exclude=[f['road_uuid'], next_road['road_uuid']])\n",
    "                neighbours = pd.concat([neighbours, next_neighbours])\n",
    "    \n",
    "    next_uuid = f['u_next' if f['u'] == nodeid else 'v_next']\n",
    "    for road_uuid, road in neighbours.groupby('road_uuid'):\n",
    "        if len(road) == 1:\n",
    "            if not np.isnan(next_uuid) and is_merge_with_next(f, next_uuid):\n",
    "                cway = road.iloc[0]\n",
    "                start_p = geom.intersection(cway['trimmed'])\n",
    "                                \n",
    "                if start_p.type == \"LineString\":\n",
    "                    continue\n",
    "                \n",
    "                end_p = Point(f['axis_geom'].geoms[0].coords[0 if f['u'] == nodeid else -1])\n",
    "                                \n",
    "                if start_p == end_p:\n",
    "                    continue\n",
    "                                \n",
    "                dist = cway['trimmed'].project(start_p)\n",
    "                \n",
    "                if dist > 0 and dist < cway['trimmed'].length:                \n",
    "                    # Connect the last part of the neighbour to this road\n",
    "                    # We assume a single carriageway here\n",
    "                    other_line = linemerge(cway['trimmed'])\n",
    "                    if (cway['u'] == nodeid):\n",
    "                        other_line = substring(other_line, 0, dist)\n",
    "                    else:\n",
    "                        other_line = substring(other_line, dist, other_line.length)\n",
    "\n",
    "                    if (cway['u'] == nodeid) != ((f['u'] == nodeid) == (f['side'] == 1)):\n",
    "                        other_line = LineString(list(other_line.coords[::-1]))\n",
    "\n",
    "                    if (f['u'] == nodeid) == (f['side'] == 1):\n",
    "                        geom = MultiLineString([other_line] + list(geom.geoms))\n",
    "                    else:\n",
    "                        geom = MultiLineString(list(geom.geoms) + [other_line])\n",
    "\n",
    "                    return geom\n",
    "\n",
    "                    new_lines = new_lines + [LineString((start_p, end_p))]\n",
    "            \n",
    "            continue\n",
    "        \n",
    "        for uuid, cway in road.set_index('uuid').iterrows():\n",
    "            if (cway['road_uuid'] != f['u_next']\n",
    "                and cway['road_uuid'] != f['v_next']\n",
    "                and f['trimmed'].intersects(cway['trimmed'])):\n",
    "                \n",
    "                # Get the other_side of this dual road\n",
    "                side = int(not cway['side'])\n",
    "                other_side = road[road['side'] == side].iloc[0]\n",
    "                \n",
    "                start_p = geom.intersection(cway['trimmed'])\n",
    "                \n",
    "                if start_p.type == \"LineString\":\n",
    "                    continue\n",
    "                \n",
    "                if f['dual']:\n",
    "                    from_start = (f['u'] == nodeid) == (f['side'] == 1)\n",
    "                else:\n",
    "                    from_start = f['u'] == nodeid\n",
    "                \n",
    "                # That's probably a line crossing the same line in both sides\n",
    "                # so we just take the end point\n",
    "                if start_p.type == \"MultiPoint\":\n",
    "                    start_p = linemerge(f['trimmed']).boundary[0 if from_start else 1]\n",
    "                \n",
    "                if start_p in cway['trimmed'].boundary:\n",
    "                    continue\n",
    "                \n",
    "                if not np.isnan(next_uuid) and is_merge_with_next(f, next_uuid):\n",
    "                    end_p = Point(f['axis_geom'].geoms[0].coords[0 if f['u'] == nodeid else -1])\n",
    "                else:\n",
    "                    # We'll use the \"geom\" because it's more reliable regarding the order of boundaries\n",
    "                    other_geom = other_side['geom']\n",
    "                    \n",
    "                    if other_geom.is_ring:\n",
    "                        points = shapely.geometry.asMultiPoint(other_geom.coords)\n",
    "                        end_p = pick_closests_to(points, start_p)\n",
    "                    else:\n",
    "                        if (other_side['u'] == nodeid) == (side == 1):\n",
    "                            end_p = Point(other_geom.coords[0])\n",
    "                        else:\n",
    "                            end_p = Point(other_geom.coords[-1])\n",
    "                \n",
    "                if end_p in geom.boundary:\n",
    "                    continue\n",
    "                \n",
    "                if from_start:\n",
    "                    end_p, start_p = (start_p, end_p)\n",
    "                    \n",
    "                if start_p == end_p:\n",
    "                    continue\n",
    "                \n",
    "                # Check if this is going to make a new branch\n",
    "                if linemerge(MultiLineString(new_lines + [LineString((start_p, end_p))])).type == \"MultiLineString\":                    \n",
    "                    continue\n",
    "                \n",
    "                new_lines = new_lines + [LineString((start_p, end_p))]\n",
    "    \n",
    "    geom = MultiLineString(new_lines)\n",
    "    \n",
    "    return geom\n",
    "\n",
    "def next_too_short(f, nodeid):\n",
    "    next_road = carriageways[carriageways['road_uuid'] == int(f['u_next' if f['u'] == nodeid else 'v_next'])].iloc[0]\n",
    "    if next_road['geom'].length < 3:\n",
    "        return np.isnan(next_road[\"v_next\" if next_road['u'] == nodeid else \"u_next\"])\n",
    "    \n",
    "    return False\n",
    "\n",
    "def is_merge_with_next(f, next_uuid):\n",
    "    return f['dual'] == True and get_feature(carriageways, 'road_uuid', next_uuid)['dual'] == False\n",
    "\n",
    "def extend_feature(f):\n",
    "    geom = f['trimmed']\n",
    "    \n",
    "    if f['u'] == f['v']:\n",
    "        return geom\n",
    "    \n",
    "    if f['u_next'] == f['v_next']:\n",
    "        return geom\n",
    "    \n",
    "    try:\n",
    "        if np.isnan(f['u_next']) or next_too_short(f, f['u']) or is_merge_with_next(f, f['u_next']):\n",
    "            geom = extend_at_intersection(geom, f, f['u'])\n",
    "        if np.isnan(f['v_next']) or next_too_short(f, f['v']) or is_merge_with_next(f, f['v_next']):\n",
    "            geom = extend_at_intersection(geom, f, f['v'])\n",
    "    except Exception as e:\n",
    "        print(f[\"uuid\"])\n",
    "        raise e\n",
    "    \n",
    "    return geom\n",
    "\n",
    "carriageways['extended'] = carriageways.progress_apply(extend_feature, axis=1)\n",
    "\n",
    "carriageways.reset_index(drop=True, inplace=True)\n",
    "geopandas.GeoDataFrame(carriageways.drop(['axis_geom', 'geometry_right', 'geom', 'trimmed'], 1),\n",
    "                       geometry=\"extended\",\n",
    "                       crs=epsg_str).to_file('{}/output.gpkg'.format(output_folder), layer='Fourth pass - Extend', driver='GPKG')\n",
    "\n",
    "print(\"Done!\")\n",
    "\n",
    "# 0x61fd0849495c3bdca046bce13e827945 - broken loop\n",
    "# 0x6e05ef7743473b631b0f83bcad57a835 - right thing\n",
    "# f = carriageways[carriageways['uuid'] == '0x33b638161866509aadfa0ee263d16a06'].iloc[0]\n",
    "# extend_feature(f).wkt"
   ]
  },
  {
   "cell_type": "markdown",
   "metadata": {},
   "source": [
    "### Fix intersections when dual carriageways merge to one\n",
    "\n",
    "When a carriageway ends up in an intersection and merges to one, then we should try to \"snap\" it to the perpendicular roads (if any).\n",
    "\n",
    "The main idea is that we get the second-to-last point of the carriage way (that is, the point of the base of the small \"triangle\") and we compute the projection to all neighbours of the intersection. We should pick one of them based on a rule (e.g. the one with the closest distance?) and then make a new segment there."
   ]
  },
  {
   "cell_type": "code",
   "execution_count": 30,
   "metadata": {},
   "outputs": [
    {
     "data": {
      "application/vnd.jupyter.widget-view+json": {
       "model_id": "4519d5ce07de44dc8ee6324288e36171",
       "version_major": 2,
       "version_minor": 0
      },
      "text/plain": [
       "HBox(children=(HTML(value=''), FloatProgress(value=0.0, max=93799.0), HTML(value='')))"
      ]
     },
     "metadata": {},
     "output_type": "display_data"
    },
    {
     "name": "stderr",
     "output_type": "stream",
     "text": [
      "<ipython-input-30-60c340a1f3eb>:86: UserWarning: Feature 0xf055c9f5c141b78d9c9aa1cc532c7a7f shares multiple lines with neighbours! Skipping the snapping.\n",
      "  warnings.warn(\"Feature {} shares multiple lines with neighbours! Skipping the snapping.\".format(f['uuid']))\n",
      "<ipython-input-30-60c340a1f3eb>:86: UserWarning: Feature 0x2011fff0e775fdf94e56682207983c78 shares multiple lines with neighbours! Skipping the snapping.\n",
      "  warnings.warn(\"Feature {} shares multiple lines with neighbours! Skipping the snapping.\".format(f['uuid']))\n",
      "<ipython-input-30-60c340a1f3eb>:86: UserWarning: Feature 0x66506350c2a77cac19ccf2635c9d3049 shares multiple lines with neighbours! Skipping the snapping.\n",
      "  warnings.warn(\"Feature {} shares multiple lines with neighbours! Skipping the snapping.\".format(f['uuid']))\n",
      "<ipython-input-30-60c340a1f3eb>:86: UserWarning: Feature 0x37126459bd76964b63d32c539c704ae2 shares multiple lines with neighbours! Skipping the snapping.\n",
      "  warnings.warn(\"Feature {} shares multiple lines with neighbours! Skipping the snapping.\".format(f['uuid']))\n",
      "<ipython-input-30-60c340a1f3eb>:86: UserWarning: Feature 0x88fbde47ac4f6efed1debe2eeb0384bc shares multiple lines with neighbours! Skipping the snapping.\n",
      "  warnings.warn(\"Feature {} shares multiple lines with neighbours! Skipping the snapping.\".format(f['uuid']))\n",
      "<ipython-input-30-60c340a1f3eb>:86: UserWarning: Feature 0xf7474b278282034f0ccba8411466f06c shares multiple lines with neighbours! Skipping the snapping.\n",
      "  warnings.warn(\"Feature {} shares multiple lines with neighbours! Skipping the snapping.\".format(f['uuid']))\n",
      "<ipython-input-30-60c340a1f3eb>:86: UserWarning: Feature 0x3542cdc2df1d92616e075a5aa4b2580a shares multiple lines with neighbours! Skipping the snapping.\n",
      "  warnings.warn(\"Feature {} shares multiple lines with neighbours! Skipping the snapping.\".format(f['uuid']))\n",
      "<ipython-input-30-60c340a1f3eb>:86: UserWarning: Feature 0x3542cdc2df1d92616e075a5aa4b2580a shares multiple lines with neighbours! Skipping the snapping.\n",
      "  warnings.warn(\"Feature {} shares multiple lines with neighbours! Skipping the snapping.\".format(f['uuid']))\n",
      "<ipython-input-30-60c340a1f3eb>:86: UserWarning: Feature 0x2c97ad634a74a7df8812e2c57714adfe shares multiple lines with neighbours! Skipping the snapping.\n",
      "  warnings.warn(\"Feature {} shares multiple lines with neighbours! Skipping the snapping.\".format(f['uuid']))\n",
      "<ipython-input-30-60c340a1f3eb>:86: UserWarning: Feature 0x9696ac2b5468c8425ffe8e9c8bcf1af4 shares multiple lines with neighbours! Skipping the snapping.\n",
      "  warnings.warn(\"Feature {} shares multiple lines with neighbours! Skipping the snapping.\".format(f['uuid']))\n",
      "<ipython-input-30-60c340a1f3eb>:86: UserWarning: Feature 0x9696ac2b5468c8425ffe8e9c8bcf1af4 shares multiple lines with neighbours! Skipping the snapping.\n",
      "  warnings.warn(\"Feature {} shares multiple lines with neighbours! Skipping the snapping.\".format(f['uuid']))\n"
     ]
    },
    {
     "name": "stdout",
     "output_type": "stream",
     "text": [
      "\n",
      "Done!\n"
     ]
    }
   ],
   "source": [
    "from shapely.ops import substring, split\n",
    "\n",
    "def move_vertex(line, orig_c, dest_c):\n",
    "    \"\"\"Will move the vertex orig_c to the position of dest_c.\n",
    "    \n",
    "    line --- A LineString of MultiLineString to process\n",
    "    orig_c --- The original coords\n",
    "    dest_c --- The destination coords\n",
    "    \"\"\"\n",
    "    \n",
    "    if line.type == \"LineString\":\n",
    "        return LineString([dest_c if c==orig_c else c for c in line.coords])\n",
    "    else:\n",
    "        return MultiLineString([move_vertex(l, orig_c, dest_c) for l in line.geoms])\n",
    "\n",
    "def cut_line(line, p, reverse=False, tolerance=0.001):\n",
    "    \"\"\"Cuts the (Multi)LineString at the given point p\n",
    "    \n",
    "    line    --- A LineString or a MultiLineString to process\n",
    "    p       --- The point where to cut the line string\n",
    "    reverse --- Cut from the beginning or the end\n",
    "    tolerance --- The point must be inside the tolerance amount from the line, otherwise skipped\n",
    "    \"\"\"\n",
    "    \n",
    "    if line.type == \"LineString\":\n",
    "        if not p.buffer(tolerance).intersects(line):\n",
    "            return line\n",
    "        \n",
    "        dist = line.project(p)\n",
    "        if reverse:\n",
    "            return substring(line, 0, dist)\n",
    "        else:\n",
    "            return substring(line, dist, line.length)\n",
    "    \n",
    "    # Case of MultiLineString\n",
    "    one_line = linemerge(line)\n",
    "    \n",
    "    assert one_line.type == \"LineString\"\n",
    "    \n",
    "    geoms = []\n",
    "    for l in line.geoms:\n",
    "        if l.length < 0.001:\n",
    "            continue\n",
    "        \n",
    "        if not p.buffer(tolerance).intersects(l):\n",
    "            geoms.append(l)\n",
    "            continue\n",
    "            \n",
    "        if l.project(p) > 0 and l.project(p) < l.length:\n",
    "            geoms.append(cut_line(l, p, reverse))\n",
    "        else:\n",
    "            dist = one_line.project(p)\n",
    "            dist_start = one_line.project(l.boundary[0])\n",
    "            dist_end = one_line.project(l.boundary[1])\n",
    "            \n",
    "            if not reverse and dist_start <= dist and dist_end <= dist:\n",
    "                continue\n",
    "            elif reverse and dist_start >= dist and dist_end >= dist:\n",
    "                continue\n",
    "            geoms.append(l)\n",
    "    \n",
    "    return MultiLineString(geoms)\n",
    "\n",
    "def fix_merged_at_intersection(geom, f, nodeid):\n",
    "    neighbours = find_neighbouring_features(network_graph,\n",
    "                                            nodeid,\n",
    "                                            df=carriageways,\n",
    "                                            uuid_col='road_uuid',\n",
    "                                            exclude=f['road_uuid'])\n",
    "    \n",
    "    if len(neighbours.groupby('road_uuid')) < 2:\n",
    "        return geom\n",
    "    \n",
    "    all_lines = shapely.ops.unary_union(neighbours.reset_index()['extended'])\n",
    "    all_lines = shapely.ops.snap(all_lines, geom, 0.001)\n",
    "    \n",
    "    inter = all_lines.intersection(geom)\n",
    "    if inter.type == \"LineString\" or inter.type == \"MultiLineString\":\n",
    "        return geom\n",
    "    \n",
    "    # Here there is a MultiLineString so we need to pick the right one\n",
    "    # and select the second-to-last point.    \n",
    "    one_line = linemerge(geom)\n",
    "    \n",
    "    if one_line.type != \"LineString\":\n",
    "        warnings.warn(\"Feature {} shares multiple lines with neighbours! Skipping the snapping.\".format(f['uuid']))\n",
    "        return geom\n",
    "        \n",
    "    assert one_line.type == \"LineString\"\n",
    "    \n",
    "    p = Point(one_line.coords[1 if (f['u'] == nodeid) == (f['side'] == 1) else -2])\n",
    "    end_p = Point(one_line.coords[0 if (f['u'] == nodeid) == (f['side'] == 1) else -1])\n",
    "    \n",
    "    az = get_line_azimuth(f['axis_geom'].geoms[0], f['u'] != nodeid)\n",
    "    \n",
    "    orig_geom = geom\n",
    "    \n",
    "    for uuid, n in neighbours.set_index('uuid').iterrows():\n",
    "        if n['dual'] == True:\n",
    "            continue\n",
    "\n",
    "        cross_p = n[\"extended\"].intersection(geom)\n",
    "        if cross_p.type == \"LineString\" and not cross_p.is_empty:\n",
    "            continue\n",
    "                \n",
    "        n_az = get_line_azimuth(n['axis_geom'].geoms[0], n['u'] != nodeid)\n",
    "        \n",
    "        angle = abs(n_az - az)\n",
    "        \n",
    "        if (angle < 70) and cross_p in one_line.boundary:\n",
    "            continue\n",
    "        \n",
    "        if angle < 120 or (angle > 240 and angle < 300):\n",
    "            l = 0\n",
    "            m = n\n",
    "            while l < LineString([p, end_p]).length:\n",
    "                other_line = linemerge(m['trimmed'])\n",
    "\n",
    "                # If this is a MultiLineString, it's probably one of those\n",
    "                # oneways that we have duplicated its end (check the trim\n",
    "                # special case)\n",
    "                if other_line.type == \"MultiLineString\":\n",
    "                    other_line = max(other_line.geoms, key=lambda g: g.length)\n",
    "                \n",
    "                l = l + other_line.length\n",
    "                dist = other_line.project(p)\n",
    "                                    \n",
    "                if dist > 0.001 and dist < other_line.length - 0.001:\n",
    "                    geom = orig_geom\n",
    "                    proj_p = other_line.interpolate(dist)\n",
    "                    \n",
    "                    # We snap the \"remaining\" part of the road to the neighbour\n",
    "                    geom = move_vertex(geom, p.coords[0], proj_p.coords[0])\n",
    "                    geom = cut_line(geom, proj_p, (f['u'] == nodeid) == (f['side'] == 0))\n",
    "                    \n",
    "                    # Connect the last part of the neighbour to this road\n",
    "                    # We assume a single carriageway here\n",
    "                    if (n['u'] == nodeid):\n",
    "                        other_line = substring(other_line, 0, dist)\n",
    "                    else:\n",
    "                        other_line = substring(other_line, dist, other_line.length)\n",
    "                    \n",
    "                    if (n['u'] == nodeid) != ((f['u'] == nodeid) == (f['side'] == 1)):\n",
    "                        other_line = LineString(list(other_line.coords[::-1]))\n",
    "                    \n",
    "                    if (f['u'] == nodeid) == (f['side'] == 1):\n",
    "                        geom = MultiLineString([other_line] + list(geom.geoms))\n",
    "                    else:\n",
    "                        geom = MultiLineString(list(geom.geoms) + [other_line])\n",
    "                \n",
    "                next_uuid = m['v_next' if m['u'] == nodeid else 'u_next']\n",
    "                if np.isnan(next_uuid):\n",
    "                    break\n",
    "                else:\n",
    "                    m = get_feature(carriageways, 'road_uuid', next_uuid)\n",
    "    \n",
    "    return geom\n",
    "\n",
    "def fix_merged_feature(f):\n",
    "    \"\"\"Returns a carriageway 'snapped' to the closest line.\"\"\"\n",
    "    \n",
    "    geom = f['extended']\n",
    "        \n",
    "    if f[\"dual\"] == False:\n",
    "        return geom\n",
    "    \n",
    "    lines = carriageways[carriageways['road_uuid'] == f['road_uuid']]\n",
    "    \n",
    "    try:\n",
    "        if is_dual_merge(lines, f['u']):\n",
    "            geom = fix_merged_at_intersection(geom, f, f['u'])        \n",
    "            \n",
    "        if is_dual_merge(lines, f['v']):\n",
    "            geom = fix_merged_at_intersection(geom, f, f['v'])\n",
    "    except Exception as e:\n",
    "        print(f['uuid'])\n",
    "        raise e\n",
    "    \n",
    "    return geom\n",
    "\n",
    "carriageways['snapped'] = carriageways.progress_apply(fix_merged_feature, axis=1)\n",
    "\n",
    "geopandas.GeoDataFrame(carriageways.drop(['axis_geom', 'geometry_right', 'geom', 'trimmed', 'extended'], 1),\n",
    "                       geometry=\"snapped\",\n",
    "                       crs=epsg_str).to_file('{}/output.gpkg'.format(output_folder), layer='Fifth pass - Snap', driver='GPKG')\n",
    "\n",
    "print(\"Done!\")\n",
    "\n",
    "# f = carriageways[carriageways['uuid'] == '0x2863470477e27923aacea43f7c54fc4d'].iloc[0]\n",
    "# fix_merged_feature(f).wkt"
   ]
  },
  {
   "cell_type": "markdown",
   "metadata": {},
   "source": [
    "#### TODO\n",
    "\n",
    "- In the current \"snapped\" pass we need make a last segment that takes the shape of the road that we \"snap\" to, instead of just making a simple line.\n",
    "- We need to add a last pass where we intersect all lines of an intersection between them so that we find linear intersection in order to add a node in the lines that don't have one."
   ]
  },
  {
   "cell_type": "markdown",
   "metadata": {},
   "source": [
    "## Several notes and TODOS\n",
    "\n",
    "1. **(DONE)** Smooth out the carriageways between them:\n",
    "    - Normal case (two double-carriageways meet), we compute the mid point of the endpoints and join the lines.\n",
    "    - When a double-carriageway meets a single one, we join with a triangle.\n",
    "2. Find outliers that are too wide and are a dead-end.\n",
    "3. Compute the new nodes of the network."
   ]
  },
  {
   "cell_type": "markdown",
   "metadata": {},
   "source": [
    "# Cleanup\n",
    "\n",
    "This is a function necessary to cleanup geometry collections later in the process:"
   ]
  },
  {
   "cell_type": "code",
   "execution_count": 31,
   "metadata": {},
   "outputs": [],
   "source": [
    "def clean_collection(geom):\n",
    "    \"\"\"Removes points from a geometry collection\"\"\"\n",
    "    if geom.type == \"GeometryCollection\":\n",
    "        lines = []\n",
    "        \n",
    "        for g in geom.geoms:\n",
    "            if g.type == \"LineString\":\n",
    "                lines.append(g)\n",
    "        \n",
    "        return MultiLineString(lines)\n",
    "    \n",
    "    return geom"
   ]
  },
  {
   "cell_type": "markdown",
   "metadata": {},
   "source": [
    "Let's identify the shared paths between pairs of roads at intersections:"
   ]
  },
  {
   "cell_type": "code",
   "execution_count": 32,
   "metadata": {},
   "outputs": [
    {
     "data": {
      "application/vnd.jupyter.widget-view+json": {
       "model_id": "e715257ab09748449e8b1d8a03589712",
       "version_major": 2,
       "version_minor": 0
      },
      "text/plain": [
       "HBox(children=(HTML(value=''), FloatProgress(value=0.0, max=114020.0), HTML(value='')))"
      ]
     },
     "metadata": {},
     "output_type": "display_data"
    },
    {
     "name": "stderr",
     "output_type": "stream",
     "text": [
      "<ipython-input-32-aa65d0d80fd3>:44: UserWarning: Something isn't right with intersection 146683617! Intersection geometry is POINT EMPTY\n",
      "  warnings.warn(f\"Something isn't right with intersection {osmid}! Intersection geometry is {inter.wkt}\")\n",
      "<ipython-input-32-aa65d0d80fd3>:44: UserWarning: Something isn't right with intersection 247996858! Intersection geometry is GEOMETRYCOLLECTION EMPTY\n",
      "  warnings.warn(f\"Something isn't right with intersection {osmid}! Intersection geometry is {inter.wkt}\")\n",
      "<ipython-input-32-aa65d0d80fd3>:44: UserWarning: Something isn't right with intersection 247996858! Intersection geometry is POINT EMPTY\n",
      "  warnings.warn(f\"Something isn't right with intersection {osmid}! Intersection geometry is {inter.wkt}\")\n",
      "<ipython-input-32-aa65d0d80fd3>:44: UserWarning: Something isn't right with intersection 247996858! Intersection geometry is GEOMETRYCOLLECTION (POINT (6427422.773531343 5815176.294292421), LINESTRING (6427410.573246022 5815173.722494957, 6427408.876585957 5815175.508632259), LINESTRING (6427408.876585957 5815175.508632259, 6427406.209479224 5815178.316394947))\n",
      "  warnings.warn(f\"Something isn't right with intersection {osmid}! Intersection geometry is {inter.wkt}\")\n",
      "<ipython-input-32-aa65d0d80fd3>:44: UserWarning: Something isn't right with intersection 353108490! Intersection geometry is POINT EMPTY\n",
      "  warnings.warn(f\"Something isn't right with intersection {osmid}! Intersection geometry is {inter.wkt}\")\n",
      "<ipython-input-32-aa65d0d80fd3>:44: UserWarning: Something isn't right with intersection 961406225! Intersection geometry is POINT EMPTY\n",
      "  warnings.warn(f\"Something isn't right with intersection {osmid}! Intersection geometry is {inter.wkt}\")\n",
      "<ipython-input-32-aa65d0d80fd3>:44: UserWarning: Something isn't right with intersection 1912561778! Intersection geometry is POINT EMPTY\n",
      "  warnings.warn(f\"Something isn't right with intersection {osmid}! Intersection geometry is {inter.wkt}\")\n",
      "<ipython-input-32-aa65d0d80fd3>:44: UserWarning: Something isn't right with intersection 1912561779! Intersection geometry is POINT EMPTY\n",
      "  warnings.warn(f\"Something isn't right with intersection {osmid}! Intersection geometry is {inter.wkt}\")\n",
      "<ipython-input-32-aa65d0d80fd3>:44: UserWarning: Something isn't right with intersection 3249863132! Intersection geometry is POINT EMPTY\n",
      "  warnings.warn(f\"Something isn't right with intersection {osmid}! Intersection geometry is {inter.wkt}\")\n"
     ]
    },
    {
     "name": "stdout",
     "output_type": "stream",
     "text": [
      "\n"
     ]
    }
   ],
   "source": [
    "def process_duplicates(G, osmid, df, uuid_col=\"road_uuid\", geom_col=\"snapped\"):\n",
    "    \"\"\"\n",
    "    Remove the duplicates from df at the osmid node.\n",
    "    \n",
    "    G is a networkx graph used to lookup the network faster.\n",
    "    uuid_col is the name of the column of the road's uuid (not the carriageway)\n",
    "    \"\"\"\n",
    "    neighbours = find_neighbouring_features(G, osmid, df, uuid_col, min_length=0.001)\n",
    "\n",
    "    new_feats = []\n",
    "    \n",
    "    # Iterate through the group of roads here\n",
    "    if all([n['dual'] == True for uuid, n in neighbours.iterrows()]) and len(neighbours) == 8:\n",
    "        \n",
    "        right_sides = neighbours[(neighbours['side'] == 0) == (neighbours['u'] == osmid)]\n",
    "        left_sides = neighbours[(neighbours['side'] == 1) == (neighbours['u'] == osmid)]\n",
    "        all_lines = shapely.ops.unary_union(left_sides.reset_index(drop=True)[geom_col])\n",
    "        \n",
    "        for uuid, side in right_sides.iterrows():\n",
    "            center = Point(side[\"axis_geom\"].geoms[0].coords[0 if side['u'] == osmid else -1])\n",
    "            \n",
    "            # We intersect with other lines, excluding the boundaries (normally, this\n",
    "            # side will intersect with another's end anyway). We snap here, to make sure\n",
    "            # no precision issues arise.\n",
    "            inter = all_lines.intersection(side[geom_col])\n",
    "            snapped_geom = shapely.ops.snap(side[geom_col], inter, 0.001)\n",
    "            inter = inter.difference(snapped_geom.boundary)\n",
    "            \n",
    "            if inter.type == \"MultiPoint\":\n",
    "                inter = pick_closests_to(inter, Point(side[geom_col].geoms[0].coords[0 if side['u'] == osmid else -1]))\n",
    "            \n",
    "            if inter.type == \"Point\" and not inter.is_empty:\n",
    "                feat = side\n",
    "                feat['oneway'] = np.nan\n",
    "                feat['dual'] = False\n",
    "                try:\n",
    "                    feat['intersect'] = LineString([inter, center])\n",
    "                except Exception as e:\n",
    "                    print(osmid)\n",
    "                    raise e\n",
    "                \n",
    "                new_feats.append(feat)\n",
    "            else:\n",
    "                warnings.warn(f\"Something isn't right with intersection {osmid}! Intersection geometry is {inter.wkt}\")\n",
    "            \n",
    "        return new_feats\n",
    "\n",
    "    if len(neighbours) < 3:\n",
    "        return []\n",
    "\n",
    "    for nid, n in neighbours.set_index(\"uuid\").iterrows():\n",
    "        for mid, m in neighbours.set_index(\"uuid\").iterrows():\n",
    "            if mid == nid:\n",
    "                continue\n",
    "            \n",
    "            orig_geom = shapely.ops.snap(n[geom_col], m[geom_col], 0.001)\n",
    "            other_geom = shapely.ops.snap(m[geom_col], orig_geom, 0.001)\n",
    "            geom = orig_geom.intersection(other_geom)\n",
    "            geom = clean_collection(geom)\n",
    "\n",
    "            if geom.type != \"Point\" and geom.type != \"MultiPoint\" and not geom.is_empty:\n",
    "                if geom.length < 0.001:\n",
    "                    continue\n",
    "                \n",
    "                feat = n\n",
    "                feat[\"intersect\"] = geom\n",
    "                \n",
    "                # We need to add the uuid back, since it's the index\n",
    "                feat[\"uuid\"] = nid\n",
    "                \n",
    "                new_feats.append(feat)\n",
    "    \n",
    "    return new_feats\n",
    "\n",
    "final_cways = carriageways\n",
    "final_cways.reset_index(drop=True, inplace=True)\n",
    "final_cways.set_index(\"uuid\", drop=False, inplace=True)\n",
    "\n",
    "new_features = []\n",
    "\n",
    "for node in tqdm(network_graph.nodes()):\n",
    "    osmid = network_graph.nodes[node]['osmid']\n",
    "    \n",
    "    new_features.extend(process_duplicates(network_graph, osmid, final_cways))"
   ]
  },
  {
   "cell_type": "code",
   "execution_count": 33,
   "metadata": {},
   "outputs": [
    {
     "data": {
      "text/plain": [
       "4"
      ]
     },
     "execution_count": 33,
     "metadata": {},
     "output_type": "execute_result"
    }
   ],
   "source": [
    "def process_duplicates(G, osmid, df, uuid_col=\"road_uuid\", geom_col=\"snapped\"):\n",
    "    \"\"\"\n",
    "    Remove the duplicates from df at the osmid node.\n",
    "    \n",
    "    G is a networkx graph used to lookup the network faster.\n",
    "    uuid_col is the name of the column of the road's uuid (not the carriageway)\n",
    "    \"\"\"\n",
    "    neighbours = find_neighbouring_features(G, osmid, df, uuid_col, min_length=0.001)\n",
    "\n",
    "    new_feats = []\n",
    "    \n",
    "    # Iterate through the group of roads here\n",
    "    if all([n['dual'] == True for uuid, n in neighbours.iterrows()]) and len(neighbours) == 8:\n",
    "        \n",
    "        right_sides = neighbours[(neighbours['side'] == 0) == (neighbours['u'] == osmid)]\n",
    "        left_sides = neighbours[(neighbours['side'] == 1) == (neighbours['u'] == osmid)]\n",
    "        all_lines = shapely.ops.unary_union(left_sides.reset_index(drop=True)[geom_col])\n",
    "        \n",
    "        for uuid, side in right_sides.iterrows():\n",
    "            center = Point(side[\"axis_geom\"].geoms[0].coords[0 if side['u'] == osmid else -1])\n",
    "            \n",
    "            # We intersect with other lines, excluding the boundaries (normally, this\n",
    "            # side will intersect with another's end anyway). We snap here, to make sure\n",
    "            # no precision issues arise.\n",
    "            inter = all_lines.intersection(side[geom_col])\n",
    "            snapped_geom = shapely.ops.snap(side[geom_col], inter, 0.001)\n",
    "            inter = inter.difference(snapped_geom.boundary)\n",
    "            \n",
    "            if inter.type == \"MultiPoint\":\n",
    "                inter = pick_closests_to(inter, Point(side[geom_col].geoms[0].coords[0 if side['u'] == osmid else -1]))\n",
    "            \n",
    "            if inter.type == \"Point\" and not inter.is_empty:\n",
    "                feat = side\n",
    "                feat['oneway'] = np.nan\n",
    "                feat['dual'] = False\n",
    "                try:\n",
    "                    feat['intersect'] = LineString([inter, center])\n",
    "                except Exception as e:\n",
    "                    print(osmid)\n",
    "                    raise e\n",
    "                \n",
    "                new_feats.append(feat)\n",
    "            else:\n",
    "                warnings.warn(f\"Something isn't right with intersection {osmid}! Intersection geometry is {inter.wkt}\")\n",
    "            \n",
    "        return new_feats\n",
    "\n",
    "    if len(neighbours) < 3:\n",
    "        return []\n",
    "\n",
    "    for nid, n in neighbours.set_index(\"uuid\").iterrows():\n",
    "        for mid, m in neighbours.set_index(\"uuid\").iterrows():\n",
    "            if mid == nid:\n",
    "                continue\n",
    "            \n",
    "            orig_geom = shapely.ops.snap(n[geom_col], m[geom_col], 0.001)\n",
    "            other_geom = shapely.ops.snap(m[geom_col], orig_geom, 0.001)\n",
    "            geom = orig_geom.intersection(other_geom)\n",
    "            geom = clean_collection(geom)\n",
    "\n",
    "            if geom.type != \"Point\" and geom.type != \"MultiPoint\" and not geom.is_empty:\n",
    "                if geom.length < 0.001:\n",
    "                    continue\n",
    "                \n",
    "                feat = n\n",
    "                feat[\"intersect\"] = geom\n",
    "                \n",
    "                # We need to add the uuid back, since it's the index\n",
    "                feat[\"uuid\"] = nid\n",
    "                \n",
    "                new_feats.append(feat)\n",
    "    \n",
    "    return new_feats\n",
    "\n",
    "len(process_duplicates(network_graph, 1846541096, final_cways))"
   ]
  },
  {
   "cell_type": "code",
   "execution_count": 34,
   "metadata": {},
   "outputs": [
    {
     "data": {
      "text/plain": [
       "12044"
      ]
     },
     "execution_count": 34,
     "metadata": {},
     "output_type": "execute_result"
    }
   ],
   "source": [
    "len(new_features)"
   ]
  },
  {
   "cell_type": "markdown",
   "metadata": {},
   "source": [
    "The output of the previous step can be dealt as a new dataframe with new features:"
   ]
  },
  {
   "cell_type": "code",
   "execution_count": 35,
   "metadata": {},
   "outputs": [
    {
     "data": {
      "application/vnd.jupyter.widget-view+json": {
       "model_id": "74794185b7a3408a961f5d3a77a922ae",
       "version_major": 2,
       "version_minor": 0
      },
      "text/plain": [
       "HBox(children=(HTML(value=''), FloatProgress(value=0.0, max=12044.0), HTML(value='')))"
      ]
     },
     "metadata": {},
     "output_type": "display_data"
    },
    {
     "name": "stdout",
     "output_type": "stream",
     "text": [
      "\n"
     ]
    }
   ],
   "source": [
    "common_edges = geopandas.GeoDataFrame(new_features, geometry=\"intersect\", crs=epsg_str)\n",
    "common_edges.reset_index(drop=True, inplace=True)\n",
    "common_edges[\"intersect\"] = common_edges.progress_apply(lambda f: clean_collection(f[\"intersect\"]), axis=1)\n",
    "common_edges = common_edges.drop(['axis_geom', 'geometry_right', 'geom', 'trimmed', 'extended', 'snapped'], 1)\n",
    "common_edges.to_file('{}/output.gpkg'.format(output_folder), layer=\"common_edges\", driver=\"GPKG\")"
   ]
  },
  {
   "cell_type": "code",
   "execution_count": 36,
   "metadata": {},
   "outputs": [
    {
     "data": {
      "application/vnd.jupyter.widget-view+json": {
       "model_id": "2d682850e58b4e44af2df8797a2692d3",
       "version_major": 2,
       "version_minor": 0
      },
      "text/plain": [
       "HBox(children=(HTML(value=''), FloatProgress(value=0.0, max=93799.0), HTML(value='')))"
      ]
     },
     "metadata": {},
     "output_type": "display_data"
    },
    {
     "name": "stdout",
     "output_type": "stream",
     "text": [
      "\n"
     ]
    }
   ],
   "source": [
    "def remove_common(f):\n",
    "    \"\"\"Remove parts of common_edges from f\"\"\"\n",
    "    \n",
    "    com = common_edges[common_edges[\"uuid\"] == f[\"uuid\"]]\n",
    "    \n",
    "    if len(com) > 0:\n",
    "        orig_geom = f[\"snapped\"]\n",
    "        \n",
    "        for id, c in com.iterrows():\n",
    "            inter_geom = c[\"intersect\"]\n",
    "\n",
    "            orig_geom = shapely.ops.snap(orig_geom, inter_geom, 0.001)\n",
    "            inter_geom = shapely.ops.snap(inter_geom, orig_geom, 0.001)\n",
    "            \n",
    "            orig_geom = orig_geom.difference(inter_geom)\n",
    "                \n",
    "        return orig_geom\n",
    "    \n",
    "    return f[\"snapped\"]\n",
    "\n",
    "# 0xcb91ce4c6e581441f3b89b1f8dfe501a\n",
    "# 0xe3db96b7a3ad690f9257cb4fecc3b786\n",
    "\n",
    "# f = final_cways.set_index(\"uuid\", drop=False).loc[\"0x39edea25720da63e6071a3840969fb2e\"]\n",
    "# remove_common(f).wkt\n",
    "\n",
    "final_cways[\"clean\"] = final_cways.progress_apply(remove_common, axis=1)"
   ]
  },
  {
   "cell_type": "code",
   "execution_count": 37,
   "metadata": {},
   "outputs": [],
   "source": [
    "final = final_cways.reset_index(drop=True)\n",
    "final = final.set_geometry(\"clean\")\n",
    "final.drop(['axis_geom', 'geometry_right', 'geom', 'trimmed', 'extended', 'snapped'], 1).to_file('{}/output.gpkg'.format(output_folder), layer=\"clean\", driver=\"GPKG\")"
   ]
  },
  {
   "cell_type": "code",
   "execution_count": 38,
   "metadata": {},
   "outputs": [
    {
     "data": {
      "application/vnd.jupyter.widget-view+json": {
       "model_id": "6ac3adf38d2849f18b8b332fb269020e",
       "version_major": 2,
       "version_minor": 0
      },
      "text/plain": [
       "HBox(children=(HTML(value=''), FloatProgress(value=0.0, max=12044.0), HTML(value='')))"
      ]
     },
     "metadata": {},
     "output_type": "display_data"
    },
    {
     "name": "stderr",
     "output_type": "stream",
     "text": [
      "<ipython-input-38-29cd695e3a13>:36: UserWarning: Clean and common part of 0xeccec8a0152b6646ced5a8aad424c592 don't intersect, which is probably fine but check it!\n",
      "  warnings.warn(f\"Clean and common part of {f['uuid']} don't intersect, which is probably fine but check it!\")\n",
      "<ipython-input-38-29cd695e3a13>:36: UserWarning: Clean and common part of 0x8f707ad430e7c81671ccf9f8502dc8ab don't intersect, which is probably fine but check it!\n",
      "  warnings.warn(f\"Clean and common part of {f['uuid']} don't intersect, which is probably fine but check it!\")\n",
      "<ipython-input-38-29cd695e3a13>:36: UserWarning: Clean and common part of 0xfdf13dc03f7e8188d7e6548277f4feb8 don't intersect, which is probably fine but check it!\n",
      "  warnings.warn(f\"Clean and common part of {f['uuid']} don't intersect, which is probably fine but check it!\")\n",
      "<ipython-input-38-29cd695e3a13>:36: UserWarning: Clean and common part of 0x96f096c930fa7eea266b52a380f9b9c0 don't intersect, which is probably fine but check it!\n",
      "  warnings.warn(f\"Clean and common part of {f['uuid']} don't intersect, which is probably fine but check it!\")\n",
      "<ipython-input-38-29cd695e3a13>:36: UserWarning: Clean and common part of 0xa9cd8a79e73559afbba445f1caa5ea38 don't intersect, which is probably fine but check it!\n",
      "  warnings.warn(f\"Clean and common part of {f['uuid']} don't intersect, which is probably fine but check it!\")\n",
      "<ipython-input-38-29cd695e3a13>:36: UserWarning: Clean and common part of 0x544aa1d91a10c669e8fb2c9c39f2bfeb don't intersect, which is probably fine but check it!\n",
      "  warnings.warn(f\"Clean and common part of {f['uuid']} don't intersect, which is probably fine but check it!\")\n",
      "<ipython-input-38-29cd695e3a13>:36: UserWarning: Clean and common part of 0xd02b8bef62f54a039b7527b28e4d763b don't intersect, which is probably fine but check it!\n",
      "  warnings.warn(f\"Clean and common part of {f['uuid']} don't intersect, which is probably fine but check it!\")\n",
      "<ipython-input-38-29cd695e3a13>:36: UserWarning: Clean and common part of 0x21b37e631f54c4d88216e04bdc740dae don't intersect, which is probably fine but check it!\n",
      "  warnings.warn(f\"Clean and common part of {f['uuid']} don't intersect, which is probably fine but check it!\")\n",
      "<ipython-input-38-29cd695e3a13>:36: UserWarning: Clean and common part of 0xa1ff95c2f05e1c124c806c51f546fc27 don't intersect, which is probably fine but check it!\n",
      "  warnings.warn(f\"Clean and common part of {f['uuid']} don't intersect, which is probably fine but check it!\")\n",
      "<ipython-input-38-29cd695e3a13>:36: UserWarning: Clean and common part of 0xd488295da9ccef30c2d8c698e8e4842 don't intersect, which is probably fine but check it!\n",
      "  warnings.warn(f\"Clean and common part of {f['uuid']} don't intersect, which is probably fine but check it!\")\n",
      "<ipython-input-38-29cd695e3a13>:36: UserWarning: Clean and common part of 0x2011fff0e775fdf94e56682207983c78 don't intersect, which is probably fine but check it!\n",
      "  warnings.warn(f\"Clean and common part of {f['uuid']} don't intersect, which is probably fine but check it!\")\n",
      "<ipython-input-38-29cd695e3a13>:36: UserWarning: Clean and common part of 0x957c73cf1101320930da7d7ff3eeda44 don't intersect, which is probably fine but check it!\n",
      "  warnings.warn(f\"Clean and common part of {f['uuid']} don't intersect, which is probably fine but check it!\")\n",
      "<ipython-input-38-29cd695e3a13>:36: UserWarning: Clean and common part of 0x78eb5c76bdb4e83ebc426cfa251be0e8 don't intersect, which is probably fine but check it!\n",
      "  warnings.warn(f\"Clean and common part of {f['uuid']} don't intersect, which is probably fine but check it!\")\n",
      "<ipython-input-38-29cd695e3a13>:36: UserWarning: Clean and common part of 0xec6a91c355f8b24f6b30737760950160 don't intersect, which is probably fine but check it!\n",
      "  warnings.warn(f\"Clean and common part of {f['uuid']} don't intersect, which is probably fine but check it!\")\n",
      "<ipython-input-38-29cd695e3a13>:36: UserWarning: Clean and common part of 0x8df715879c868f41e10bea5bbc024d88 don't intersect, which is probably fine but check it!\n",
      "  warnings.warn(f\"Clean and common part of {f['uuid']} don't intersect, which is probably fine but check it!\")\n",
      "<ipython-input-38-29cd695e3a13>:36: UserWarning: Clean and common part of 0x4b3925068b7c2adf591cf4c23732a232 don't intersect, which is probably fine but check it!\n",
      "  warnings.warn(f\"Clean and common part of {f['uuid']} don't intersect, which is probably fine but check it!\")\n",
      "<ipython-input-38-29cd695e3a13>:36: UserWarning: Clean and common part of 0x5cbe1d6c81ec5478eecaf5f8aac30c5f don't intersect, which is probably fine but check it!\n",
      "  warnings.warn(f\"Clean and common part of {f['uuid']} don't intersect, which is probably fine but check it!\")\n",
      "<ipython-input-38-29cd695e3a13>:36: UserWarning: Clean and common part of 0x7a7e8b01977577a71ea8eefdcb9fc863 don't intersect, which is probably fine but check it!\n",
      "  warnings.warn(f\"Clean and common part of {f['uuid']} don't intersect, which is probably fine but check it!\")\n"
     ]
    },
    {
     "name": "stdout",
     "output_type": "stream",
     "text": [
      "\n",
      "Done\n"
     ]
    }
   ],
   "source": [
    "def compute_angle(g1, g2):\n",
    "    \"\"\"Computes the angle of two linear geometries at their common point\"\"\"\n",
    "    \n",
    "    # TODO: Fix this! A hack to set this as a \"bad\" line\n",
    "    # by setting the angle to 90 degrees\n",
    "    if g2.is_empty:\n",
    "        return 90\n",
    "    \n",
    "    # Compute the common point\n",
    "    p = g1.intersection(g2)\n",
    "    \n",
    "    if p.type != \"Point\":\n",
    "        # If this is a multipoint, then this is a part of this line. So, we set\n",
    "        # 180 to prioritise it\n",
    "        if p.type == \"MultiPoint\":\n",
    "            return 0\n",
    "        \n",
    "        raise TypeError(\"The two lines don't intersect at a point\")\n",
    "    \n",
    "    if g1.type == \"MultiLineString\":\n",
    "        g1 = linemerge(g1)\n",
    "    az1 = line_azimuth(g1, p == Point(g1.coords[0]), 1.0)\n",
    "    \n",
    "    if g2.type == \"MultiLineString\":\n",
    "        g2 = linemerge(g2)\n",
    "    az2 = line_azimuth(g2, p == Point(g2.coords[0]), 1.0)\n",
    "    \n",
    "    return abs(180 - abs(az2 - az1))\n",
    "\n",
    "def find_original_angle(f):\n",
    "    n = final_cways[final_cways[\"uuid\"] == f[\"uuid\"]].iloc[0]\n",
    "        \n",
    "    try:\n",
    "        angle = compute_angle(f[\"intersect\"], n[\"clean\"])\n",
    "    except Exception as e:\n",
    "        warnings.warn(f\"Clean and common part of {f['uuid']} don't intersect, which is probably fine but check it!\")\n",
    "        angle = 90\n",
    "    \n",
    "    return angle\n",
    "    \n",
    "common_edges[\"orig_angle\"] = common_edges.progress_apply(find_original_angle, axis=1)\n",
    "\n",
    "print(\"Done\")\n",
    "\n",
    "# find_original_angle(common_edges[common_edges[\"uuid\"] == \"0xcac226b5a25c1a85753e73ef01aee9a1\"].iloc[0])"
   ]
  },
  {
   "cell_type": "code",
   "execution_count": 39,
   "metadata": {},
   "outputs": [
    {
     "data": {
      "application/vnd.jupyter.widget-view+json": {
       "model_id": "2fd897ad1ba248b0b0d409ac98ab8a81",
       "version_major": 2,
       "version_minor": 0
      },
      "text/plain": [
       "HBox(children=(HTML(value=''), FloatProgress(value=0.0, max=12044.0), HTML(value='')))"
      ]
     },
     "metadata": {},
     "output_type": "display_data"
    },
    {
     "name": "stdout",
     "output_type": "stream",
     "text": [
      "\n"
     ]
    }
   ],
   "source": [
    "common_edges[\"wkt\"] = common_edges.progress_apply(lambda f: fix_precision(make_ccw(f[\"intersect\"])).wkt, axis=1)"
   ]
  },
  {
   "cell_type": "code",
   "execution_count": 40,
   "metadata": {},
   "outputs": [],
   "source": [
    "final_common_edges = common_edges.iloc[common_edges.groupby(\"wkt\")[\"orig_angle\"].idxmin()]\n",
    "\n",
    "final_common_edges.to_file('{}/output.gpkg'.format(output_folder), layer=\"Final common edges\", driver=\"GPKG\")"
   ]
  },
  {
   "cell_type": "markdown",
   "metadata": {},
   "source": [
    "# Merge all things together"
   ]
  },
  {
   "cell_type": "code",
   "execution_count": 41,
   "metadata": {},
   "outputs": [],
   "source": [
    "final_common_edges = final_common_edges.rename_geometry(\"clean\")\n",
    "\n",
    "all_cways = geopandas.GeoDataFrame(pd.concat([final_cways, final_common_edges]), geometry=\"clean\", crs=epsg_str)\n",
    "\n",
    "all_cways.drop(['axis_geom', 'geometry_right', 'geom', 'trimmed', 'extended', 'snapped', 'wkt'], axis=1, inplace=True)\n",
    "\n",
    "all_cways.reset_index(drop=True, inplace=True)"
   ]
  },
  {
   "cell_type": "code",
   "execution_count": 42,
   "metadata": {},
   "outputs": [],
   "source": [
    "def clean_line(f):\n",
    "    geom = f[\"clean\"]\n",
    "    \n",
    "    if not geom.is_empty:\n",
    "        if geom.type == \"MultiLineString\":\n",
    "            return True\n",
    "\n",
    "        if geom.type == \"LineString\":\n",
    "            return True\n",
    "    \n",
    "    return False\n",
    "\n",
    "all_cways = all_cways[all_cways.apply(clean_line, axis=1)]\n",
    "\n",
    "all_cways = all_cways.explode()"
   ]
  },
  {
   "cell_type": "code",
   "execution_count": 43,
   "metadata": {},
   "outputs": [],
   "source": [
    "all_cways['cway_uuid'] = all_cways.apply(create_uuid, axis=1)\n",
    "\n",
    "all_cways.to_file('{}/output.gpkg'.format(output_folder), layer=\"Carriageways\", driver=\"GPKG\")"
   ]
  },
  {
   "cell_type": "markdown",
   "metadata": {},
   "source": [
    "# Rebuild the network\n",
    "\n",
    "This is going to rebuild the network by creating new U and V nodes:"
   ]
  },
  {
   "cell_type": "code",
   "execution_count": 65,
   "metadata": {},
   "outputs": [
    {
     "data": {
      "application/vnd.jupyter.widget-view+json": {
       "model_id": "40556a06889c4f5f96edfafac5fa02ef",
       "version_major": 2,
       "version_minor": 0
      },
      "text/plain": [
       "HBox(children=(HTML(value=''), FloatProgress(value=0.0, max=125614.0), HTML(value='')))"
      ]
     },
     "metadata": {},
     "output_type": "display_data"
    },
    {
     "name": "stdout",
     "output_type": "stream",
     "text": [
      "\n"
     ]
    }
   ],
   "source": [
    "def get_lexicographic_boundaries(f):\n",
    "    round_geom = fix_precision(f['clean'])\n",
    "    \n",
    "    try:\n",
    "        return [str(round_geom.coords[0]), str(round_geom.coords[-1])]\n",
    "    except Exception as e:\n",
    "        print(f['uuid'])\n",
    "        raise e\n",
    "\n",
    "tmp = all_cways.progress_apply(get_lexicographic_boundaries, axis=1)\n",
    "all_cways['u_node'] = [a[0] for a in tmp]\n",
    "all_cways['v_node'] = [a[1] for a in tmp]\n",
    "\n",
    "# get_lexicographic_boundaries(all_cways.iloc[0])"
   ]
  },
  {
   "cell_type": "code",
   "execution_count": 125,
   "metadata": {},
   "outputs": [
    {
     "data": {
      "text/plain": [
       "100111"
      ]
     },
     "execution_count": 125,
     "metadata": {},
     "output_type": "execute_result"
    }
   ],
   "source": [
    "nodes = set(list(pd.unique(all_cways['u_node'])) + list(pd.unique(all_cways['v_node'])))\n",
    "\n",
    "node_map = {}\n",
    "for uuid, n in enumerate(nodes):\n",
    "    node_map[n] = uuid\n",
    "\n",
    "len(node_map)"
   ]
  },
  {
   "cell_type": "code",
   "execution_count": 126,
   "metadata": {},
   "outputs": [
    {
     "data": {
      "application/vnd.jupyter.widget-view+json": {
       "model_id": "8983b565c4f84cd3a50a2f48301f373a",
       "version_major": 2,
       "version_minor": 0
      },
      "text/plain": [
       "HBox(children=(HTML(value=''), FloatProgress(value=0.0, max=125614.0), HTML(value='')))"
      ]
     },
     "metadata": {},
     "output_type": "display_data"
    },
    {
     "name": "stdout",
     "output_type": "stream",
     "text": [
      "\n"
     ]
    }
   ],
   "source": [
    "def get_node_uuid(f):\n",
    "    return [node_map[f['u_node']], node_map[f['v_node']]]\n",
    "\n",
    "tmp = all_cways.progress_apply(get_node_uuid, axis=1)\n",
    "all_cways['u'] = [a[0] for a in tmp]\n",
    "all_cways['v'] = [a[1] for a in tmp]"
   ]
  },
  {
   "cell_type": "code",
   "execution_count": 127,
   "metadata": {},
   "outputs": [
    {
     "data": {
      "application/vnd.jupyter.widget-view+json": {
       "model_id": "82617367708b46db82878580da31057e",
       "version_major": 2,
       "version_minor": 0
      },
      "text/plain": [
       "HBox(children=(HTML(value=''), FloatProgress(value=0.0, max=100111.0), HTML(value='')))"
      ]
     },
     "metadata": {},
     "output_type": "display_data"
    },
    {
     "name": "stdout",
     "output_type": "stream",
     "text": [
      "\n"
     ]
    }
   ],
   "source": [
    "tab = { \"osmid\": [], \"geometry\": [] }\n",
    "for g in tqdm(node_map):\n",
    "    tab[\"osmid\"].append(node_map[g])\n",
    "    tab[\"geometry\"].append(shapely.wkt.loads(\"POINT{}\".format(g.replace(\",\", \"\"))))\n",
    "\n",
    "cway_nodes = geopandas.GeoDataFrame(tab, geometry=\"geometry\", crs=epsg_str)"
   ]
  },
  {
   "cell_type": "code",
   "execution_count": 130,
   "metadata": {},
   "outputs": [
    {
     "data": {
      "application/vnd.jupyter.widget-view+json": {
       "model_id": "70e52a9fd4ce4d7697fc3c3bb7b6b73a",
       "version_major": 2,
       "version_minor": 0
      },
      "text/plain": [
       "HBox(children=(HTML(value=''), FloatProgress(value=0.0, max=125614.0), HTML(value='')))"
      ]
     },
     "metadata": {},
     "output_type": "display_data"
    },
    {
     "name": "stdout",
     "output_type": "stream",
     "text": [
      "\n"
     ]
    }
   ],
   "source": [
    "all_cways[\"geometry\"] = all_cways.progress_apply(lambda f: fix_precision(f[\"clean\"]), axis=1)\n",
    "\n",
    "final_network = ox.graph_from_gdfs(cway_nodes, all_cways)\n",
    "\n",
    "print(\"Connected components after filtering: {}\".format(nx.number_weakly_connected_components(final_network)))"
   ]
  },
  {
   "cell_type": "markdown",
   "metadata": {},
   "source": [
    "# What's the status of the network?"
   ]
  },
  {
   "cell_type": "code",
   "execution_count": 111,
   "metadata": {},
   "outputs": [
    {
     "name": "stdout",
     "output_type": "stream",
     "text": [
      "Connected components after filtering: 94\n"
     ]
    }
   ],
   "source": [
    "final_edges = geopandas.GeoDataFrame(carriageways.drop(['axis_geom', 'geometry_right', 'geom', 'trimmed', 'extended'], 1), geometry='snapped', crs='EPSG:28992')\n",
    "final_edges.rename_geometry('geometry', inplace=True)\n",
    "\n",
    "final_network = ox.graph_from_gdfs(road_nodes, final_edges)\n",
    "\n",
    "print(\"Connected components after filtering: {}\".format(nx.number_weakly_connected_components(final_network)))"
   ]
  },
  {
   "cell_type": "markdown",
   "metadata": {},
   "source": [
    "# Metadata (yay)"
   ]
  },
  {
   "cell_type": "code",
   "execution_count": 45,
   "metadata": {},
   "outputs": [
    {
     "ename": "NameError",
     "evalue": "name 'carriageways_final' is not defined",
     "output_type": "error",
     "traceback": [
      "\u001b[0;31m---------------------------------------------------------------------------\u001b[0m",
      "\u001b[0;31mNameError\u001b[0m                                 Traceback (most recent call last)",
      "\u001b[0;32m<ipython-input-45-bbc4f973d7d2>\u001b[0m in \u001b[0;36m<module>\u001b[0;34m\u001b[0m\n\u001b[1;32m      3\u001b[0m \u001b[0;32mfrom\u001b[0m \u001b[0mpathlib\u001b[0m \u001b[0;32mimport\u001b[0m \u001b[0mPurePath\u001b[0m\u001b[0;34m\u001b[0m\u001b[0;34m\u001b[0m\u001b[0m\n\u001b[1;32m      4\u001b[0m \u001b[0;34m\u001b[0m\u001b[0m\n\u001b[0;32m----> 5\u001b[0;31m \u001b[0mcways_bbox\u001b[0m \u001b[0;34m=\u001b[0m \u001b[0mcarriageways_final\u001b[0m\u001b[0;34m.\u001b[0m\u001b[0mtotal_bounds\u001b[0m\u001b[0;34m\u001b[0m\u001b[0;34m\u001b[0m\u001b[0m\n\u001b[0m\u001b[1;32m      6\u001b[0m \u001b[0minitial_bbox\u001b[0m \u001b[0;34m=\u001b[0m \u001b[0minit_ways\u001b[0m\u001b[0;34m.\u001b[0m\u001b[0mtotal_bounds\u001b[0m\u001b[0;34m\u001b[0m\u001b[0;34m\u001b[0m\u001b[0m\n\u001b[1;32m      7\u001b[0m \u001b[0;34m\u001b[0m\u001b[0m\n",
      "\u001b[0;31mNameError\u001b[0m: name 'carriageways_final' is not defined"
     ]
    }
   ],
   "source": [
    "import json\n",
    "from datetime import date\n",
    "from pathlib import PurePath\n",
    "\n",
    "cways_bbox = carriageways_final.total_bounds\n",
    "initial_bbox = init_ways.total_bounds\n",
    "\n",
    "gpkg_metadata = {\n",
    "   \"datasetTitle\": f\"{location_name} Roads multi-LoD\",\n",
    "   \"datasetReferenceDate\": f\"{date.today()}\",\n",
    "   \"datasetLanguage\": \"English\",\n",
    "   \"datasetCharacterSet\": \"UTF-8\",\n",
    "   \"datasetTopicCategory\":\" geoscientificInformation\",\n",
    "   \"distributionFormatVersion\": \"1.2.1\",\n",
    "   \"referenceSystem\": f\"urn:ogc:def:crs:EPSG::{epsg}\",\n",
    "   \"spatialRepresentationType\": \"vector\",\n",
    "   \"onlineResource\": \"https://github.com/liberostelios/roads_generator\",\n",
    "   \"fileIdentifier\": \"output.gpkg\",\n",
    "   \"metadataStandard\": \"ISO 19115 - Geographic Information -Metadata\",\n",
    "   \"metadataStandardVersion\": \"ISO 19115:2014(E)\",\n",
    "   \"metadataLanguage\": \"English\",\n",
    "   \"metadataCharacterSet\": \"UTF-8\",\n",
    "   \"metadataDateStamp\": f\"{date.today()}\",\n",
    "   \"lineage\":[\n",
    "      {\n",
    "         \"thematicModels\":[\n",
    "            \"Transportation\"\n",
    "         ],\n",
    "         \"source\":[\n",
    "             {\n",
    "            \"description\": f\"{PurePath(roads_file).name}\",\n",
    "            \"sourceReferenceSystem\": f\"urn:ogc:def:crs:EPSG::{epsg}\"\n",
    "         },\n",
    "         {\n",
    "            \"description\": \"OpenStreetMap\",\n",
    "            \"sourceReferenceSystem\": f\"urn:ogc:def:crs:EPSG::{nodes.crs}\"\n",
    "         }\n",
    "        ],\n",
    "         \"processStep\":{\n",
    "            \"description\": f\"Procedurally generated carriageway representation from OpenStreetMap centrelines. Carriageways we determined by a road width calculation with the {PurePath(roads_file).name}.\",\n",
    "            \"processor\":{\n",
    "               \"contactName\":\"3D Geoinformation Group\",\n",
    "               \"address\":\"Delft University of Technology, the Netherlands\",\n",
    "               \"emailAddress\":\"3d.bk@tudelft.nl\",\n",
    "               \"contactType\":\"organization\",\n",
    "               \"website\":\"https://3d.bk.tudelft.nl\"\n",
    "            }\n",
    "         }\n",
    "      }\n",
    "   ],\n",
    "   \"geographicalExtent\":[\n",
    "        cways_bbox[0],\n",
    "        cways_bbox[2],\n",
    "        0,\n",
    "        cways_bbox[1],\n",
    "        cways_bbox[3],\n",
    "        0\n",
    "   ],\n",
    "   \"abstract\":\"Road carriageway represention generated procedurally\",\n",
    "   \"keywords\":[\n",
    "      \"roads\",\n",
    "      \"carriageways\"\n",
    "   ],\n",
    "   \"thematicModels\":[\"Transportation\"],\n",
    "   \"presentLoDs\":{\n",
    "       \"0.1\": len(roads_init),\n",
    "       \"0.2\": len(carriageways_final)\n",
    "   },\n",
    "   \"cityfeatureMetadata\":{\n",
    "      \"Road\":{\n",
    "         \"uniqueFeatureCount\": len(roads_init),\n",
    "         \"aggregateFeatureCount\": len(roads_init) + len(carriageways_final),\n",
    "         \"presentLoDs\":{\n",
    "             \"0.1\": len(roads_init),\n",
    "             \"0.2\": len(carriageways_final)\n",
    "         }\n",
    "      }\n",
    "   }\n",
    "}\n",
    "\n",
    "lod01_metadata = {\n",
    "    \"datasetTitle\": f\"{location_name} Road Centrelines\",\n",
    "    \"datasetReferenceDate\": f\"{date.today()}\",\n",
    "    \"datasetLanguage\": \"English\",\n",
    "    \"datasetCharacterSet\": \"UTF-8\",\n",
    "    \"datasetTopicCategory\":\" geoscientificInformation\",\n",
    "    \"distributionFormatVersion\": \"1.2.1\",\n",
    "    \"referenceSystem\": f\"urn:ogc:def:crs:EPSG::{epsg}\",\n",
    "    \"spatialRepresentationType\": \"vector\",\n",
    "    \"onlineResource\": \"https://github.com/liberostelios/roads_generator\",\n",
    "    \"fileIdentifier\": \"output.gpkg\",\n",
    "    \"metadataStandard\": \"ISO 19115 - Geographic Information -Metadata\",\n",
    "    \"metadataStandardVersion\": \"ISO 19115:2014(E)\",\n",
    "    \"metadataLanguage\": \"English\",\n",
    "    \"metadataCharacterSet\": \"UTF-8\",\n",
    "    \"metadataDateStamp\": f\"{date.today()}\",\n",
    "    \"lineage\": [\n",
    "        {\n",
    "            \"thematicModels\": [\"Transportation\"],\n",
    "            \"source\": [\n",
    "                {\n",
    "                    \"description\": f\"{PurePath(roads_file).name}\",\n",
    "                    \"sourceReferenceSystem\": f\"urn:ogc:def:crs:EPSG::{epsg}\"\n",
    "                },\n",
    "                {\n",
    "                    \"description\": \"OpenStreetMap\",\n",
    "                    \"sourceReferenceSystem\": f\"urn:ogc:def:crs:EPSG::{nodes.crs}\"\n",
    "                }\n",
    "        ],\n",
    "        \"processStep\":{\n",
    "            \"description\": f\"Loaded and cleaned OSM data based on the extent of {PurePath(roads_file).name}.\",\n",
    "            \"processor\":{\n",
    "               \"contactName\":\"3D Geoinformation Group\",\n",
    "               \"address\":\"Delft University of Technology, the Netherlands\",\n",
    "               \"emailAddress\":\"3d.bk@tudelft.nl\",\n",
    "               \"contactType\":\"organization\",\n",
    "               \"website\":\"https://3d.bk.tudelft.nl\"\n",
    "            }\n",
    "         }\n",
    "    }\n",
    "   ],\n",
    "   \"geographicalExtent\":[\n",
    "        initial_bbox[0],\n",
    "        initial_bbox[2],\n",
    "        0,\n",
    "        initial_bbox[1],\n",
    "        initial_bbox[3],\n",
    "        0\n",
    "   ],\n",
    "   \"abstract\": f\"OSM roads based on {PurePath(roads_file).name} extent\",\n",
    "   \"keywords\":[\n",
    "      \"roads\",\n",
    "      \"OSM\"\n",
    "   ],\n",
    "   \"thematicModels\": [\"Transportation\"],\n",
    "   \"presentLoDs\":{\n",
    "       \"0.1\": len(roads_init),\n",
    "   },\n",
    "   \"cityfeatureMetadata\":{\n",
    "      \"Road\":{\n",
    "         \"uniqueFeatureCount\": len(roads_init),\n",
    "         \"aggregateFeatureCount\": len(roads_init),\n",
    "         \"presentLoDs\":{\n",
    "             \"0.1\": len(roads_init),\n",
    "         }\n",
    "      }\n",
    "   }\n",
    "}\n",
    "\n",
    "lod02_metadata = {\n",
    "    \"datasetTitle\": f\"{location_name} Road Carriageways\",\n",
    "    \"datasetReferenceDate\": f\"{date.today()}\",\n",
    "    \"datasetLanguage\": \"English\",\n",
    "    \"datasetCharacterSet\": \"UTF-8\",\n",
    "    \"datasetTopicCategory\":\" geoscientificInformation\",\n",
    "    \"distributionFormatVersion\": \"1.2.1\",\n",
    "    \"referenceSystem\": f\"urn:ogc:def:crs:EPSG::{epsg}\",\n",
    "    \"spatialRepresentationType\": \"vector\",\n",
    "    \"onlineResource\": \"https://github.com/liberostelios/roads_generator\",\n",
    "    \"fileIdentifier\": \"output.gpkg\",\n",
    "    \"metadataStandard\": \"ISO 19115 - Geographic Information -Metadata\",\n",
    "    \"metadataStandardVersion\": \"ISO 19115:2014(E)\",\n",
    "    \"metadataLanguage\": \"English\",\n",
    "    \"metadataCharacterSet\": \"UTF-8\",\n",
    "    \"metadataDateStamp\": f\"{date.today()}\",\n",
    "    \"lineage\": [\n",
    "        {\n",
    "            \"thematicModels\": [\"Transportation\"],\n",
    "            \"source\": [\n",
    "                {\n",
    "                    \"description\": f\"{PurePath(roads_file).name}\",\n",
    "                    \"sourceReferenceSystem\": f\"urn:ogc:def:crs:EPSG::{epsg}\"\n",
    "                },\n",
    "                {\n",
    "                    \"description\": \"OpenStreetMap\",\n",
    "                    \"sourceReferenceSystem\": f\"urn:ogc:def:crs:EPSG::{nodes.crs}\"\n",
    "                }\n",
    "        ],\n",
    "        \"processStep\":{\n",
    "            \"description\": f\"Procedurally generated carriageway representation from OpenStreetMap centrelines. Carriageways we determined by a road width calculation with the {PurePath(roads_file).name}.\",\n",
    "            \"processor\":{\n",
    "               \"contactName\":\"3D Geoinformation Group\",\n",
    "               \"address\":\"Delft University of Technology, the Netherlands\",\n",
    "               \"emailAddress\":\"3d.bk@tudelft.nl\",\n",
    "               \"contactType\":\"organization\",\n",
    "               \"website\":\"https://3d.bk.tudelft.nl\"\n",
    "            }\n",
    "         }\n",
    "    }\n",
    "    ],\n",
    "    \"geographicalExtent\":[\n",
    "        cways_bbox[0],\n",
    "        cways_bbox[2],\n",
    "        0,\n",
    "        cways_bbox[1],\n",
    "        cways_bbox[3],\n",
    "        0\n",
    "    ],\n",
    "    \"abstract\": \"Road carriageway represention generated procedurally\",\n",
    "    \"keywords\":[\n",
    "        \"roads\",\n",
    "        \"carriageways\",\n",
    "        \"OSM\"\n",
    "    ],\n",
    "    \"thematicModels\": [\"Transportation\"],\n",
    "    \"presentLoDs\":{\n",
    "       \"0.2\": len(carriageways_final),\n",
    "    },\n",
    "    \"cityfeatureMetadata\":{\n",
    "        \"Road\":{\n",
    "            \"uniqueFeatureCount\": len(carriageways_final),\n",
    "            \"aggregateFeatureCount\": len(carriageways_final),\n",
    "            \"presentLoDs\":{\n",
    "                \"0.2\": len(carriageways_final),\n",
    "            }\n",
    "        }\n",
    "    }\n",
    "}"
   ]
  },
  {
   "cell_type": "code",
   "execution_count": null,
   "metadata": {},
   "outputs": [],
   "source": [
    "import sqlite3\n",
    "conn = sqlite3.connect('{}/output.gpkg'.format(output_folder))\n",
    "from datetime import datetime\n",
    "\n",
    "c = conn.cursor()\n",
    "\n",
    "# Create metadata tables\n",
    "try:\n",
    "    c.execute('''CREATE TABLE gpkg_metadata (\n",
    "        id INTEGER NOT NULL PRIMARY KEY,\n",
    "        md_scope TEXT NOT NULL DEFAULT 'undefined',\n",
    "        md_standard_uri TEXT NOT NULL,\n",
    "        mime_type TEXT NOT NULL,\n",
    "        metadata TEXT NOT NULL\n",
    "    )''')\n",
    "except:\n",
    "    print(\"'gpkg_metadata' table exists. Moving on...\")\n",
    "\n",
    "try:\n",
    "    c.execute('''CREATE TABLE gpkg_metadata_reference (\n",
    "        reference_scope TEXT NOT NULL,\n",
    "        table_name TEXT,\n",
    "        column_name TEXT,\n",
    "        row_id_value INTEGER,\n",
    "        timestamp TEXT NOT NULL DEFAULT (strftime('%Y-%m-%dT%H:%M:%fZ','now')),\n",
    "        md_file_id INTEGER NOT NULL,\n",
    "        md_parent_id INTEGER,\n",
    "        CONSTRAINT crmr_mfi_fk FOREIGN KEY (md_file_id) REFERENCES gpkg_metadata(id),\n",
    "        CONSTRAINT crmr_mpi_fk FOREIGN KEY (md_parent_id) REFERENCES gpkg_metadata(id)\n",
    "    )''')\n",
    "except:\n",
    "    print(\"'gpkg_metadata_reference' table exists. Moving on...\")\n",
    "\n",
    "try:\n",
    "    c.execute(f'''INSERT INTO gpkg_metadata VALUES (\n",
    "        0,\n",
    "        '006',\n",
    "        'https://3d.bk.tudelft.nl/schemas/cityjson/1.0.1/metadata.schema.json',\n",
    "        'application/json',\n",
    "        '{ json.dumps(json.dumps(gpkg_metadata)) }'\n",
    "        )\n",
    "    ''')\n",
    "except sqlite3.IntegrityError:\n",
    "    c.execute(f'''\n",
    "        UPDATE gpkg_metadata\n",
    "        SET metadata = '{ json.dumps(json.dumps(gpkg_metadata)) }'\n",
    "        WHERE id = 0\n",
    "    ''')\n",
    "    \n",
    "c.execute(\"DELETE FROM gpkg_metadata_reference WHERE table_name = 'Road Centerlines'\")\n",
    "c.execute(\"DELETE FROM gpkg_metadata_reference WHERE table_name = 'Carriageways'\")\n",
    "\n",
    "c.execute(f'''INSERT INTO gpkg_metadata_reference VALUES (\n",
    "    'table',\n",
    "    'Road Centerlines',\n",
    "    'undefined',\n",
    "    -1,\n",
    "    '{ datetime.now() }',\n",
    "    0,\n",
    "    null\n",
    ")\n",
    "''')\n",
    "\n",
    "c.execute(f'''INSERT INTO gpkg_metadata_reference VALUES (\n",
    "    'table',\n",
    "    'Carriageways',\n",
    "    'undefined',\n",
    "    -1,\n",
    "    '{ datetime.now() }',\n",
    "    0,\n",
    "    null\n",
    ")\n",
    "''')\n",
    "\n",
    "try:\n",
    "    c.execute(f'''INSERT INTO gpkg_metadata VALUES (\n",
    "        1,\n",
    "        '005',\n",
    "        'https://3d.bk.tudelft.nl/schemas/cityjson/1.0.1/metadata.schema.json',\n",
    "        'application/json',\n",
    "        '{ json.dumps(json.dumps(lod01_metadata)) }'\n",
    "        )\n",
    "    ''')\n",
    "except sqlite3.IntegrityError:\n",
    "    c.execute(f'''\n",
    "        UPDATE gpkg_metadata\n",
    "        SET metadata = '{ json.dumps(json.dumps(lod01_metadata)) }'\n",
    "        WHERE id = 1\n",
    "    ''')\n",
    "\n",
    "c.execute(f'''INSERT INTO gpkg_metadata_reference VALUES (\n",
    "    'table',\n",
    "    'Road Centerlines',\n",
    "    'undefined',\n",
    "    -1,\n",
    "    '{ datetime.now() }',\n",
    "    1,\n",
    "    0\n",
    ")\n",
    "''')\n",
    "\n",
    "try:\n",
    "    c.execute(f'''INSERT INTO gpkg_metadata VALUES (\n",
    "        2,\n",
    "        '005',\n",
    "        'https://3d.bk.tudelft.nl/schemas/cityjson/1.0.1/metadata.schema.json',\n",
    "        'application/json',\n",
    "        '{ json.dumps(json.dumps(lod02_metadata)) }'\n",
    "        )\n",
    "    ''')\n",
    "except sqlite3.IntegrityError:\n",
    "    c.execute(f'''\n",
    "        UPDATE gpkg_metadata\n",
    "        SET metadata = '{ json.dumps(json.dumps(lod02_metadata)) }'\n",
    "        WHERE id = 1\n",
    "    ''')\n",
    "\n",
    "c.execute(f'''INSERT INTO gpkg_metadata_reference VALUES (\n",
    "    'table',\n",
    "    'Carriageways',\n",
    "    'undefined',\n",
    "    -1,\n",
    "    '{ datetime.now() }',\n",
    "    2,\n",
    "    0\n",
    ")\n",
    "''')\n",
    "\n",
    "conn.commit()\n",
    "\n",
    "print(\"Done!\")"
   ]
  },
  {
   "cell_type": "markdown",
   "metadata": {},
   "source": [
    "# Introduce flyovers\n",
    "\n",
    "- What about the width calculation of flyovers? Is there an attribute in BGT about it? Can we compute the width by \"isolating\" the network and flyover polygon?"
   ]
  },
  {
   "cell_type": "markdown",
   "metadata": {},
   "source": [
    "# Validation and evaluation\n",
    "\n",
    "- Make sure we don't have those pedestrian area that are actually roads, but they are inconveniently classified in BGT as `voetpad`.\n",
    "- We need to rectify our conditions for outliers regarding our decision of carriageway number from width.\n",
    "- **INVESTIGATION REQUIRED**: If <1m segment is dual carriageway and neighbouring to both a single and a dual carriageway then we should make sure the methodology works.\n",
    "- Ensure completeless of network (run a simple routing problem)\n",
    "- Compute decorations like traffic lights\n",
    "- Potentionally compute more interesting algorithms, e.g. what the best route about de-icing given the width of street (exploiting the semantic surfaces here)."
   ]
  }
 ],
 "metadata": {
  "kernelspec": {
   "display_name": "Python 3",
   "language": "python",
   "name": "python3"
  },
  "language_info": {
   "codemirror_mode": {
    "name": "ipython",
    "version": 3
   },
   "file_extension": ".py",
   "mimetype": "text/x-python",
   "name": "python",
   "nbconvert_exporter": "python",
   "pygments_lexer": "ipython3",
   "version": "3.8.5"
  }
 },
 "nbformat": 4,
 "nbformat_minor": 2
}
