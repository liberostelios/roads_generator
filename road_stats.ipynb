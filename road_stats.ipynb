{
 "cells": [
  {
   "cell_type": "code",
   "execution_count": 1,
   "id": "official-fleece",
   "metadata": {},
   "outputs": [],
   "source": [
    "areal_file = 'data/poznanMPtoP.gpkg'\n",
    "initial_network_file = 'data/filtered_network.gpkg'\n",
    "output_file = 'data/output.gpkg'\n",
    "epsg = 32618"
   ]
  },
  {
   "cell_type": "code",
   "execution_count": 2,
   "id": "realistic-sheep",
   "metadata": {},
   "outputs": [],
   "source": [
    "import geopandas\n",
    "import osmnx as ox\n",
    "import networkx as nx\n",
    "import shapely"
   ]
  },
  {
   "cell_type": "code",
   "execution_count": 18,
   "id": "increased-restoration",
   "metadata": {},
   "outputs": [],
   "source": [
    "areal_roads = geopandas.read_file(areal_file)\n",
    "\n",
    "filtered_edges = geopandas.read_file(initial_network_file, layer=\"edges\")\n",
    "filtered_nodes = geopandas.read_file(initial_network_file, layer=\"nodes\")"
   ]
  },
  {
   "cell_type": "code",
   "execution_count": 10,
   "id": "violent-commodity",
   "metadata": {},
   "outputs": [],
   "source": [
    "collection = shapely.geometry.GeometryCollection(list(areal_roads[\"geometry\"]))\n",
    "area_polygon = collection.convex_hull"
   ]
  },
  {
   "cell_type": "code",
   "execution_count": 22,
   "id": "acting-klein",
   "metadata": {},
   "outputs": [],
   "source": [
    "filtered_network = ox.graph_from_gdfs(filtered_nodes, filtered_edges.set_index(['u', 'v', 'key']))"
   ]
  },
  {
   "cell_type": "code",
   "execution_count": 24,
   "id": "reduced-intervention",
   "metadata": {},
   "outputs": [
    {
     "output_type": "execute_result",
     "data": {
      "text/plain": [
       "104"
      ]
     },
     "metadata": {},
     "execution_count": 24
    }
   ],
   "source": [
    "nx.number_weakly_connected_components(filtered_network)"
   ]
  },
  {
   "cell_type": "code",
   "execution_count": 28,
   "id": "secret-enemy",
   "metadata": {},
   "outputs": [
    {
     "output_type": "execute_result",
     "data": {
      "text/plain": [
       "{'convex_hull_area': 426737497.4819759,\n",
       " 'number_of_polygons': 14091,\n",
       " 'number_of_centerlines': 66623,\n",
       " 'polygon_to_centerlines_ratio': 0.211503534815304,\n",
       " 'polygon_area_mean': 1341.7538504446197,\n",
       " 'polygon_area_std': 6002.003031970536,\n",
       " 'polygon_area_median': 415.4257965442321,\n",
       " 'polygon_area_total': 18906653.506615136,\n",
       " 'centerlines_length_mean': 52.242812036306916,\n",
       " 'centerlines_length_std': 79.715405711581,\n",
       " 'centerlines_length_median': 26.97470518639675,\n",
       " 'centerlines_length_total': 3480572.8662948757,\n",
       " 'centerlines_density': 0.008156238640458082}"
      ]
     },
     "metadata": {},
     "execution_count": 28
    }
   ],
   "source": [
    "stats = {}\n",
    "\n",
    "# Area of convex hull\n",
    "stats[\"convex_hull_area\"] = area_polygon.area\n",
    "\n",
    "# Number of polygons\n",
    "stats[\"number_of_polygons\"] = len(areal_roads)\n",
    "\n",
    "# Number of LoD1 edges (filtered)\n",
    "stats[\"number_of_centerlines\"] = len(filtered_edges)\n",
    "\n",
    "# Directionality of LoD1 edges (with graph)\n",
    "# TODO\n",
    "\n",
    "# Polygon to LoD1 edge ratio\n",
    "stats[\"polygon_to_centerlines_ratio\"] = stats[\"number_of_polygons\"] / stats[\"number_of_centerlines\"]\n",
    "\n",
    "# Polygon area mean + std + median\n",
    "stats[\"polygon_area_mean\"] = areal_roads.apply(lambda f: f[\"geometry\"].area, axis=1).mean()\n",
    "stats[\"polygon_area_std\"] = areal_roads.apply(lambda f: f[\"geometry\"].area, axis=1).std()\n",
    "stats[\"polygon_area_median\"] = areal_roads.apply(lambda f: f[\"geometry\"].area, axis=1).median()\n",
    "\n",
    "# Polygon total area\n",
    "stats[\"polygon_area_total\"] = areal_roads.apply(lambda f: f[\"geometry\"].area, axis=1).sum()\n",
    "\n",
    "# LoD1 edge length mean + std + median\n",
    "stats[\"centerlines_length_mean\"] = filtered_edges.apply(lambda f: f[\"geometry\"].length, axis=1).mean()\n",
    "stats[\"centerlines_length_std\"] = filtered_edges.apply(lambda f: f[\"geometry\"].length, axis=1).std()\n",
    "stats[\"centerlines_length_median\"] = filtered_edges.apply(lambda f: f[\"geometry\"].length, axis=1).median()\n",
    "\n",
    "# LoD1 edge total length\n",
    "stats[\"centerlines_length_total\"] = filtered_edges.apply(lambda f: f[\"geometry\"].length, axis=1).sum()\n",
    "\n",
    "# LoD1 edge density (total edge length/area)\n",
    "stats[\"centerlines_density\"] = stats[\"centerlines_length_total\"] / stats[\"convex_hull_area\"]\n",
    "\n",
    "# Area to LoD1 length ratio\n",
    "stats[\"area_to_centerlines_length\"] = stats[\"polygon_area_total\"] / stats[\"centerlines_length_total\"]\n",
    "\n",
    "# Percentage overlap between linear and areal\n",
    "\n",
    "# Road width mean + std + median\n",
    "# Number of dual carriageways + proportion of all roads\n",
    "# Number of LoD2 edges + percentage increase from OSM\n",
    "# LoD2 edges length mean + std + median\n",
    "# LoD2 edge total length\n",
    "# LoD2 edge density (total edge length/area)\n",
    "# Change in length between LoD1 and LoD2\n",
    "\n",
    "# Number of intersections \n",
    "# Intersection Density\n",
    "# Number of edges per node average + std + median + mode\n",
    "# Number of 4 dual carriageways\n",
    "# Number of 3 duals + 1 single\n",
    "# Number of 3 duals\n",
    "# Number of 1 dual + 2 singles\n",
    "# Number of 2 duals + 1 single\n",
    "# Number of dead ends LoD1 + proportion of all nodes\n",
    "# Number of dead ends LoD2 + percentage increase + proportion of all nodes\n",
    "\n",
    "# LoD1 connected components\n",
    "# Percentage of edges in largest CC\n",
    "# LoD2 CC\n",
    "# Percent of edges in largest CC\n",
    "\n",
    "# Find false dead-ends\n",
    "\n",
    "stats"
   ]
  },
  {
   "cell_type": "code",
   "execution_count": 24,
   "id": "laughing-salem",
   "metadata": {},
   "outputs": [
    {
     "data": {
      "text/plain": [
       "66623"
      ]
     },
     "execution_count": 24,
     "metadata": {},
     "output_type": "execute_result"
    }
   ],
   "source": [
    "\n",
    "# Original dataset stats\n",
    "stats[\"initial_edges_count\"] = len(osm_edges)\n",
    "\n",
    "# Filtered network stats\n",
    "stats[\"filtered_edges_count\"] = len(road_edges)\n",
    "stats[\"filtered_nodes_count\"] = len(road_nodes)\n",
    "stats[\"filtered_connected_components_count\"] = nx.number_weakly_connected_components(filtered_network)\n",
    "stats[\"filtered_length_mean\"] = road_edges[\"length\"].mean()\n",
    "stats[\"filtered_length_std\"] = road_edges[\"length\"].std()\n",
    "\n",
    "# Areal stats\n",
    "stats[\"areal_poly_count\"] = len(aerial_roads)\n",
    "stats[\"areal_poly_area_mean\"] = aerial_roads.apply(lambda f: f[\"geometry\"].area, axis=1).mean()\n",
    "stats[\"areal_poly_area_std\"] = aerial_roads.apply(lambda f: f[\"geometry\"].area, axis=1).std()\n",
    "stats[\"areal_poly_perimeter_mean\"] = aerial_roads.apply(lambda f: f[\"geometry\"].length, axis=1).mean()\n",
    "stats[\"areal_poly_perimeter_std\"] = aerial_roads.apply(lambda f: f[\"geometry\"].length, axis=1).std()\n",
    "\n",
    "# Width stats\n",
    "stats[\"oper_breedte_mean\"] = roads_init[\"oper_breedte\"].mean()\n",
    "stats[\"oper_breedte_std\"] = roads_init[\"oper_breedte\"].std()\n",
    "\n",
    "# Process stats\n",
    "stats[\"dual_roads_count\"] = len(roads_init[roads_init.apply(is_dual, axis=1)])\n",
    "\n",
    "# Final cways network stats\n",
    "stats[\"cways_edges_count\"] = len(all_cways)\n",
    "stats[\"cways_nodes_count\"] = len(cway_nodes)\n",
    "stats[\"cways_connected_components_count\"] = nx.number_weakly_connected_components(final_network)\n",
    "stats[\"cways_length_mean\"] = all_cways.apply(lambda f: f[\"geometry\"].length, axis=1).mean()\n",
    "stats[\"cways_length_std\"] = all_cways.apply(lambda f: f[\"geometry\"].length, axis=1).std()\n",
    "\n",
    "# Indicators - basically relative values of stats\n",
    "stats[\"poly_to_edge_ratio\"] = stats[\"areal_poly_count\"] / stats[\"filtered_edges_count\"]\n",
    "stats[\"area_to_length_ratio\"] = stats[\"areal_poly_area_mean\"] / stats[\"filtered_length_mean\"]\n",
    "\n",
    "stats"
   ]
  }
 ],
 "metadata": {
  "kernelspec": {
   "display_name": "Python 3",
   "language": "python",
   "name": "python3"
  },
  "language_info": {
   "codemirror_mode": {
    "name": "ipython",
    "version": 3
   },
   "file_extension": ".py",
   "mimetype": "text/x-python",
   "name": "python",
   "nbconvert_exporter": "python",
   "pygments_lexer": "ipython3",
   "version": "3.9.1-final"
  }
 },
 "nbformat": 4,
 "nbformat_minor": 5
}