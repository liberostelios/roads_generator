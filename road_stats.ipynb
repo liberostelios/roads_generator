{
 "cells": [
  {
   "cell_type": "code",
   "execution_count": 1,
   "id": "official-fleece",
   "metadata": {},
   "outputs": [],
   "source": [
    "initial_network_file = 'data/filtered_network.gpkg'\n",
    "output_file = 'data/output.gpkg'\n",
    "epsg = 32618"
   ]
  },
  {
   "cell_type": "code",
   "execution_count": 2,
   "id": "increased-restoration",
   "metadata": {},
   "outputs": [
    {
     "name": "stderr",
     "output_type": "stream",
     "text": [
      "/home/liberostelios/Development/tudelft3d/roads_generator/venv/lib/python3.9/site-packages/geopandas/geodataframe.py:422: RuntimeWarning: Sequential read of iterator was interrupted. Resetting iterator. This can negatively impact the performance.\n",
      "  for feature in features_lst:\n"
     ]
    }
   ],
   "source": [
    "import geopandas\n",
    "\n",
    "initial_edges = geopandas.read_file(initial_network_file, layer=\"edges\")\n",
    "initial_nodes = geopandas.read_file(initial_network_file, layer=\"nodes\")"
   ]
  },
  {
   "cell_type": "code",
   "execution_count": 3,
   "id": "acting-klein",
   "metadata": {},
   "outputs": [],
   "source": [
    "import osmnx as ox\n",
    "\n",
    "initial_edges = initial_edges.set_index(['u', 'v', 'key'])\n",
    "initial_network = ox.graph_from_gdfs(initial_nodes, initial_edges)"
   ]
  },
  {
   "cell_type": "code",
   "execution_count": 22,
   "id": "reduced-intervention",
   "metadata": {},
   "outputs": [
    {
     "data": {
      "text/plain": [
       "104"
      ]
     },
     "execution_count": 22,
     "metadata": {},
     "output_type": "execute_result"
    }
   ],
   "source": [
    "import networkx as nx\n",
    "\n",
    "nx.number_weakly_connected_components(initial_network)"
   ]
  },
  {
   "cell_type": "code",
   "execution_count": 24,
   "id": "laughing-salem",
   "metadata": {},
   "outputs": [
    {
     "data": {
      "text/plain": [
       "66623"
      ]
     },
     "execution_count": 24,
     "metadata": {},
     "output_type": "execute_result"
    }
   ],
   "source": [
    "len(initial_edges)"
   ]
  },
  {
   "cell_type": "code",
   "execution_count": 23,
   "id": "secret-enemy",
   "metadata": {},
   "outputs": [],
   "source": [
    "roadsAreal = \"\"\n",
    "OSM = \"\"\n",
    "carriageways = \"\"\n",
    "\n",
    "# Area of convex hull\n",
    "# Number of polygons\n",
    "# Number of LoD1 edges\n",
    "# Directionality of LoD1 edges (with graph)\n",
    "# Polygon to LoD1 edge ratio\n",
    "# Polygon area mean + std + median\n",
    "# LoD1 edge length mean + std + median\n",
    "# LoD1 edge total length\n",
    "# LoD1 edge density (total edge length/area)\n",
    "# Area to LoD1 length ratio\n",
    "# Percentage overlap between linear and areal\n",
    "\n",
    "# Road width mean + std + median\n",
    "# Number of dual carriageways + proportion of all roads\n",
    "# Number of LoD2 edges + percentage increase from OSM\n",
    "# LoD2 edges length mean + std + median\n",
    "# LoD2 edge total length\n",
    "# LoD2 edge density (total edge length/area)\n",
    "# Change in length between LoD1 and LoD2\n",
    "\n",
    "# Number of intersections \n",
    "# Intersection Density\n",
    "# Number of edges per node average + std + median + mode\n",
    "# Number of 4 dual carriageways\n",
    "# Number of 3 duals + 1 single\n",
    "# Number of 3 duals\n",
    "# Number of 1 dual + 2 singles\n",
    "# Number of 2 duals + 1 single\n",
    "# Number of dead ends LoD1 + proportion of all nodes\n",
    "# Number of dead ends LoD2 + percentage increase + proportion of all nodes\n",
    "\n",
    "# LoD1 connected components\n",
    "# Percentage of edges in largest CC\n",
    "# LoD2 CC\n",
    "# Percent of edges in largest CC"
   ]
  }
 ],
 "metadata": {
  "kernelspec": {
   "display_name": "Python 3",
   "language": "python",
   "name": "python3"
  },
  "language_info": {
   "codemirror_mode": {
    "name": "ipython",
    "version": 3
   },
   "file_extension": ".py",
   "mimetype": "text/x-python",
   "name": "python",
   "nbconvert_exporter": "python",
   "pygments_lexer": "ipython3",
   "version": "3.9.1"
  }
 },
 "nbformat": 4,
 "nbformat_minor": 5
}
