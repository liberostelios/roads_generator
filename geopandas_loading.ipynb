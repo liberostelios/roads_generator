{
 "cells": [
  {
   "cell_type": "markdown",
   "metadata": {},
   "source": [
    "# Import basic libraries\n",
    "\n",
    "Let's import some basic stuff"
   ]
  },
  {
   "cell_type": "markdown",
   "metadata": {},
   "source": [
    "### Fix for `fiona`\n",
    "\n",
    "*`fiona` has an issue with GDAL 3.0. Better set your `GDAL_DATA` path to fiona's installation (contains GDAL 2.4.4) prior to running this script.*"
   ]
  },
  {
   "cell_type": "code",
   "execution_count": 3,
   "metadata": {},
   "outputs": [],
   "source": [
    "import geopandas\n",
    "import osmnx as ox"
   ]
  },
  {
   "cell_type": "markdown",
   "metadata": {},
   "source": [
    "# Load the OSM data\n",
    "\n",
    "This will load the osm file to a network"
   ]
  },
  {
   "cell_type": "code",
   "execution_count": 4,
   "metadata": {},
   "outputs": [],
   "source": [
    "roads_graph = ox.graph_from_file('../data/Breda/Breda extract.osm', simplify=False)\n",
    "edges = ox.graph_to_gdfs(roads_graph, nodes=False, node_geometry=False)\n",
    "\n",
    "edges = edges.to_crs(\"EPSG:28992\")"
   ]
  },
  {
   "cell_type": "markdown",
   "metadata": {},
   "source": [
    "Investigate"
   ]
  },
  {
   "cell_type": "code",
   "execution_count": 5,
   "metadata": {},
   "outputs": [
    {
     "data": {
      "text/html": [
       "<div>\n",
       "<style scoped>\n",
       "    .dataframe tbody tr th:only-of-type {\n",
       "        vertical-align: middle;\n",
       "    }\n",
       "\n",
       "    .dataframe tbody tr th {\n",
       "        vertical-align: top;\n",
       "    }\n",
       "\n",
       "    .dataframe thead th {\n",
       "        text-align: right;\n",
       "    }\n",
       "</style>\n",
       "<table border=\"1\" class=\"dataframe\">\n",
       "  <thead>\n",
       "    <tr style=\"text-align: right;\">\n",
       "      <th></th>\n",
       "      <th>u</th>\n",
       "      <th>v</th>\n",
       "      <th>key</th>\n",
       "      <th>osmid</th>\n",
       "      <th>name</th>\n",
       "      <th>highway</th>\n",
       "      <th>area</th>\n",
       "      <th>oneway</th>\n",
       "      <th>length</th>\n",
       "      <th>geometry</th>\n",
       "      <th>maxspeed</th>\n",
       "      <th>landuse</th>\n",
       "      <th>service</th>\n",
       "      <th>bridge</th>\n",
       "      <th>access</th>\n",
       "      <th>tunnel</th>\n",
       "      <th>lanes</th>\n",
       "      <th>ref</th>\n",
       "      <th>width</th>\n",
       "    </tr>\n",
       "  </thead>\n",
       "  <tbody>\n",
       "    <tr>\n",
       "      <th>0</th>\n",
       "      <td>689995792</td>\n",
       "      <td>689990659</td>\n",
       "      <td>0</td>\n",
       "      <td>126559191</td>\n",
       "      <td>Havermarkt</td>\n",
       "      <td>pedestrian</td>\n",
       "      <td>yes</td>\n",
       "      <td>False</td>\n",
       "      <td>5.549</td>\n",
       "      <td>LINESTRING (112471.505 400203.536, 112466.591 ...</td>\n",
       "      <td>NaN</td>\n",
       "      <td>NaN</td>\n",
       "      <td>NaN</td>\n",
       "      <td>NaN</td>\n",
       "      <td>NaN</td>\n",
       "      <td>NaN</td>\n",
       "      <td>NaN</td>\n",
       "      <td>NaN</td>\n",
       "      <td>NaN</td>\n",
       "    </tr>\n",
       "    <tr>\n",
       "      <th>1</th>\n",
       "      <td>689995792</td>\n",
       "      <td>689990659</td>\n",
       "      <td>1</td>\n",
       "      <td>267783561</td>\n",
       "      <td>NaN</td>\n",
       "      <td>NaN</td>\n",
       "      <td>NaN</td>\n",
       "      <td>False</td>\n",
       "      <td>5.549</td>\n",
       "      <td>LINESTRING (112471.505 400203.536, 112466.591 ...</td>\n",
       "      <td>NaN</td>\n",
       "      <td>NaN</td>\n",
       "      <td>NaN</td>\n",
       "      <td>NaN</td>\n",
       "      <td>NaN</td>\n",
       "      <td>NaN</td>\n",
       "      <td>NaN</td>\n",
       "      <td>NaN</td>\n",
       "      <td>NaN</td>\n",
       "    </tr>\n",
       "    <tr>\n",
       "      <th>2</th>\n",
       "      <td>689995792</td>\n",
       "      <td>2731861671</td>\n",
       "      <td>0</td>\n",
       "      <td>126559191</td>\n",
       "      <td>Havermarkt</td>\n",
       "      <td>pedestrian</td>\n",
       "      <td>yes</td>\n",
       "      <td>False</td>\n",
       "      <td>5.977</td>\n",
       "      <td>LINESTRING (112471.505 400203.536, 112477.359 ...</td>\n",
       "      <td>NaN</td>\n",
       "      <td>NaN</td>\n",
       "      <td>NaN</td>\n",
       "      <td>NaN</td>\n",
       "      <td>NaN</td>\n",
       "      <td>NaN</td>\n",
       "      <td>NaN</td>\n",
       "      <td>NaN</td>\n",
       "      <td>NaN</td>\n",
       "    </tr>\n",
       "    <tr>\n",
       "      <th>3</th>\n",
       "      <td>689995792</td>\n",
       "      <td>2731861671</td>\n",
       "      <td>1</td>\n",
       "      <td>267778236</td>\n",
       "      <td>NaN</td>\n",
       "      <td>NaN</td>\n",
       "      <td>NaN</td>\n",
       "      <td>False</td>\n",
       "      <td>5.977</td>\n",
       "      <td>LINESTRING (112471.505 400203.536, 112477.359 ...</td>\n",
       "      <td>NaN</td>\n",
       "      <td>NaN</td>\n",
       "      <td>NaN</td>\n",
       "      <td>NaN</td>\n",
       "      <td>NaN</td>\n",
       "      <td>NaN</td>\n",
       "      <td>NaN</td>\n",
       "      <td>NaN</td>\n",
       "      <td>NaN</td>\n",
       "    </tr>\n",
       "    <tr>\n",
       "      <th>4</th>\n",
       "      <td>689995792</td>\n",
       "      <td>2731859065</td>\n",
       "      <td>0</td>\n",
       "      <td>267778236</td>\n",
       "      <td>NaN</td>\n",
       "      <td>NaN</td>\n",
       "      <td>NaN</td>\n",
       "      <td>False</td>\n",
       "      <td>14.574</td>\n",
       "      <td>LINESTRING (112471.505 400203.536, 112472.478 ...</td>\n",
       "      <td>NaN</td>\n",
       "      <td>NaN</td>\n",
       "      <td>NaN</td>\n",
       "      <td>NaN</td>\n",
       "      <td>NaN</td>\n",
       "      <td>NaN</td>\n",
       "      <td>NaN</td>\n",
       "      <td>NaN</td>\n",
       "      <td>NaN</td>\n",
       "    </tr>\n",
       "  </tbody>\n",
       "</table>\n",
       "</div>"
      ],
      "text/plain": [
       "           u           v  key      osmid        name     highway area  oneway  \\\n",
       "0  689995792   689990659    0  126559191  Havermarkt  pedestrian  yes   False   \n",
       "1  689995792   689990659    1  267783561         NaN         NaN  NaN   False   \n",
       "2  689995792  2731861671    0  126559191  Havermarkt  pedestrian  yes   False   \n",
       "3  689995792  2731861671    1  267778236         NaN         NaN  NaN   False   \n",
       "4  689995792  2731859065    0  267778236         NaN         NaN  NaN   False   \n",
       "\n",
       "   length                                           geometry maxspeed landuse  \\\n",
       "0   5.549  LINESTRING (112471.505 400203.536, 112466.591 ...      NaN     NaN   \n",
       "1   5.549  LINESTRING (112471.505 400203.536, 112466.591 ...      NaN     NaN   \n",
       "2   5.977  LINESTRING (112471.505 400203.536, 112477.359 ...      NaN     NaN   \n",
       "3   5.977  LINESTRING (112471.505 400203.536, 112477.359 ...      NaN     NaN   \n",
       "4  14.574  LINESTRING (112471.505 400203.536, 112472.478 ...      NaN     NaN   \n",
       "\n",
       "  service bridge access tunnel lanes  ref width  \n",
       "0     NaN    NaN    NaN    NaN   NaN  NaN   NaN  \n",
       "1     NaN    NaN    NaN    NaN   NaN  NaN   NaN  \n",
       "2     NaN    NaN    NaN    NaN   NaN  NaN   NaN  \n",
       "3     NaN    NaN    NaN    NaN   NaN  NaN   NaN  \n",
       "4     NaN    NaN    NaN    NaN   NaN  NaN   NaN  "
      ]
     },
     "execution_count": 5,
     "metadata": {},
     "output_type": "execute_result"
    }
   ],
   "source": [
    "edges.head()"
   ]
  },
  {
   "cell_type": "markdown",
   "metadata": {},
   "source": [
    "# Load the BGT data"
   ]
  },
  {
   "cell_type": "code",
   "execution_count": 6,
   "metadata": {
    "scrolled": false
   },
   "outputs": [
    {
     "data": {
      "text/plain": [
       "38859"
      ]
     },
     "execution_count": 6,
     "metadata": {},
     "output_type": "execute_result"
    }
   ],
   "source": [
    "bgt_roads = geopandas.read_file('../data/Breda/bgt_roads.geojson')\n",
    "\n",
    "len(bgt_roads)"
   ]
  },
  {
   "cell_type": "markdown",
   "metadata": {},
   "source": [
    "## TODO\n",
    "\n",
    "- Use `touch` operation to assign any \"child\" bgt polygon to the corresponding road (e.g. a `voetpad` that touches a `weg` should take its `gml_id` as parent).\n",
    "- Group parent and its children as semantic surfaces of the same road."
   ]
  },
  {
   "cell_type": "code",
   "execution_count": 46,
   "metadata": {},
   "outputs": [
    {
     "data": {
      "text/plain": [
       "array(['LineString', 'MultiLineString'], dtype=object)"
      ]
     },
     "execution_count": 46,
     "metadata": {},
     "output_type": "execute_result"
    }
   ],
   "source": [
    "pd.unique(bgt_roads['geometry'].boundary.type)"
   ]
  },
  {
   "cell_type": "markdown",
   "metadata": {},
   "source": [
    "# Intersect roads network with polygon\n",
    "First, we intersect the road lines with the BGT polygons (to create nodes at the polygon boundaries):"
   ]
  },
  {
   "cell_type": "code",
   "execution_count": 7,
   "metadata": {},
   "outputs": [],
   "source": [
    "roads = geopandas.overlay(edges, bgt_roads, how='intersection')"
   ]
  },
  {
   "cell_type": "markdown",
   "metadata": {},
   "source": [
    "Then, dissolve the roads by `gml_id` (just to group lines per BGT polygon):"
   ]
  },
  {
   "cell_type": "code",
   "execution_count": 8,
   "metadata": {},
   "outputs": [],
   "source": [
    "roads_dissolved = roads.dissolve(by='gml_id')"
   ]
  },
  {
   "cell_type": "markdown",
   "metadata": {},
   "source": [
    "Export the intersected roads to `GeoJSON`:"
   ]
  },
  {
   "cell_type": "code",
   "execution_count": 10,
   "metadata": {
    "scrolled": true
   },
   "outputs": [],
   "source": [
    "roads_dissolved.to_file('output/roads_dissolved.geojson', driver='GeoJSON')"
   ]
  },
  {
   "cell_type": "markdown",
   "metadata": {},
   "source": [
    "# Export to CityJSON\n",
    "\n",
    "Let's export everything to CityJSON.\n",
    "\n",
    "First, we'll define how the established intersected lines will be translated to `Road` objects:"
   ]
  },
  {
   "cell_type": "code",
   "execution_count": 50,
   "metadata": {},
   "outputs": [],
   "source": [
    "def get_id(feature):\n",
    "    if isinstance(feature['osmid'], list):\n",
    "        return str(feature['osmid'][0])\n",
    "    else:\n",
    "        return str(feature['osmid'])\n",
    "\n",
    "def process_line(line, vertices):\n",
    "    points = [[x, y, 0] for x, y in list(line.coords)]\n",
    "    indices = [i + len(vertices) for i in range(len(points))]\n",
    "    for p in points:\n",
    "        vertices.append(p)\n",
    "    \n",
    "    return indices\n",
    "\n",
    "def process_geometry(geom, vertices):\n",
    "    if geom.type == \"LineString\":\n",
    "        indices = [ process_line(geom, vertices) ]\n",
    "    elif geom.type == \"MultiLineString\":\n",
    "        indices = []\n",
    "        for line in geom.geoms:\n",
    "            indices.append(process_line(line, vertices))\n",
    "    elif geom.type == \"Polygon\":\n",
    "        indices = [process_geometry(geom.boundary, vertices)]\n",
    "    \n",
    "    return indices\n",
    "\n",
    "def create_cityobject(feature, vertices):\n",
    "    indices = process_geometry(feature['geometry'], vertices)\n",
    "\n",
    "    return {\n",
    "        \"type\": \"Road\",\n",
    "        \"attributes\": {\n",
    "            \"osm_id\": feature['osmid']\n",
    "        },\n",
    "        \"geometry\": [\n",
    "            {\n",
    "                \"type\": \"MultiLineString\",\n",
    "                \"lod\": \"0.1\",\n",
    "                \"boundaries\": indices\n",
    "            }\n",
    "        ]\n",
    "    }"
   ]
  },
  {
   "cell_type": "markdown",
   "metadata": {},
   "source": [
    "Now, let's run this against all intersected road segments:"
   ]
  },
  {
   "cell_type": "code",
   "execution_count": 51,
   "metadata": {
    "scrolled": true
   },
   "outputs": [],
   "source": [
    "vertices = []\n",
    "\n",
    "objects = {i: create_cityobject(f, vertices) for i, f in roads_dissolved.iterrows()}\n",
    "\n",
    "for i, f in bgt_roads.iterrows():\n",
    "    if f['gml_id'] in objects:\n",
    "        objects[f['gml_id']]['geometry'].append({\n",
    "            \"type\": \"MultiSurface\",\n",
    "            \"lod\": \"2\",\n",
    "            \"boundaries\": process_geometry(f['geometry'], vertices)\n",
    "        })"
   ]
  },
  {
   "cell_type": "markdown",
   "metadata": {},
   "source": [
    "Finally, let's export everything as CityJSON:"
   ]
  },
  {
   "cell_type": "code",
   "execution_count": 52,
   "metadata": {},
   "outputs": [],
   "source": [
    "import json\n",
    "import io\n",
    "\n",
    "output = {\n",
    "  \"type\": \"CityJSON\",\n",
    "  \"version\": \"1.0\",\n",
    "  \"CityObjects\": objects,\n",
    "  \"vertices\": vertices\n",
    "}\n",
    "\n",
    "with open('output/breda.json', 'w') as file:\n",
    "    json.dump(output, file)"
   ]
  }
 ],
 "metadata": {
  "kernelspec": {
   "display_name": "Python 3",
   "language": "python",
   "name": "python3"
  },
  "language_info": {
   "codemirror_mode": {
    "name": "ipython",
    "version": 3
   },
   "file_extension": ".py",
   "mimetype": "text/x-python",
   "name": "python",
   "nbconvert_exporter": "python",
   "pygments_lexer": "ipython3",
   "version": "3.7.7"
  }
 },
 "nbformat": 4,
 "nbformat_minor": 2
}
