{
 "cells": [
  {
   "cell_type": "code",
   "execution_count": 1,
   "id": "official-fleece",
   "metadata": {},
   "outputs": [],
   "source": [
    "area_name = 'Poznan'\n",
    "output_folder = f'data/{area_name}'\n",
    "\n",
    "output_file = f'{output_folder}/cleaned.gpkg'"
   ]
  },
  {
   "cell_type": "code",
   "execution_count": 2,
   "id": "realistic-sheep",
   "metadata": {},
   "outputs": [],
   "source": [
    "import geopandas\n",
    "import pandas as pd\n",
    "import osmnx as ox\n",
    "import networkx as nx\n",
    "import shapely"
   ]
  },
  {
   "cell_type": "code",
   "execution_count": 3,
   "metadata": {},
   "outputs": [
    {
     "output_type": "stream",
     "name": "stderr",
     "text": [
      "/home/liberostelios/Development/tudelft3d/roads_generator/venv/lib/python3.9/site-packages/geopandas/geodataframe.py:422: RuntimeWarning: Sequential read of iterator was interrupted. Resetting iterator. This can negatively impact the performance.\n  for feature in features_lst:\n"
     ]
    }
   ],
   "source": [
    "final_cways = geopandas.read_file(output_file, layer=\"cleaned\")"
   ]
  },
  {
   "cell_type": "code",
   "execution_count": 4,
   "metadata": {},
   "outputs": [
    {
     "output_type": "execute_result",
     "data": {
      "text/plain": [
       "2177"
      ]
     },
     "metadata": {},
     "execution_count": 4
    }
   ],
   "source": [
    "epsg = final_cways.crs.to_epsg()\n",
    "epsg"
   ]
  },
  {
   "source": [
    "# Recreate the carriageways network"
   ],
   "cell_type": "markdown",
   "metadata": {}
  },
  {
   "cell_type": "code",
   "execution_count": 5,
   "metadata": {},
   "outputs": [],
   "source": [
    "from shapely.geometry import LineString, MultiLineString\n",
    "import numpy as np\n",
    "\n",
    "all_cways = final_cways\n",
    "\n",
    "def fix_precision(geom, decimals=2):\n",
    "    if geom.type == \"LineString\":\n",
    "        return LineString([np.round(p, decimals) for p in geom.coords])\n",
    "    elif geom.type == \"MultiLineString\":\n",
    "        lines = []\n",
    "        for l in geom.geoms:\n",
    "            lines.append(fix_precision(l))\n",
    "        return MultiLineString(lines)\n",
    "\n",
    "def get_lexicographic_boundaries(f):\n",
    "    round_geom = fix_precision(f['geometry'])\n",
    "    \n",
    "    try:\n",
    "        return [str(round_geom.coords[0]), str(round_geom.coords[-1])]\n",
    "    except Exception as e:\n",
    "        print(f['uuid'])\n",
    "        raise e\n",
    "\n",
    "tmp = all_cways.apply(get_lexicographic_boundaries, axis=1)\n",
    "all_cways['u_node'] = [a[0] for a in tmp]\n",
    "all_cways['v_node'] = [a[1] for a in tmp]\n",
    "\n",
    "nodes = set(list(pd.unique(all_cways['u_node'])) + list(pd.unique(all_cways['v_node'])))\n",
    "\n",
    "node_map = {}\n",
    "for uuid, n in enumerate(nodes):\n",
    "    node_map[n] = uuid\n",
    "\n",
    "def get_node_uuid(f):\n",
    "    return [node_map[f['u_node']], node_map[f['v_node']]]\n",
    "\n",
    "tmp = all_cways.apply(get_node_uuid, axis=1)\n",
    "all_cways['u'] = [a[0] for a in tmp]\n",
    "all_cways['v'] = [a[1] for a in tmp]\n",
    "\n",
    "tab = { \"osmid\": [], \"geometry\": [] }\n",
    "for g in node_map:\n",
    "    tab[\"osmid\"].append(node_map[g])\n",
    "    tab[\"geometry\"].append(shapely.wkt.loads(\"POINT{}\".format(g.replace(\",\", \"\"))))\n",
    "\n",
    "cway_nodes = geopandas.GeoDataFrame(tab, geometry=\"geometry\", crs=f\"EPSG:{epsg}\")\n",
    "\n",
    "all_cways[\"geometry\"] = all_cways.apply(lambda f: fix_precision(f[\"geometry\"]), axis=1)\n",
    "\n",
    "final_network = ox.graph_from_gdfs(cway_nodes, all_cways.set_index([\"u\", \"v\", \"key\"]))"
   ]
  },
  {
   "cell_type": "code",
   "execution_count": 6,
   "metadata": {},
   "outputs": [
    {
     "output_type": "execute_result",
     "data": {
      "text/plain": [
       "102510"
      ]
     },
     "metadata": {},
     "execution_count": 6
    }
   ],
   "source": [
    "# Get main weakly connected component as a graph\n",
    "final_network = final_network.subgraph(max(nx.weakly_connected_components(final_network), key=len))\n",
    "\n",
    "len(final_network.edges())"
   ]
  },
  {
   "cell_type": "code",
   "execution_count": 7,
   "metadata": {
    "tags": []
   },
   "outputs": [],
   "source": [
    "from tqdm.notebook import trange, tqdm"
   ]
  },
  {
   "cell_type": "code",
   "execution_count": 8,
   "metadata": {
    "tags": []
   },
   "outputs": [
    {
     "output_type": "display_data",
     "data": {
      "text/plain": "  0%|          | 0/82072 [00:00<?, ?it/s]",
      "application/vnd.jupyter.widget-view+json": {
       "version_major": 2,
       "version_minor": 0,
       "model_id": "949610d6a98248f086f12cb8f9eceb61"
      }
     },
     "metadata": {}
    }
   ],
   "source": [
    "# Find false dead-ends\n",
    "deadend_roads = []\n",
    "\n",
    "for osmid, node_data in tqdm(final_network.nodes(data=True)):\n",
    "    deg = final_network.degree(osmid)\n",
    "    if deg != 1:\n",
    "        continue\n",
    "\n",
    "    road_uuids = [a[\"road_uuid\"] for u, v, a in final_network.in_edges(osmid, data=True)] + [a[\"road_uuid\"] for u, v, a in final_network.out_edges(osmid, data=True)]\n",
    "\n",
    "    uuids = [a[\"cway_uuid\"] for u, v, a in final_network.in_edges(osmid, data=True)] + [a[\"cway_uuid\"] for u, v, a in final_network.out_edges(osmid, data=True)]\n",
    "\n",
    "    is_dual = [a[\"dual\"] for u, v, a in final_network.in_edges(osmid, data=True)] + [a[\"dual\"] for u, v, a in final_network.out_edges(osmid, data=True)]\n",
    "\n",
    "    if not all(is_dual):\n",
    "        continue\n",
    "    \n",
    "    assert len(road_uuids) == 1\n",
    "\n",
    "    road_uuid = road_uuids[0]\n",
    "\n",
    "    for uuid in uuids:\n",
    "        deadend_roads.append({\"cway_uuid\": uuid, \"road_uuid\": road_uuid, \"geometry\": node_data[\"geometry\"]})"
   ]
  },
  {
   "cell_type": "code",
   "execution_count": 9,
   "metadata": {},
   "outputs": [],
   "source": [
    "temp_output = geopandas.GeoDataFrame(deadend_roads, geometry=\"geometry\", crs=epsg)\n",
    "temp_output.to_file(f\"{output_folder}/deadend_roads.gpkg\", driver=\"GPKG\")"
   ]
  },
  {
   "cell_type": "code",
   "execution_count": 10,
   "metadata": {},
   "outputs": [],
   "source": [
    "# Filter for dual carriageways that are dead ends on both sides\n",
    "s = temp_output.groupby(\"road_uuid\")[\"road_uuid\"].count()\n",
    "road_uuids = s[s > 1].index.tolist()\n",
    "len(road_uuids)\n",
    "\n",
    "deadend_cways = temp_output[temp_output[\"road_uuid\"].isin(road_uuids)]"
   ]
  },
  {
   "cell_type": "code",
   "execution_count": 11,
   "metadata": {
    "tags": []
   },
   "outputs": [],
   "source": [
    "from shapely.geometry import Point, LineString\n",
    "\n",
    "cways_to_edit = final_cways[final_cways[\"cway_uuid\"].isin(deadend_cways[\"cway_uuid\"])]\n",
    "\n",
    "new_features = []\n",
    "\n",
    "for road_uuid in road_uuids:\n",
    "    sides = cways_to_edit[cways_to_edit[\"road_uuid\"] == road_uuid]\n",
    "\n",
    "    try:\n",
    "        assert len(sides) == 2\n",
    "        assert len(sides[sides[\"side\"] == 1]) == 1\n",
    "        assert len(sides[sides[\"side\"] == 0]) == 1\n",
    "    except:\n",
    "        print(f\"Weird {road_uuid}. Skipping...\")\n",
    "        continue\n",
    "\n",
    "    n = sides.iloc[0].copy()\n",
    "\n",
    "    left_side = sides[sides[\"side\"] == 1].iloc[0]\n",
    "    right_side = sides[sides[\"side\"] == 0].iloc[0]\n",
    "\n",
    "    # Check if we need to reverse\n",
    "    left_side_point = deadend_cways[deadend_cways[\"cway_uuid\"] == left_side[\"cway_uuid\"]].iloc[0][\"geometry\"]\n",
    "\n",
    "    if left_side_point.distance(Point(left_side[\"geometry\"].coords[-1])) > left_side_point.distance(Point(left_side[\"geometry\"].coords[0])):\n",
    "        left_side, right_side = right_side, left_side\n",
    "\n",
    "    n[\"geometry\"] = LineString([left_side[\"geometry\"].coords[-1], right_side[\"geometry\"].coords[0]])\n",
    "\n",
    "    new_features.append(n)\n",
    "\n",
    "new_df = geopandas.GeoDataFrame(new_features, geometry=\"geometry\", crs=epsg)\n",
    "\n",
    "all_cways = geopandas.GeoDataFrame(pd.concat([final_cways, new_df]), geometry=\"geometry\", crs=epsg)\n",
    "all_cways[\"real_oneway\"] = all_cways.apply(lambda f: \"yes\" if f[\"dual\"] == 1 else f[\"oneway\"], axis=1)\n",
    "\n",
    "all_cways.to_file(f\"{output_folder}/super_final.gpkg\", driver=\"GPKG\")"
   ]
  }
 ],
 "metadata": {
  "kernelspec": {
   "name": "python3",
   "display_name": "Python 3",
   "language": "python"
  },
  "language_info": {
   "codemirror_mode": {
    "name": "ipython",
    "version": 3
   },
   "file_extension": ".py",
   "mimetype": "text/x-python",
   "name": "python",
   "nbconvert_exporter": "python",
   "pygments_lexer": "ipython3",
   "version": "3.9.2-final"
  }
 },
 "nbformat": 4,
 "nbformat_minor": 5
}